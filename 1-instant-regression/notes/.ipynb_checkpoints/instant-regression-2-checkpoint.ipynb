{
 "cells": [
  {
   "cell_type": "markdown",
   "metadata": {},
   "source": [
    "Now to predict how many T-shirt sales will occur for different ad budgets, she decides to use a linear regression model.  Linear Regression is a machine learning model which essentially just draws a line through the data.  She can use a Python library to perform this task for her."
   ]
  },
  {
   "cell_type": "markdown",
   "metadata": {},
   "source": [
    "Sci-Kit Learn, is one of the more popular machine learning libraries.  To get it to perform linear regression on her data, she needs to install the library, use the linear regression model, and then feed in her data.  This way the library can figure out how to draw a line through that data."
   ]
  },
  {
   "cell_type": "markdown",
   "metadata": {},
   "source": [
    "Let's try it."
   ]
  },
  {
   "cell_type": "markdown",
   "metadata": {},
   "source": [
    "First, she installs Sci Kit Learn."
   ]
  },
  {
   "cell_type": "code",
   "execution_count": 1,
   "metadata": {},
   "outputs": [
    {
     "name": "stdout",
     "output_type": "stream",
     "text": [
      "Requirement already satisfied: sklearn in /anaconda3/lib/python3.7/site-packages (0.0)\n",
      "Requirement already satisfied: scikit-learn in /anaconda3/lib/python3.7/site-packages (from sklearn) (0.20.3)\n",
      "Requirement already satisfied: numpy>=1.8.2 in /anaconda3/lib/python3.7/site-packages (from scikit-learn->sklearn) (1.16.2)\n",
      "Requirement already satisfied: scipy>=0.13.3 in /anaconda3/lib/python3.7/site-packages (from scikit-learn->sklearn) (1.2.1)\n"
     ]
    }
   ],
   "source": [
    "!pip install sklearn"
   ]
  },
  {
   "cell_type": "markdown",
   "metadata": {},
   "source": [
    "Then she imports the LinearRegression model create the initial model."
   ]
  },
  {
   "cell_type": "code",
   "execution_count": 2,
   "metadata": {},
   "outputs": [],
   "source": [
    "from sklearn.linear_model import LinearRegression\n",
    "regression = LinearRegression()"
   ]
  },
  {
   "cell_type": "markdown",
   "metadata": {},
   "source": [
    "And then tells the model about the existing data, so that the model can try to detect a pattern in the data.  The library first requires that the input data be placed into a nested list, and then it can be passed through the model."
   ]
  },
  {
   "cell_type": "code",
   "execution_count": 7,
   "metadata": {},
   "outputs": [
    {
     "data": {
      "text/plain": [
       "LinearRegression(copy_X=True, fit_intercept=True, n_jobs=None,\n",
       "         normalize=False)"
      ]
     },
     "execution_count": 7,
     "metadata": {},
     "output_type": "execute_result"
    }
   ],
   "source": [
    "inputs = [800, 1500, 2000, 3500, 4000]\n",
    "outcomes = [330, 780, 1130, 1310, 1780]\n",
    "sklearn_inputs = [\n",
    "    [800], \n",
    "    [1500],\n",
    "    [2000],\n",
    "    [3500],\n",
    "    [4000]\n",
    "]\n",
    "\n",
    "regression.fit(sklearn_inputs, outcomes)"
   ]
  },
  {
   "cell_type": "markdown",
   "metadata": {},
   "source": [
    "Now for any data we would like, it can make predictions for that data.  Let's pass through our original data points of ad budgets of 2000, 3500, and 4000, and see what it would expect the related sales to be."
   ]
  },
  {
   "cell_type": "code",
   "execution_count": 8,
   "metadata": {},
   "outputs": [],
   "source": [
    "predictions = regression.predict(sklearn_inputs)\n",
    "predictionslist = predictions.tolist()"
   ]
  },
  {
   "cell_type": "code",
   "execution_count": null,
   "metadata": {},
   "outputs": [],
   "source": [
    "from graph import trace_values, plot\n",
    "import plotly.plotly as py\n",
    "trace = trace_values(inputs, outcomes)\n",
    "predictions_trace = trace_values(inputs, predictionslist, mode = 'lines', name = 'predictions')\n",
    "py.plot([trace, predictions_trace])"
   ]
  }
 ],
 "metadata": {
  "kernelspec": {
   "display_name": "Python 3",
   "language": "python",
   "name": "python3"
  },
  "language_info": {
   "codemirror_mode": {
    "name": "ipython",
    "version": 3
   },
   "file_extension": ".py",
   "mimetype": "text/x-python",
   "name": "python",
   "nbconvert_exporter": "python",
   "pygments_lexer": "ipython3",
   "version": "3.7.3"
  }
 },
 "nbformat": 4,
 "nbformat_minor": 2
}
