{
 "cells": [
  {
   "cell_type": "markdown",
   "metadata": {},
   "source": [
    "### Our task"
   ]
  },
  {
   "cell_type": "markdown",
   "metadata": {},
   "source": [
    "Let's imagine that we have a data scientist who works for a sportswear retailer.  She wants to determine how much to spend on an ad campaign for t-shirts.  To do this, she would like to predict the the number of t-shirts that will be sold, as the company spends more on advertising.  \n",
    "\n",
    "Notice that this sounds like a task for machine learning.  This is not a problem that we know the underlying logic of but need to discover this logic to make a a prediction."
   ]
  },
  {
   "cell_type": "markdown",
   "metadata": {},
   "source": [
    "### Using Machine Learning"
   ]
  },
  {
   "cell_type": "markdown",
   "metadata": {},
   "source": [
    "Our data scientist already has spending numbers on previous ad campaigns for t-shirts, and wants to use machine learning to discover a pattern between the amount spent on advertising and the related number of sales. \n",
    "\n",
    "|ad spending        | t-shirts           \n",
    "| ------------- |:-------------:| \n",
    "|    800        | 330  | \n",
    "|    1500        |780 | \n",
    "|    2000      | 1130 | \n",
    "|    3500      | 1310 | \n",
    "|    4000      | 1780 | "
   ]
  },
  {
   "cell_type": "markdown",
   "metadata": {},
   "source": [
    "She first translates this into lists of data for both ad spending and t-shirts."
   ]
  },
  {
   "cell_type": "code",
   "execution_count": 2,
   "metadata": {},
   "outputs": [],
   "source": [
    "inputs = [800, 1500, 2000, 3500, 4000]\n",
    "outcomes = [330, 780, 1130, 1310, 1780]"
   ]
  },
  {
   "cell_type": "markdown",
   "metadata": {},
   "source": [
    "And then plots this list."
   ]
  },
  {
   "cell_type": "code",
   "execution_count": 4,
   "metadata": {},
   "outputs": [
    {
     "data": {
      "application/vnd.plotly.v1+json": {
       "config": {
        "linkText": "Export to plot.ly",
        "plotlyServerURL": "https://plot.ly",
        "showLink": false
       },
       "data": [
        {
         "mode": "markers",
         "name": "data",
         "text": [],
         "type": "scatter",
         "uid": "d0e2d4ab-9514-4a57-8a4d-2781b2e7141c",
         "x": [
          800,
          1500,
          2000,
          3500,
          4000
         ],
         "y": [
          330,
          780,
          1130,
          1310,
          1780
         ]
        }
       ],
       "layout": {
        "autosize": true,
        "xaxis": {
         "autorange": true,
         "range": [
          603.9473684210526,
          4196.0526315789475
         ],
         "type": "linear"
        },
        "yaxis": {
         "autorange": true,
         "range": [
          223.78980891719743,
          1886.2101910828026
         ],
         "type": "linear"
        }
       }
      },
      "image/png": "[encoded data removed]",
      "text/html": [
       "<div id=\"47fe89b8-b3bf-4431-8c02-86a6b0bf58d9\" style=\"height: 525px; width: 100%;\" class=\"plotly-graph-div\"></div><script type=\"text/javascript\">require([\"plotly\"], function(Plotly) { window.PLOTLYENV=window.PLOTLYENV || {};window.PLOTLYENV.BASE_URL=\"https://plot.ly\";Plotly.newPlot(\"47fe89b8-b3bf-4431-8c02-86a6b0bf58d9\", [{\"mode\": \"markers\", \"name\": \"data\", \"text\": [], \"x\": [800, 1500, 2000, 3500, 4000], \"y\": [330, 780, 1130, 1310, 1780], \"type\": \"scatter\", \"uid\": \"7cac6432-690a-4ab2-ad91-62782e9e50b8\"}], {}, {\"showLink\": false, \"linkText\": \"Export to plot.ly\", \"plotlyServerURL\": \"https://plot.ly\"})});</script><script type=\"text/javascript\">window.addEventListener(\"resize\", function(){window._Plotly.Plots.resize(document.getElementById(\"47fe89b8-b3bf-4431-8c02-86a6b0bf58d9\"));});</script>"
      ],
      "text/vnd.plotly.v1+html": [
       "<div id=\"47fe89b8-b3bf-4431-8c02-86a6b0bf58d9\" style=\"height: 525px; width: 100%;\" class=\"plotly-graph-div\"></div><script type=\"text/javascript\">require([\"plotly\"], function(Plotly) { window.PLOTLYENV=window.PLOTLYENV || {};window.PLOTLYENV.BASE_URL=\"https://plot.ly\";Plotly.newPlot(\"47fe89b8-b3bf-4431-8c02-86a6b0bf58d9\", [{\"mode\": \"markers\", \"name\": \"data\", \"text\": [], \"x\": [800, 1500, 2000, 3500, 4000], \"y\": [330, 780, 1130, 1310, 1780], \"type\": \"scatter\", \"uid\": \"7cac6432-690a-4ab2-ad91-62782e9e50b8\"}], {}, {\"showLink\": false, \"linkText\": \"Export to plot.ly\", \"plotlyServerURL\": \"https://plot.ly\"})});</script><script type=\"text/javascript\">window.addEventListener(\"resize\", function(){window._Plotly.Plots.resize(document.getElementById(\"47fe89b8-b3bf-4431-8c02-86a6b0bf58d9\"));});</script>"
      ]
     },
     "metadata": {},
     "output_type": "display_data"
    }
   ],
   "source": [
    "from graph import trace_values, plot\n",
    "import plotly.plotly as py\n",
    "trace = trace_values(inputs, outcomes)\n",
    "py.plot([trace], auto_open = True)\n",
    "plot([trace])"
   ]
  },
  {
   "cell_type": "markdown",
   "metadata": {},
   "source": [
    "Now to predict how many T-shirt sales will occur for different ad budgets, she decides to use a linear regression model.  Linear Regression is a machine learning model which essentially just draws a line through the data.  She can use a Python library to perform this task for her."
   ]
  },
  {
   "cell_type": "markdown",
   "metadata": {},
   "source": [
    "### Using Sci-Kit Learn"
   ]
  },
  {
   "cell_type": "markdown",
   "metadata": {},
   "source": [
    "Sci-Kit Learn, is one of the more popular machine learning libraries.  To get it to perform linear regression on her data, she needs to install the library, use the linear regression model, and then feed in her data.  This way the library can figure out how to draw a line through that data."
   ]
  },
  {
   "cell_type": "markdown",
   "metadata": {},
   "source": [
    "Let's try it."
   ]
  },
  {
   "cell_type": "markdown",
   "metadata": {},
   "source": [
    "First, she installs Sci Kit Learn."
   ]
  },
  {
   "cell_type": "code",
   "execution_count": 3,
   "metadata": {},
   "outputs": [
    {
     "name": "stdout",
     "output_type": "stream",
     "text": [
      "Requirement already satisfied: sklearn in /Users/jeff/anaconda3/lib/python3.7/site-packages (0.0)\n",
      "Requirement already satisfied: scikit-learn in /Users/jeff/anaconda3/lib/python3.7/site-packages (from sklearn) (0.19.2)\n",
      "\u001b[33mYou are using pip version 18.1, however version 19.1.1 is available.\n",
      "You should consider upgrading via the 'pip install --upgrade pip' command.\u001b[0m\n"
     ]
    }
   ],
   "source": [
    "!pip install sklearn"
   ]
  },
  {
   "cell_type": "markdown",
   "metadata": {},
   "source": [
    "Then she imports the LinearRegression model create the initial model."
   ]
  },
  {
   "cell_type": "code",
   "execution_count": 64,
   "metadata": {},
   "outputs": [],
   "source": [
    "from sklearn.linear_model import LinearRegression\n",
    "regression = LinearRegression()"
   ]
  },
  {
   "cell_type": "markdown",
   "metadata": {},
   "source": [
    "And then tells the model about the existing data, so that the model can try to detect a pattern in the data.  The library first requires that the input data be placed into a nested list, and then it can be passed through the model."
   ]
  },
  {
   "cell_type": "code",
   "execution_count": 65,
   "metadata": {},
   "outputs": [
    {
     "data": {
      "text/plain": [
       "LinearRegression(copy_X=True, fit_intercept=True, n_jobs=1, normalize=False)"
      ]
     },
     "execution_count": 65,
     "metadata": {},
     "output_type": "execute_result"
    }
   ],
   "source": [
    "# inputs = [800, 1500, 2000, 3500, 4000]\n",
    "sklearn_inputs = [\n",
    "    [800], \n",
    "    [1500],\n",
    "    [2000],\n",
    "    [3500],\n",
    "    [4000]\n",
    "]\n",
    "\n",
    "regression.fit(sklearn_inputs, outcomes)"
   ]
  },
  {
   "cell_type": "markdown",
   "metadata": {},
   "source": [
    "Now for any data we would like, it can make predictions for that data.  Let's pass through our original data points of ad budgets of 2000, 3500, and 4000, and see what it would expect the related sales to be."
   ]
  },
  {
   "cell_type": "code",
   "execution_count": 66,
   "metadata": {},
   "outputs": [],
   "source": [
    "predictions = regression.predict(sklearn_inputs)\n",
    "predictionslist = predictions.tolist()"
   ]
  },
  {
   "cell_type": "code",
   "execution_count": 68,
   "metadata": {},
   "outputs": [
    {
     "data": {
      "application/vnd.plotly.v1+json": {
       "config": {
        "linkText": "Export to plot.ly",
        "plotlyServerURL": "https://plot.ly",
        "showLink": false
       },
       "data": [
        {
         "mode": "markers",
         "name": "data",
         "text": [],
         "type": "scatter",
         "uid": "d4e6f193-029b-460d-a7bd-5c282c9701df",
         "x": [
          800,
          1500,
          2000,
          3500,
          4000
         ],
         "y": [
          330,
          780,
          1130,
          1310,
          1780
         ]
        },
        {
         "mode": "lines",
         "name": "predictions",
         "text": [],
         "type": "scatter",
         "uid": "2262f579-d7c1-4560-91c4-48a2a71df4e8",
         "x": [
          800,
          1500,
          2000,
          3500,
          4000
         ],
         "y": [
          462.66593527153043,
          733.3927591881514,
          926.7690619857378,
          1506.8979703784971,
          1700.2742731760836
         ]
        }
       ],
       "layout": {
        "autosize": true,
        "xaxis": {
         "autorange": true,
         "range": [
          602.6172621673284,
          4197.382737832671
         ],
         "type": "linear"
        },
        "yaxis": {
         "autorange": true,
         "range": [
          223.78980891719743,
          1886.2101910828026
         ],
         "type": "linear"
        }
       }
      },
      "image/png": "[encoded data removed]",
      "text/html": [
       "<div id=\"134e4bfb-b264-49b4-9ae0-62d84d8d86ea\" style=\"height: 525px; width: 100%;\" class=\"plotly-graph-div\"></div><script type=\"text/javascript\">require([\"plotly\"], function(Plotly) { window.PLOTLYENV=window.PLOTLYENV || {};window.PLOTLYENV.BASE_URL=\"https://plot.ly\";Plotly.newPlot(\"134e4bfb-b264-49b4-9ae0-62d84d8d86ea\", [{\"mode\": \"markers\", \"name\": \"data\", \"text\": [], \"x\": [800, 1500, 2000, 3500, 4000], \"y\": [330, 780, 1130, 1310, 1780], \"type\": \"scatter\", \"uid\": \"fabd67d5-d2b8-479a-bfc5-49a8d880319c\"}, {\"mode\": \"lines\", \"name\": \"predictions\", \"text\": [], \"x\": [800, 1500, 2000, 3500, 4000], \"y\": [462.66593527153043, 733.3927591881514, 926.7690619857378, 1506.8979703784971, 1700.2742731760836], \"type\": \"scatter\", \"uid\": \"72e026b8-90e6-40b0-af56-3c9a7ef8c6b3\"}], {}, {\"showLink\": false, \"linkText\": \"Export to plot.ly\", \"plotlyServerURL\": \"https://plot.ly\"})});</script><script type=\"text/javascript\">window.addEventListener(\"resize\", function(){window._Plotly.Plots.resize(document.getElementById(\"134e4bfb-b264-49b4-9ae0-62d84d8d86ea\"));});</script>"
      ],
      "text/vnd.plotly.v1+html": [
       "<div id=\"134e4bfb-b264-49b4-9ae0-62d84d8d86ea\" style=\"height: 525px; width: 100%;\" class=\"plotly-graph-div\"></div><script type=\"text/javascript\">require([\"plotly\"], function(Plotly) { window.PLOTLYENV=window.PLOTLYENV || {};window.PLOTLYENV.BASE_URL=\"https://plot.ly\";Plotly.newPlot(\"134e4bfb-b264-49b4-9ae0-62d84d8d86ea\", [{\"mode\": \"markers\", \"name\": \"data\", \"text\": [], \"x\": [800, 1500, 2000, 3500, 4000], \"y\": [330, 780, 1130, 1310, 1780], \"type\": \"scatter\", \"uid\": \"fabd67d5-d2b8-479a-bfc5-49a8d880319c\"}, {\"mode\": \"lines\", \"name\": \"predictions\", \"text\": [], \"x\": [800, 1500, 2000, 3500, 4000], \"y\": [462.66593527153043, 733.3927591881514, 926.7690619857378, 1506.8979703784971, 1700.2742731760836], \"type\": \"scatter\", \"uid\": \"72e026b8-90e6-40b0-af56-3c9a7ef8c6b3\"}], {}, {\"showLink\": false, \"linkText\": \"Export to plot.ly\", \"plotlyServerURL\": \"https://plot.ly\"})});</script><script type=\"text/javascript\">window.addEventListener(\"resize\", function(){window._Plotly.Plots.resize(document.getElementById(\"134e4bfb-b264-49b4-9ae0-62d84d8d86ea\"));});</script>"
      ]
     },
     "metadata": {},
     "output_type": "display_data"
    }
   ],
   "source": [
    "from graph import trace_values, plot\n",
    "trace = trace_values(inputs, outcomes)\n",
    "predictions_trace = trace_values(inputs, predictionslist, mode = 'lines', name = 'predictions')\n",
    "plot([trace, predictions_trace])"
   ]
  },
  {
   "cell_type": "markdown",
   "metadata": {},
   "source": [
    "Notice that this does quite a good job of drawing a line through our data.  And the data scientist can plug in whatever ad spending budget she wants to find the corresponding prediction.  For example, below we'll see the predicted sales for 5000."
   ]
  },
  {
   "cell_type": "code",
   "execution_count": 69,
   "metadata": {},
   "outputs": [
    {
     "data": {
      "text/plain": [
       "array([2087.02687877])"
      ]
     },
     "execution_count": 69,
     "metadata": {},
     "output_type": "execute_result"
    }
   ],
   "source": [
    "regression.predict(5000)"
   ]
  },
  {
   "cell_type": "markdown",
   "metadata": {},
   "source": [
    "Moreover, if she wants to see the general relationship between spending and sales she can do that too."
   ]
  },
  {
   "cell_type": "code",
   "execution_count": 70,
   "metadata": {},
   "outputs": [
    {
     "data": {
      "text/plain": [
       "array([0.38675261])"
      ]
     },
     "execution_count": 70,
     "metadata": {},
     "output_type": "execute_result"
    }
   ],
   "source": [
    "regression.coef_"
   ]
  },
  {
   "cell_type": "code",
   "execution_count": 71,
   "metadata": {},
   "outputs": [
    {
     "data": {
      "text/plain": [
       "153.26385079539216"
      ]
     },
     "execution_count": 71,
     "metadata": {},
     "output_type": "execute_result"
    }
   ],
   "source": [
    "regression.intercept_"
   ]
  },
  {
   "cell_type": "markdown",
   "metadata": {},
   "source": [
    "So from the above method calls she can see that every additional dollar spent on advertising leads to an increase of .38 number of T-shirts sold, or in other words it takes about three dollars to sell an additional T-shirt.  The model also tells her that if the advertising budget were zero, the company would sell roughly 153 T-shirts."
   ]
  },
  {
   "cell_type": "markdown",
   "metadata": {},
   "source": [
    "### Time for questions"
   ]
  },
  {
   "cell_type": "markdown",
   "metadata": {},
   "source": [
    "Now at this point we should have a number of questions.  What does `coef_` and `intercept_` mean, and how do they tell her this information?  Do these numbers have anything to do with the orange line above?  And what happens when our linear regression model calls `fit`?  Let's answer each of these questions in the following lessons.  "
   ]
  }
 ],
 "metadata": {
  "kernelspec": {
   "display_name": "Python 3",
   "language": "python",
   "name": "python3"
  },
  "language_info": {
   "codemirror_mode": {
    "name": "ipython",
    "version": 3
   },
   "file_extension": ".py",
   "mimetype": "text/x-python",
   "name": "python",
   "nbconvert_exporter": "python",
   "pygments_lexer": "ipython3",
   "version": "3.7.0"
  }
 },
 "nbformat": 4,
 "nbformat_minor": 2
}
