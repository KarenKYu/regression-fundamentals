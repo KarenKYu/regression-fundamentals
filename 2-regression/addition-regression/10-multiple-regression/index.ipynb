{
 "cells": [
  {
   "cell_type": "markdown",
   "metadata": {},
   "source": [
    "# Machine Learning with a Library"
   ]
  },
  {
   "cell_type": "markdown",
   "metadata": {},
   "source": [
    "### Introduction"
   ]
  },
  {
   "cell_type": "markdown",
   "metadata": {},
   "source": [
    "In the last number of lessons, we have been built a simple linear regression machine learning.  We did so using the three components of any machine learning algorithm: first with choosing a prediction model, then fitting the model, and finally using the model to predict future data.\n",
    "\n",
    "1. Our **prediction model** was simply a line, or a function, that given an input predicted an output.  In our example of basketball shooting, given a shooting angle, the model predicted a distance.  \n",
    "\n",
    "2. We **fit** the model by comparing our model against the actual data.  We do this by calculating the difference between our actual data and the value that our model predicts -- this difference is called the error.  Then we square each of those errors and add up the these squared errors.  \n",
    "\n",
    "3. Now we can **predict** new outputs with our fitted model.  For example, we could predict amounts for temperatures that we never saw before."
   ]
  },
  {
   "cell_type": "markdown",
   "metadata": {},
   "source": [
    "### Using a machine learning library"
   ]
  },
  {
   "cell_type": "markdown",
   "metadata": {},
   "source": [
    "Now wouldn't it be nice if, instead of writing these algorithms from scratch, we could use a tool to do these for us?  Well we can."
   ]
  },
  {
   "cell_type": "markdown",
   "metadata": {},
   "source": [
    "<img src=\"./scikitlearn.png\" >"
   ]
  },
  {
   "cell_type": "markdown",
   "metadata": {},
   "source": [
    "Scikit learn is an excellent tool for running machine learning algorithms.  Let's get going."
   ]
  },
  {
   "cell_type": "markdown",
   "metadata": {},
   "source": [
    "Our first step, of course, is to install the library."
   ]
  },
  {
   "cell_type": "code",
   "execution_count": 2,
   "metadata": {},
   "outputs": [
    {
     "name": "stdout",
     "output_type": "stream",
     "text": [
      "Requirement already satisfied: sklearn in /Users/jeff/anaconda3/lib/python3.7/site-packages (0.0)\n",
      "Requirement already satisfied: scikit-learn in /Users/jeff/anaconda3/lib/python3.7/site-packages (from sklearn) (0.19.2)\n",
      "\u001b[33mYou are using pip version 18.1, however version 19.0.3 is available.\n",
      "You should consider upgrading via the 'pip install --upgrade pip' command.\u001b[0m\n"
     ]
    }
   ],
   "source": [
    "!pip install sklearn"
   ]
  },
  {
   "cell_type": "markdown",
   "metadata": {},
   "source": [
    "> Press shift + enter to ensure that the library is installed."
   ]
  },
  {
   "cell_type": "markdown",
   "metadata": {},
   "source": [
    "Then we do the following."
   ]
  },
  {
   "cell_type": "code",
   "execution_count": 1,
   "metadata": {},
   "outputs": [],
   "source": [
    "import sklearn"
   ]
  },
  {
   "cell_type": "markdown",
   "metadata": {},
   "source": [
    "Now that we have this library, let's import the linear regression model."
   ]
  },
  {
   "cell_type": "markdown",
   "metadata": {},
   "source": [
    "## Going through our three steps"
   ]
  },
  {
   "cell_type": "markdown",
   "metadata": {},
   "source": [
    "Now that we have downloaded the `scikitlearn` library, and imported the library it is time to follow our three step process of (1) creating an initial model, (2) fitting the model and (3) then fitting the model to make new predictions."
   ]
  },
  {
   "cell_type": "markdown",
   "metadata": {},
   "source": [
    "### 1. Creating an initial model"
   ]
  },
  {
   "cell_type": "markdown",
   "metadata": {},
   "source": [
    "In our introduction to machine learning lesson, we created an initial model simply by writing a function that takes an input and predicts an output.  "
   ]
  },
  {
   "cell_type": "code",
   "execution_count": 2,
   "metadata": {},
   "outputs": [],
   "source": [
    "def predicted_distance(angle):\n",
    "    return 12 + 5*angle "
   ]
  },
  {
   "cell_type": "markdown",
   "metadata": {},
   "source": [
    "Now when working with scikitlearn we also create an initial model, but we do so by using the `LinearRegression` function from the scikitlearn library.\n",
    "\n",
    "So first we import the `LinearRegression` function."
   ]
  },
  {
   "cell_type": "code",
   "execution_count": 3,
   "metadata": {},
   "outputs": [],
   "source": [
    "from sklearn.linear_model import LinearRegression"
   ]
  },
  {
   "cell_type": "markdown",
   "metadata": {},
   "source": [
    "And now we can create our initial model."
   ]
  },
  {
   "cell_type": "code",
   "execution_count": 4,
   "metadata": {},
   "outputs": [],
   "source": [
    "linear_regression = LinearRegression()"
   ]
  },
  {
   "cell_type": "markdown",
   "metadata": {},
   "source": [
    "This model is fairly abstract at this point.  And admittedly difficult to understand.  But the big takeaway is that it's pretty similar to a dictionary.  As you can see, it has key value pairs just like a dictionary does.  "
   ]
  },
  {
   "cell_type": "code",
   "execution_count": 9,
   "metadata": {},
   "outputs": [
    {
     "data": {
      "text/plain": [
       "LinearRegression(copy_X=True, fit_intercept=True, n_jobs=1, normalize=False)"
      ]
     },
     "execution_count": 9,
     "metadata": {},
     "output_type": "execute_result"
    }
   ],
   "source": [
    "linear_regression"
   ]
  },
  {
   "cell_type": "markdown",
   "metadata": {},
   "source": [
    "It's ok that we don't understand what these key value pairs mean, we will in time.  Right now let's focus on the fact that we were able to build an initial linear regression model with the lines:\n",
    "\n",
    "```python\n",
    "from sklearn.linear_model import LinearRegression\n",
    "linear_regression = LinearRegression()\n",
    "```\n",
    "\n",
    "And now that we have an initial model, we are ready to move onto step 2: fitting our model to the data."
   ]
  },
  {
   "cell_type": "markdown",
   "metadata": {},
   "source": [
    "### 2. Fit the model with the actual data"
   ]
  },
  {
   "cell_type": "markdown",
   "metadata": {},
   "source": [
    "Now that we have initialized our model with the code `linear_regression = LinearRegression()`, it is now time to pass through some data into this model so what we can fit the model.  In the last lesson, we saw how we can fit the model by choosing parameters that minimize the error of our function."
   ]
  },
  {
   "cell_type": "markdown",
   "metadata": {},
   "source": [
    "Here we do the same thing, and we do so by passing the data into our model, so that the linear regression model can then adjust the parameters to fit to this data."
   ]
  },
  {
   "cell_type": "markdown",
   "metadata": {},
   "source": [
    "| temperature        | actual customers           \n",
    "| ------------- |:-------------:| \n",
    "|    80       | 120 | \n",
    "|    65        | 100 | \n",
    "|    50        | 85 | \n",
    "|    70        | 100 | \n",
    "|    60        | 90 | \n"
   ]
  },
  {
   "cell_type": "markdown",
   "metadata": {},
   "source": [
    "Now remember that the shooting angles are the inputs and that each angle leads to an output of a distance.  Ok, so we may like to simply pass through these inputs and outputs as two lists to our model.  And out model has a `fit` method to do precisely that."
   ]
  },
  {
   "cell_type": "code",
   "execution_count": 17,
   "metadata": {},
   "outputs": [],
   "source": [
    "temperatures = [80, 65, 50, 70, 60]\n",
    "amounts = [120, 100, 85, 100, 90]"
   ]
  },
  {
   "cell_type": "markdown",
   "metadata": {},
   "source": [
    "However `scikitlearn` requires our input data to be in a specific format.  It wants us to organize the data associated with our inpepdendent variables like so:"
   ]
  },
  {
   "cell_type": "code",
   "execution_count": 11,
   "metadata": {},
   "outputs": [],
   "source": [
    "inputs = [[80], [65], [50], [70], [60]]"
   ]
  },
  {
   "cell_type": "markdown",
   "metadata": {},
   "source": [
    "The output data can stay the same."
   ]
  },
  {
   "cell_type": "code",
   "execution_count": 12,
   "metadata": {},
   "outputs": [],
   "source": [
    "customers = [120, 100, 85, 100, 90]"
   ]
  },
  {
   "cell_type": "markdown",
   "metadata": {},
   "source": [
    "> We'll explain why our input data needs to be in this format in a couple of lessons.  For now, let's just go with it."
   ]
  },
  {
   "cell_type": "markdown",
   "metadata": {},
   "source": [
    "Ok, now that we know the format for our data, the next thing to do is to fit our linear model to the data.  We do this by using the `fit` method on our linear model and passing through the data in the proper format."
   ]
  },
  {
   "cell_type": "code",
   "execution_count": 13,
   "metadata": {},
   "outputs": [
    {
     "data": {
      "text/plain": [
       "LinearRegression(copy_X=True, fit_intercept=True, n_jobs=1, normalize=False)"
      ]
     },
     "execution_count": 13,
     "metadata": {},
     "output_type": "execute_result"
    }
   ],
   "source": [
    "# nested list for the inputs\n",
    "inputs = [\n",
    "    [80], \n",
    "    [65], \n",
    "    [50], \n",
    "    [70], \n",
    "    [60]\n",
    "]\n",
    "\n",
    "# single list for the outputs\n",
    "outputs = [120, 100, 85, 100, 90]\n",
    "\n",
    "linear_regression.fit(inputs, outputs)"
   ]
  },
  {
   "cell_type": "markdown",
   "metadata": {},
   "source": [
    "### 3. Viewing our trained model"
   ]
  },
  {
   "cell_type": "markdown",
   "metadata": {},
   "source": [
    "Believe it or not with that line there at the end, we have fit our model to our data.  Here we'll prove it.  Remember in our simple linear regression model we have two components: our intercept and our coefficient.  \n",
    "\n",
    "Let's start with our intercept."
   ]
  },
  {
   "cell_type": "code",
   "execution_count": 14,
   "metadata": {},
   "outputs": [
    {
     "data": {
      "text/plain": [
       "24.25"
      ]
     },
     "execution_count": 14,
     "metadata": {},
     "output_type": "execute_result"
    }
   ],
   "source": [
    "linear_regression.intercept_"
   ]
  },
  {
   "cell_type": "markdown",
   "metadata": {},
   "source": [
    "Now for our coefficient."
   ]
  },
  {
   "cell_type": "code",
   "execution_count": 15,
   "metadata": {},
   "outputs": [
    {
     "data": {
      "text/plain": [
       "array([1.15])"
      ]
     },
     "execution_count": 15,
     "metadata": {},
     "output_type": "execute_result"
    }
   ],
   "source": [
    "linear_regression.coef_"
   ]
  },
  {
   "cell_type": "markdown",
   "metadata": {},
   "source": [
    "Remember that these numbers fit into our general formula of $y = mx + b$ where our $m$ is our coefficient and $b$ is our intercept.  So really what we learned is that when we fit a model to our data, we found a best fit line of $y = 1.15x + 24.5 $. "
   ]
  },
  {
   "cell_type": "markdown",
   "metadata": {},
   "source": [
    "Let's plot this our data and our line as we did previously."
   ]
  },
  {
   "cell_type": "code",
   "execution_count": 18,
   "metadata": {},
   "outputs": [
    {
     "data": {
      "application/vnd.plotly.v1+json": {
       "config": {
        "linkText": "Export to plot.ly",
        "plotlyServerURL": "https://plot.ly",
        "showLink": false
       },
       "data": [
        {
         "mode": "markers",
         "name": "actual",
         "text": [],
         "type": "scatter",
         "uid": "bb3b450c-6ae7-4977-9efb-35037d982305",
         "x": [
          80,
          65,
          50,
          70,
          60
         ],
         "y": [
          120,
          100,
          85,
          100,
          90
         ]
        },
        {
         "mode": "lines",
         "name": "expected",
         "text": [],
         "type": "scatter",
         "uid": "71e84206-e9e3-4208-98eb-5815bfaad290",
         "x": [
          80,
          65,
          50,
          70,
          60
         ],
         "y": [
          116.5,
          99.25,
          82,
          105,
          93.5
         ]
        }
       ],
       "layout": {
        "autosize": true,
        "xaxis": {
         "autorange": true,
         "range": [
          48.084279736999406,
          81.9157202630006
         ],
         "title": {
          "text": "temperature"
         },
         "type": "linear"
        },
        "yaxis": {
         "autorange": true,
         "range": [
          79.85579937304075,
          122.7398119122257
         ],
         "title": {
          "text": "customers"
         },
         "type": "linear"
        }
       }
      },
      "image/png": "[encoded data removed]",
      "text/html": [
       "<div id=\"33ffc089-427c-48e0-bfc5-ce81d2113b07\" style=\"height: 525px; width: 100%;\" class=\"plotly-graph-div\"></div><script type=\"text/javascript\">require([\"plotly\"], function(Plotly) { window.PLOTLYENV=window.PLOTLYENV || {};window.PLOTLYENV.BASE_URL=\"https://plot.ly\";Plotly.newPlot(\"33ffc089-427c-48e0-bfc5-ce81d2113b07\", [{\"mode\": \"markers\", \"name\": \"actual\", \"text\": [], \"x\": [80, 65, 50, 70, 60], \"y\": [120, 100, 85, 100, 90], \"type\": \"scatter\", \"uid\": \"c7765d3e-1a23-4184-9957-b5c2eb460a65\"}, {\"mode\": \"lines\", \"name\": \"expected\", \"text\": [], \"x\": [80, 65, 50, 70, 60], \"y\": [116.5, 99.25, 82.0, 105.0, 93.5], \"type\": \"scatter\", \"uid\": \"51e97597-c03b-4c83-ba91-d3e23ad7048b\"}], {\"xaxis\": {\"title\": {\"text\": \"temperature\"}}, \"yaxis\": {\"title\": {\"text\": \"customers\"}}}, {\"showLink\": false, \"linkText\": \"Export to plot.ly\", \"plotlyServerURL\": \"https://plot.ly\"})});</script><script type=\"text/javascript\">window.addEventListener(\"resize\", function(){window._Plotly.Plots.resize(document.getElementById(\"33ffc089-427c-48e0-bfc5-ce81d2113b07\"));});</script>"
      ],
      "text/vnd.plotly.v1+html": [
       "<div id=\"33ffc089-427c-48e0-bfc5-ce81d2113b07\" style=\"height: 525px; width: 100%;\" class=\"plotly-graph-div\"></div><script type=\"text/javascript\">require([\"plotly\"], function(Plotly) { window.PLOTLYENV=window.PLOTLYENV || {};window.PLOTLYENV.BASE_URL=\"https://plot.ly\";Plotly.newPlot(\"33ffc089-427c-48e0-bfc5-ce81d2113b07\", [{\"mode\": \"markers\", \"name\": \"actual\", \"text\": [], \"x\": [80, 65, 50, 70, 60], \"y\": [120, 100, 85, 100, 90], \"type\": \"scatter\", \"uid\": \"c7765d3e-1a23-4184-9957-b5c2eb460a65\"}, {\"mode\": \"lines\", \"name\": \"expected\", \"text\": [], \"x\": [80, 65, 50, 70, 60], \"y\": [116.5, 99.25, 82.0, 105.0, 93.5], \"type\": \"scatter\", \"uid\": \"51e97597-c03b-4c83-ba91-d3e23ad7048b\"}], {\"xaxis\": {\"title\": {\"text\": \"temperature\"}}, \"yaxis\": {\"title\": {\"text\": \"customers\"}}}, {\"showLink\": false, \"linkText\": \"Export to plot.ly\", \"plotlyServerURL\": \"https://plot.ly\"})});</script><script type=\"text/javascript\">window.addEventListener(\"resize\", function(){window._Plotly.Plots.resize(document.getElementById(\"33ffc089-427c-48e0-bfc5-ce81d2113b07\"));});</script>"
      ]
     },
     "metadata": {},
     "output_type": "display_data"
    }
   ],
   "source": [
    "from graph import trace_values, plot\n",
    "data_trace = trace_values(temperatures, amounts, name = 'actual')\n",
    "predicted_amounts = list(map(lambda temperature: 1.15*temperature + 24.5,temperatures))\n",
    "model_trace = trace_values(temperatures, predicted_amounts, name = 'expected', mode = 'lines')\n",
    "\n",
    "layout = {'yaxis': {'title': 'customers'}, 'xaxis': {'title': 'temperature'}}\n",
    "plot([data_trace, model_trace], layout = layout)"
   ]
  },
  {
   "cell_type": "markdown",
   "metadata": {},
   "source": [
    "It looks like our model did a pretty good job."
   ]
  },
  {
   "cell_type": "markdown",
   "metadata": {},
   "source": [
    "### 4. Predicting new distances"
   ]
  },
  {
   "cell_type": "markdown",
   "metadata": {},
   "source": [
    "Now to plot the line above, what we did was to plug in different values into our formula, and then plot this as a line."
   ]
  },
  {
   "cell_type": "code",
   "execution_count": 20,
   "metadata": {},
   "outputs": [
    {
     "data": {
      "text/plain": [
       "[116.5, 99.25, 82.0, 105.0, 93.5]"
      ]
     },
     "execution_count": 20,
     "metadata": {},
     "output_type": "execute_result"
    }
   ],
   "source": [
    "predicted_amounts = list(map(lambda temperature: 1.15*temperature + 24.5,temperatures))\n",
    "\n",
    "temperatures \n",
    "# [80, 65, 50, 70, 60]\n",
    "predicted_amounts\n",
    "# [116.5, 99.25, 82.0, 105.0, 93.5]"
   ]
  },
  {
   "cell_type": "markdown",
   "metadata": {},
   "source": [
    "Not bad at all.  Of course, `scikitlearn` has a built in method that allows us to see the outputs of our model.  We can pass through the temperatures we would like predictions for.  Once again we use a nested list for our inputs."
   ]
  },
  {
   "cell_type": "code",
   "execution_count": 22,
   "metadata": {},
   "outputs": [
    {
     "data": {
      "text/plain": [
       "array([116.25,  99.  ,  81.75, 104.75,  93.25])"
      ]
     },
     "execution_count": 22,
     "metadata": {},
     "output_type": "execute_result"
    }
   ],
   "source": [
    "inputs = [\n",
    "    [80],\n",
    "    [65],\n",
    "    [50],\n",
    "    [70],\n",
    "    [60]\n",
    "]\n",
    "\n",
    "linear_regression.predict(inputs)"
   ]
  },
  {
   "cell_type": "markdown",
   "metadata": {},
   "source": [
    "And notice that our predictions match what we calculated by hand above.  And we can pass through whichever inputs we like and our trained model will predict the customers for us.  For example, say we see the forecase for next week has temperatures of 92, 87 and 89 degrees.  Let's see how many customers we can expect."
   ]
  },
  {
   "cell_type": "code",
   "execution_count": 23,
   "metadata": {},
   "outputs": [
    {
     "data": {
      "text/plain": [
       "array([130.05, 124.3 , 126.6 ])"
      ]
     },
     "execution_count": 23,
     "metadata": {},
     "output_type": "execute_result"
    }
   ],
   "source": [
    "inputs = [\n",
    "    [92],\n",
    "    [87],\n",
    "    [89]\n",
    "]\n",
    "\n",
    "linear_regression.predict(inputs)"
   ]
  },
  {
   "cell_type": "markdown",
   "metadata": {},
   "source": [
    "### Summary"
   ]
  },
  {
   "cell_type": "markdown",
   "metadata": {},
   "source": [
    "In this lesson, we saw how to use the scikitlearn library to fit a machine learning model and make new predictions with our fitted model. \n",
    "\n"
   ]
  },
  {
   "cell_type": "markdown",
   "metadata": {},
   "source": [
    "We do so using similar steps to what we saw in our introduction to machine learning lesson.\n",
    "\n",
    "1. Create an initial model\n",
    "2. Fit the model to data\n",
    "3. Use the fitted model to make new predictions\n",
    "\n",
    "We can translate these steps into code with the following:"
   ]
  },
  {
   "cell_type": "code",
   "execution_count": 8,
   "metadata": {},
   "outputs": [],
   "source": [
    "# import libraries\n",
    "import sklearn\n",
    "from sklearn.linear_model import LinearRegression\n",
    "\n",
    "# 1. Create an initial model\n",
    "linear_regression = LinearRegression()\n",
    "\n",
    "# 2. Fit the model to data\n",
    "linear_regression.fit(inputs, outputs)\n",
    "\n",
    "# 3. Use the fitted model to make new predictions\n",
    "linear_regression.predict(inputs)"
   ]
  },
  {
   "cell_type": "markdown",
   "metadata": {},
   "source": [
    "The other thing to remember is that if we want to see the numbers behind these new predictions, we can see them by calling the corresponding methods."
   ]
  }
 ],
 "metadata": {
  "kernelspec": {
   "display_name": "Python 3",
   "language": "python",
   "name": "python3"
  },
  "language_info": {
   "codemirror_mode": {
    "name": "ipython",
    "version": 3
   },
   "file_extension": ".py",
   "mimetype": "text/x-python",
   "name": "python",
   "nbconvert_exporter": "python",
   "pygments_lexer": "ipython3",
   "version": "3.7.4"
  }
 },
 "nbformat": 4,
 "nbformat_minor": 4
}
