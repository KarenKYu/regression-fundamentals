{
 "cells": [
  {
   "cell_type": "code",
   "execution_count": null,
   "metadata": {},
   "outputs": [],
   "source": []
  },
  {
   "cell_type": "code",
   "execution_count": 1,
   "metadata": {},
   "outputs": [],
   "source": [
    "import pandas as pd\n",
    "url = \"https://raw.githubusercontent.com/jigsawlabs-student/sampling-statistics/master/state_math_exam_by_school.csv\"\n",
    "df = pd.read_csv(url)"
   ]
  },
  {
   "cell_type": "code",
   "execution_count": 2,
   "metadata": {},
   "outputs": [
    {
     "data": {
      "text/html": [
       "<div>\n",
       "<style scoped>\n",
       "    .dataframe tbody tr th:only-of-type {\n",
       "        vertical-align: middle;\n",
       "    }\n",
       "\n",
       "    .dataframe tbody tr th {\n",
       "        vertical-align: top;\n",
       "    }\n",
       "\n",
       "    .dataframe thead th {\n",
       "        text-align: right;\n",
       "    }\n",
       "</style>\n",
       "<table border=\"1\" class=\"dataframe\">\n",
       "  <thead>\n",
       "    <tr style=\"text-align: right;\">\n",
       "      <th></th>\n",
       "      <th>DBN</th>\n",
       "      <th>School Name</th>\n",
       "      <th>Grade</th>\n",
       "      <th>Year</th>\n",
       "      <th>Category</th>\n",
       "      <th>Number Tested</th>\n",
       "      <th>Mean Scale Score</th>\n",
       "      <th># Level 1</th>\n",
       "      <th>% Level 1</th>\n",
       "      <th># Level 2</th>\n",
       "      <th>% Level 2</th>\n",
       "      <th># Level 3</th>\n",
       "      <th>% Level 3</th>\n",
       "      <th># Level 4</th>\n",
       "      <th>% Level 4</th>\n",
       "      <th># Level 3+4</th>\n",
       "      <th>% Level 3+4</th>\n",
       "    </tr>\n",
       "  </thead>\n",
       "  <tbody>\n",
       "    <tr>\n",
       "      <th>0</th>\n",
       "      <td>01M015</td>\n",
       "      <td>P.S. 015 ROBERTO CLEMENTE</td>\n",
       "      <td>3</td>\n",
       "      <td>2013</td>\n",
       "      <td>All Students</td>\n",
       "      <td>27</td>\n",
       "      <td>278.0</td>\n",
       "      <td>16.0</td>\n",
       "      <td>59.3</td>\n",
       "      <td>11.0</td>\n",
       "      <td>40.7</td>\n",
       "      <td>0.0</td>\n",
       "      <td>0.0</td>\n",
       "      <td>0.0</td>\n",
       "      <td>0.0</td>\n",
       "      <td>0.0</td>\n",
       "      <td>0.0</td>\n",
       "    </tr>\n",
       "    <tr>\n",
       "      <th>1</th>\n",
       "      <td>01M015</td>\n",
       "      <td>P.S. 015 ROBERTO CLEMENTE</td>\n",
       "      <td>3</td>\n",
       "      <td>2014</td>\n",
       "      <td>All Students</td>\n",
       "      <td>18</td>\n",
       "      <td>286.0</td>\n",
       "      <td>6.0</td>\n",
       "      <td>33.3</td>\n",
       "      <td>9.0</td>\n",
       "      <td>50.0</td>\n",
       "      <td>2.0</td>\n",
       "      <td>11.1</td>\n",
       "      <td>1.0</td>\n",
       "      <td>5.6</td>\n",
       "      <td>3.0</td>\n",
       "      <td>16.7</td>\n",
       "    </tr>\n",
       "    <tr>\n",
       "      <th>2</th>\n",
       "      <td>01M015</td>\n",
       "      <td>P.S. 015 ROBERTO CLEMENTE</td>\n",
       "      <td>3</td>\n",
       "      <td>2015</td>\n",
       "      <td>All Students</td>\n",
       "      <td>17</td>\n",
       "      <td>280.0</td>\n",
       "      <td>10.0</td>\n",
       "      <td>58.8</td>\n",
       "      <td>4.0</td>\n",
       "      <td>23.5</td>\n",
       "      <td>2.0</td>\n",
       "      <td>11.8</td>\n",
       "      <td>1.0</td>\n",
       "      <td>5.9</td>\n",
       "      <td>3.0</td>\n",
       "      <td>17.6</td>\n",
       "    </tr>\n",
       "  </tbody>\n",
       "</table>\n",
       "</div>"
      ],
      "text/plain": [
       "      DBN                School Name Grade  Year      Category  Number Tested  \\\n",
       "0  01M015  P.S. 015 ROBERTO CLEMENTE     3  2013  All Students             27   \n",
       "1  01M015  P.S. 015 ROBERTO CLEMENTE     3  2014  All Students             18   \n",
       "2  01M015  P.S. 015 ROBERTO CLEMENTE     3  2015  All Students             17   \n",
       "\n",
       "   Mean Scale Score  # Level 1  % Level 1  # Level 2  % Level 2  # Level 3  \\\n",
       "0             278.0       16.0       59.3       11.0       40.7        0.0   \n",
       "1             286.0        6.0       33.3        9.0       50.0        2.0   \n",
       "2             280.0       10.0       58.8        4.0       23.5        2.0   \n",
       "\n",
       "   % Level 3  # Level 4  % Level 4  # Level 3+4  % Level 3+4  \n",
       "0        0.0        0.0        0.0          0.0          0.0  \n",
       "1       11.1        1.0        5.6          3.0         16.7  \n",
       "2       11.8        1.0        5.9          3.0         17.6  "
      ]
     },
     "execution_count": 2,
     "metadata": {},
     "output_type": "execute_result"
    }
   ],
   "source": [
    "df[:3]"
   ]
  },
  {
   "cell_type": "markdown",
   "metadata": {},
   "source": [
    "### Resources\n",
    "\n",
    "\n",
    "* [2019 Directory](https://data.cityofnewyork.us/Education/2019-DOE-High-School-Directory/uq7m-95z8)\n",
    "* [17 School Quality Report](https://data.cityofnewyork.us/Education/2017-School-Quality-Report/cxrn-zyvb)\n",
    "* [16-17 Quality Report](https://data.cityofnewyork.us/Education/2016-2017-School-Quality-Report-Results-for-High-S/ewhs-k7um)\n",
    "\n",
    "\n",
    "[School District Links](https://data.cityofnewyork.us/Education/2018-DOE-Middle-School-Directory/6kcb-9g8d)\n",
    "\n",
    "* [HS data](https://data.cityofnewyork.us/Education/2016-DOE-High-School-Performance-Directory/qvir-knu3)\n",
    "\n",
    "* [School Quality Reports  14-15](https://data.cityofnewyork.us/Education/2014-2015-School-Quality-Report-Results-for-YABC/qqba-8akg)"
   ]
  },
  {
   "cell_type": "markdown",
   "metadata": {},
   "source": [
    "* [School Quality 13-14](https://data.cityofnewyork.us/Education/2013-2014-School-Quality-Reports-Results-for-High-/bm9v-cvch)"
   ]
  },
  {
   "cell_type": "markdown",
   "metadata": {},
   "source": [
    "* [2015 School Survey](https://data.cityofnewyork.us/Education/2015-School-Survey/f3h8-59sn)"
   ]
  },
  {
   "cell_type": "markdown",
   "metadata": {},
   "source": [
    "* [Graduation Outcomes](https://data.cityofnewyork.us/Education/2005-2015-Graduation-Outcomes/qk7d-gecv)\n",
    "\n",
    "* [School Budget](https://data.cityofnewyork.us/Education/2014-2015-School-Budget-Overview/ven4-h25u)"
   ]
  },
  {
   "cell_type": "code",
   "execution_count": null,
   "metadata": {},
   "outputs": [],
   "source": []
  }
 ],
 "metadata": {
  "kernelspec": {
   "display_name": "Python 3",
   "language": "python",
   "name": "python3"
  },
  "language_info": {
   "codemirror_mode": {
    "name": "ipython",
    "version": 3
   },
   "file_extension": ".py",
   "mimetype": "text/x-python",
   "name": "python",
   "nbconvert_exporter": "python",
   "pygments_lexer": "ipython3",
   "version": "3.7.4"
  }
 },
 "nbformat": 4,
 "nbformat_minor": 4
}
