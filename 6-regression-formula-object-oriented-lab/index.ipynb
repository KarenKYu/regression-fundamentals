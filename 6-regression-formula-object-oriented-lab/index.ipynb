{
 "cells": [
  {
   "cell_type": "markdown",
   "metadata": {},
   "source": [
    "# Fitting a Linear Regression Function"
   ]
  },
  {
   "cell_type": "markdown",
   "metadata": {},
   "source": [
    "### Introduction"
   ]
  },
  {
   "cell_type": "markdown",
   "metadata": {},
   "source": [
    "In this lesson we'll see how we can use our simple linear regression formula to write a predict method.  To do this, we need to know the linear regression model's coefficient and y-intercept.  We'll also need a list of data to predict on.  We'll write this method and encapsulate the related data using object orientation."
   ]
  },
  {
   "cell_type": "markdown",
   "metadata": {},
   "source": [
    "### How SciKit Learn \"Fits\""
   ]
  },
  {
   "cell_type": "markdown",
   "metadata": {},
   "source": [
    "First, let's review the functionality of Sci-Kit Learn."
   ]
  },
  {
   "cell_type": "code",
   "execution_count": 3,
   "metadata": {},
   "outputs": [
    {
     "data": {
      "text/plain": [
       "array([ 462.66593527,  733.39275919,  926.76906199, 1506.89797038,\n",
       "       1700.27427318])"
      ]
     },
     "execution_count": 3,
     "metadata": {},
     "output_type": "execute_result"
    }
   ],
   "source": [
    "from sklearn.linear_model import LinearRegression\n",
    "model = LinearRegression()\n",
    "\n",
    "inputs = [800, 1500, 2000, 3500, 4000]\n",
    "sklearn_inputs = [\n",
    "     [800], \n",
    "    [1500], \n",
    "    [2000], \n",
    "    [3500], \n",
    "    [4000]\n",
    "]\n",
    "\n",
    "outcomes = [330, 780, 1130, 1310, 1780]\n",
    "model.fit(sklearn_inputs, outcomes)\n",
    "model.predict(sklearn_inputs)"
   ]
  },
  {
   "cell_type": "markdown",
   "metadata": {},
   "source": [
    "As you can see, once sklearn fits the data, it can predict outcomes for the list of values that we pass through.  We still don't know how the a linear regression model `fits` the data.  But we have learned how the model can predict outcomes once it has arrived at the coefficient and y-intercept values.  Let's build out a class that creates instances who respond to the predict function."
   ]
  },
  {
   "cell_type": "markdown",
   "metadata": {},
   "source": [
    "### Creating our Hypothesis Class"
   ]
  },
  {
   "cell_type": "code",
   "execution_count": 6,
   "metadata": {},
   "outputs": [],
   "source": [
    "class Hypothesis:\n",
    "    pass"
   ]
  },
  {
   "cell_type": "markdown",
   "metadata": {},
   "source": [
    "We create a class called Hypothesis which will be in charge of making our predictions.  The class should be initialized with values of `coef_` for the coefficient, `intercept_` for the `intercept`, and a set of `x_values` that it will make predictions on.  Hypothesis main seem like an odd name, but this class is in charge of predicting, and we can think of these predictions as making hypotheses about the outcomes."
   ]
  },
  {
   "cell_type": "code",
   "execution_count": null,
   "metadata": {},
   "outputs": [],
   "source": [
    "Hypothesis()"
   ]
  },
  {
   "cell_type": "code",
   "execution_count": 30,
   "metadata": {},
   "outputs": [],
   "source": [
    "class Hypothesis():\n",
    "    def __init__(self, coef_ = None, intercept_ = None, x_values = None):\n",
    "        self.coef_ = coef_\n",
    "        self.intercept_ = intercept_\n",
    "        self.x_values = x_values\n",
    "    \n",
    "    def predict(self):\n",
    "        return [self.predict_value(value) for value in self.x_values]\n",
    "    \n",
    "    def predict_value(self, value):\n",
    "        return self.coef_*value + self.intercept_\n",
    "    \n",
    "    def trace(self, mode = 'lines', name=None, text = []):\n",
    "        coef_text = f\"y = {self.coef_}x\"\n",
    "        intercept_text = f\" + {self.intercept_}\"\n",
    "        default_text = coef_text + intercept_text if self.intercept_ else coef_text\n",
    "        text = name or default_text\n",
    "        return {'x': self.x_values, 'y': self.predict(), 'mode': mode, 'name': name, 'text': text}"
   ]
  },
  {
   "cell_type": "code",
   "execution_count": 13,
   "metadata": {},
   "outputs": [],
   "source": [
    "coef = 0.39\n",
    "intercept = 153\n",
    "hypothesis = Hypothesis(coef, intercept)"
   ]
  },
  {
   "cell_type": "code",
   "execution_count": 15,
   "metadata": {},
   "outputs": [
    {
     "data": {
      "text/plain": [
       "{'coef_': 0.39, 'intercept_': 153}"
      ]
     },
     "execution_count": 15,
     "metadata": {},
     "output_type": "execute_result"
    }
   ],
   "source": [
    "hypothesis.__dict__\n",
    "# {'coef_': 0.39, 'intercept_': 153}"
   ]
  },
  {
   "cell_type": "markdown",
   "metadata": {},
   "source": [
    "### Writing a predict method"
   ]
  },
  {
   "cell_type": "markdown",
   "metadata": {},
   "source": [
    "Now let's add an instance method called `predict_value`.  The method takes an argument of an input value, and returns the output based on the parameters initialized in the model."
   ]
  },
  {
   "cell_type": "code",
   "execution_count": 16,
   "metadata": {},
   "outputs": [
    {
     "data": {
      "text/plain": [
       "192.0"
      ]
     },
     "execution_count": 16,
     "metadata": {},
     "output_type": "execute_result"
    }
   ],
   "source": [
    "coef = 0.39\n",
    "intercept = 153\n",
    "hypothesis = Hypothesis(coef, intercept)\n",
    "hypothesis.predict_value(100)\n",
    "# 192.0"
   ]
  },
  {
   "cell_type": "markdown",
   "metadata": {},
   "source": [
    "Now we don't want our Hypothesis class to predict just one value but a list of values.  Let's first change our Hypothesis class so that we can initialize an instance with a list of `inputs` and assigns the list to the attribute `x_values`."
   ]
  },
  {
   "cell_type": "code",
   "execution_count": 23,
   "metadata": {},
   "outputs": [],
   "source": [
    "inputs = [800, 1500, 2000, 3500, 4000]\n",
    "hypothesis = Hypothesis(coef, intercept, inputs)"
   ]
  },
  {
   "cell_type": "code",
   "execution_count": 21,
   "metadata": {},
   "outputs": [
    {
     "data": {
      "text/plain": [
       "{'coef_': 0.39, 'intercept_': 153, 'x_values': [800, 1500, 2000, 3500, 4000]}"
      ]
     },
     "execution_count": 21,
     "metadata": {},
     "output_type": "execute_result"
    }
   ],
   "source": [
    "hypothesis.__dict__\n",
    "# {'coef_': 0.39, 'intercept_': 153, 'x_values': [800, 1500, 2000, 3500, 4000]}"
   ]
  },
  {
   "cell_type": "markdown",
   "metadata": {},
   "source": [
    "Ok great.  Now that our instance can accepts a list of inputs and assigns them to the attribute `x_values`, our next step is to write a method that makes predictions for each of these values.  Add a method called `predict()` that makes a prediction for each of our `x_values`."
   ]
  },
  {
   "cell_type": "code",
   "execution_count": 24,
   "metadata": {},
   "outputs": [
    {
     "data": {
      "text/plain": [
       "[465.0, 738.0, 933.0, 1518.0, 1713.0]"
      ]
     },
     "execution_count": 24,
     "metadata": {},
     "output_type": "execute_result"
    }
   ],
   "source": [
    "hypothesis = Hypothesis(coef, intercept, inputs)\n",
    "hypothesis.predict()\n",
    "# [465.0, 738.0, 933.0, 1518.0, 1713.0]"
   ]
  },
  {
   "cell_type": "markdown",
   "metadata": {},
   "source": [
    "Now let's go a little further than SciKit Learn.  Let's add the ability to build a trace of our hypothesis function.  Add the following method to our Hypothesis class.  "
   ]
  },
  {
   "cell_type": "code",
   "execution_count": 29,
   "metadata": {},
   "outputs": [],
   "source": [
    "def trace(self, mode = 'lines', name=None, text = []):\n",
    "        coef_text = f\"y = {self.coef_}x\"\n",
    "        intercept_text = f\" + {self.intercept_}\"\n",
    "        default_text = coef_text + intercept_text if self.intercept_ else coef_text\n",
    "        text = name or default_text\n",
    "        return {'x': self.x_values, 'y': self.predict(), 'mode': mode, 'name': name, 'text': text}"
   ]
  },
  {
   "cell_type": "code",
   "execution_count": 31,
   "metadata": {},
   "outputs": [
    {
     "data": {
      "text/plain": [
       "{'x': [800, 1500, 2000, 3500, 4000],\n",
       " 'y': [465.0, 738.0, 933.0, 1518.0, 1713.0],\n",
       " 'mode': 'lines',\n",
       " 'name': None,\n",
       " 'text': 'y = 0.39x + 153'}"
      ]
     },
     "execution_count": 31,
     "metadata": {},
     "output_type": "execute_result"
    }
   ],
   "source": [
    "hypothesis = Hypothesis(coef, intercept, inputs)\n",
    "hypothesis.predict()\n",
    "hyp_trace = hypothesis.trace()\n",
    "hyp_trace \n",
    "# {'x': [800, 1500, 2000, 3500, 4000],\n",
    "#  'y': [465.0, 738.0, 933.0, 1518.0, 1713.0],\n",
    "#  'mode': 'markers',\n",
    "#  'name': None,\n",
    "#  'text': 'y = 0.39x + 153'}"
   ]
  },
  {
   "cell_type": "code",
   "execution_count": 32,
   "metadata": {},
   "outputs": [
    {
     "data": {
      "application/vnd.plotly.v1+json": {
       "config": {
        "linkText": "Export to plot.ly",
        "plotlyServerURL": "https://plot.ly",
        "showLink": false
       },
       "data": [
        {
         "mode": "lines",
         "text": "y = 0.39x + 153",
         "type": "scatter",
         "uid": "1b7fa19f-05d3-4224-8e2f-6b2670a6ea40",
         "x": [
          800,
          1500,
          2000,
          3500,
          4000
         ],
         "y": [
          465,
          738,
          933,
          1518,
          1713
         ]
        }
       ],
       "layout": {
        "autosize": true,
        "xaxis": {
         "autorange": true,
         "range": [
          800,
          4000
         ],
         "type": "linear"
        },
        "yaxis": {
         "autorange": true,
         "range": [
          395.6666666666667,
          1782.3333333333333
         ],
         "type": "linear"
        }
       }
      },
      "image/png": "[encoded data removed]",
      "text/html": [
       "<div>\n",
       "        \n",
       "        \n",
       "            <div id=\"720d5993-edf5-4637-9ec0-a3806cf123c2\" class=\"plotly-graph-div\" style=\"height:525px; width:100%;\"></div>\n",
       "            <script type=\"text/javascript\">\n",
       "                require([\"plotly\"], function(Plotly) {\n",
       "                    window.PLOTLYENV=window.PLOTLYENV || {};\n",
       "                    window.PLOTLYENV.BASE_URL='https://plot.ly';\n",
       "                    \n",
       "                if (document.getElementById(\"720d5993-edf5-4637-9ec0-a3806cf123c2\")) {\n",
       "                    Plotly.newPlot(\n",
       "                        '720d5993-edf5-4637-9ec0-a3806cf123c2',\n",
       "                        [{\"mode\": \"lines\", \"text\": \"y = 0.39x + 153\", \"type\": \"scatter\", \"uid\": \"1b7fa19f-05d3-4224-8e2f-6b2670a6ea40\", \"x\": [800, 1500, 2000, 3500, 4000], \"y\": [465.0, 738.0, 933.0, 1518.0, 1713.0]}],\n",
       "                        {},\n",
       "                        {\"showLink\": false, \"linkText\": \"Export to plot.ly\", \"plotlyServerURL\": \"https://plot.ly\", \"responsive\": true}\n",
       "                    ).then(function(){\n",
       "                            \n",
       "var gd = document.getElementById('720d5993-edf5-4637-9ec0-a3806cf123c2');\n",
       "var x = new MutationObserver(function (mutations, observer) {{\n",
       "        var display = window.getComputedStyle(gd).display;\n",
       "        if (!display || display === 'none') {{\n",
       "            console.log([gd, 'removed!']);\n",
       "            Plotly.purge(gd);\n",
       "            observer.disconnect();\n",
       "        }}\n",
       "}});\n",
       "\n",
       "// Listen for the removal of the full notebook cells\n",
       "var notebookContainer = gd.closest('#notebook-container');\n",
       "if (notebookContainer) {{\n",
       "    x.observe(notebookContainer, {childList: true});\n",
       "}}\n",
       "\n",
       "// Listen for the clearing of the current output cell\n",
       "var outputEl = gd.closest('.output');\n",
       "if (outputEl) {{\n",
       "    x.observe(outputEl, {childList: true});\n",
       "}}\n",
       "\n",
       "                        })\n",
       "                };\n",
       "                });\n",
       "            </script>\n",
       "        </div>"
      ]
     },
     "metadata": {},
     "output_type": "display_data"
    }
   ],
   "source": [
    "from graph import plot\n",
    "plot([hyp_trace])"
   ]
  },
  {
   "cell_type": "markdown",
   "metadata": {},
   "source": [
    "### Summary\n",
    "\n",
    "In this lesson we saw how we can use our simple linear regression formula to write a predict method, and add it to Hypothesis instances.  To do this, we need to know the linear regression model's coefficient and y-intercept.  We also need a list of data to predict on.  "
   ]
  }
 ],
 "metadata": {
  "kernelspec": {
   "display_name": "Python 3",
   "language": "python",
   "name": "python3"
  },
  "language_info": {
   "codemirror_mode": {
    "name": "ipython",
    "version": 3
   },
   "file_extension": ".py",
   "mimetype": "text/x-python",
   "name": "python",
   "nbconvert_exporter": "python",
   "pygments_lexer": "ipython3",
   "version": "3.7.4"
  }
 },
 "nbformat": 4,
 "nbformat_minor": 4
}
