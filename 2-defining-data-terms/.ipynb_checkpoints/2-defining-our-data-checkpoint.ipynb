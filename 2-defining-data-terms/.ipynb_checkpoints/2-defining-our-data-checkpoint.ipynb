{
 "cells": [
  {
   "cell_type": "markdown",
   "metadata": {},
   "source": [
    "# Defining Data Terms"
   ]
  },
  {
   "cell_type": "markdown",
   "metadata": {},
   "source": [
    "### Introduction"
   ]
  },
  {
   "cell_type": "markdown",
   "metadata": {},
   "source": [
    "Let's go back to our scenario of working as a data scientist for sportswear retailer that sells T-shirts.  We'd like to predict the the number of t-shirts that will be sold, as the company spends more on advertising.  This time, as we go through our data, let's define some of the terms associated with our data."
   ]
  },
  {
   "cell_type": "markdown",
   "metadata": {},
   "source": [
    "### Defining our terms"
   ]
  },
  {
   "cell_type": "markdown",
   "metadata": {},
   "source": [
    "Ok, here's another look at our data."
   ]
  },
  {
   "cell_type": "markdown",
   "metadata": {},
   "source": [
    "| spending        | t-shirts           \n",
    "| ------------- |:-------------:| \n",
    "|    2000        |300  | \n",
    "|    3500        |350 | \n",
    "|    4000      | 380 | \n"
   ]
  },
  {
   "cell_type": "markdown",
   "metadata": {},
   "source": [
    "**Observations**\n",
    " \n",
    " > Each row above is an **observation**.  An observation is a row or sample in a dataset.  Above we have three observations.\n",
    "\n",
    "**Target** \n",
    "\n",
    "> **Target** is the name of the column that we are trying to predict.  So our target is `number of t-shirts`.\n",
    "\n",
    "**Target Variable**\n",
    "\n",
    "Now as you see above, we have already collected data associated with this column that we are trying to predict.  This is called our target variable.\n",
    "\n",
    "> **Target variables** is the data that we have observed.  Other words for target variables include, **outcomes**, or **labels** of our data.\n",
    "\n",
    "So our target variables are 300 t-shirts, 350 t-shirts, and 380 t-shirts, for our target of `number of t-shirts`.  \n",
    "\n",
    "**Attribute**\n",
    "Now to predict a target, like the number of t shirts sold, we need to consider different attributes.  The column name `spending` is an attribute.\n",
    "\n",
    ">  An **attribute** is a type of property that we use to predict or explain the target.  It is each of the words at the top of our columns.  An attribute does not include what we are trying to predict.  So in our table above, `spending` is the only attribute.\n",
    "\n",
    "**Feature Input**\n",
    "\n",
    "Now we also have data associated with our attributes, and this data is called our features, or feature inputs.\n",
    "\n",
    "> A **feature** is a *combination* of an attribute and the corresponding data.  \n",
    "\n",
    "So `spending` is the attribute, and `spending equals 2000` is our *feature* or *feature input*.  Above, we have three features in the dataset above spending of 2000, 3500 and 4000."
   ]
  },
  {
   "cell_type": "markdown",
   "metadata": {},
   "source": [
    "Whew! That was a lot of terms.  And unfortunately, it's the one part of this course, where some memorization is involved.  Let's see our table now filled in with the terms."
   ]
  },
  {
   "cell_type": "markdown",
   "metadata": {},
   "source": [
    "| attribute | attribute       | target           \n",
    "| -------------| ------------- |:-------------:| \n",
    "|    feature input|    feature input        | target variable | \n",
    "|    feature input|    feature input        | target variable | \n",
    "|    feature input|    feature input        | target variable | \n"
   ]
  },
  {
   "cell_type": "markdown",
   "metadata": {},
   "source": [
    "So above we have multiple attributes, each use to predict an target.  For example, say we have both shooting angle and force to predict distance."
   ]
  },
  {
   "cell_type": "markdown",
   "metadata": {},
   "source": [
    "### Summary"
   ]
  },
  {
   "cell_type": "markdown",
   "metadata": {},
   "source": [
    "Ok, let's review the terms that we have learned.\n",
    "\n",
    "We we gather data related to a *target* that we are interested in predicting.  The data we gather is a collection of *observations* -- where each observation is a row of data.  This data consists of *features*, where a feature is a combination of an attribute and a corresponding piece of data."
   ]
  }
 ],
 "metadata": {
  "kernelspec": {
   "display_name": "Python 3",
   "language": "python",
   "name": "python3"
  },
  "language_info": {
   "codemirror_mode": {
    "name": "ipython",
    "version": 3
   },
   "file_extension": ".py",
   "mimetype": "text/x-python",
   "name": "python",
   "nbconvert_exporter": "python",
   "pygments_lexer": "ipython3",
   "version": "3.7.4"
  }
 },
 "nbformat": 4,
 "nbformat_minor": 4
}
