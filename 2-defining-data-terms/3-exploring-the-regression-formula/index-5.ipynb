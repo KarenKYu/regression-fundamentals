{
 "cells": [
  {
   "cell_type": "markdown",
   "metadata": {},
   "source": [
    "# Introduction to Simple Linear Regression"
   ]
  },
  {
   "cell_type": "markdown",
   "metadata": {},
   "source": [
    "### Introduction"
   ]
  },
  {
   "cell_type": "markdown",
   "metadata": {},
   "source": [
    "In the last lesson, we saw a whirlwind tour of linear regression.  We saw that by passing through data to our linear regression model, we were able to make predictions.   Moreover we were able to use the model to detect a general pattern between our input and our output in general.  Let's dig deeper into understanding the predictions that our linear regression model makes."
   ]
  },
  {
   "cell_type": "markdown",
   "metadata": {},
   "source": [
    "### Back to SciKit Learn"
   ]
  },
  {
   "cell_type": "markdown",
   "metadata": {},
   "source": [
    "Let's return to our problem of predicting T-shirt sales for based on different advertising budgets."
   ]
  },
  {
   "cell_type": "markdown",
   "metadata": {},
   "source": [
    "|ad spending        | t-shirts           \n",
    "| ------------- |:-------------:| \n",
    "|    800        | 330  | \n",
    "|    1500        |780 | \n",
    "|    2000      | 1130 | \n",
    "|    3500      | 1310 | \n",
    "|    4000      | 1780 | "
   ]
  },
  {
   "cell_type": "markdown",
   "metadata": {},
   "source": [
    "And let's once again use this data to make predictions."
   ]
  },
  {
   "cell_type": "code",
   "execution_count": 6,
   "metadata": {},
   "outputs": [],
   "source": [
    "inputs = [800, 1500, 2000, 3500, 4000]\n",
    "outcomes = [330, 780, 1130, 1310, 1780]"
   ]
  },
  {
   "cell_type": "code",
   "execution_count": 3,
   "metadata": {},
   "outputs": [],
   "source": [
    "# inputs = [800, 1500, 2000, 3500, 4000]\n",
    "sklearn_inputs = [\n",
    "    [800], \n",
    "    [1500],\n",
    "    [2000],\n",
    "    [3500],\n",
    "    [4000]\n",
    "]"
   ]
  },
  {
   "cell_type": "code",
   "execution_count": 8,
   "metadata": {},
   "outputs": [
    {
     "data": {
      "text/plain": [
       "LinearRegression(copy_X=True, fit_intercept=True, n_jobs=1, normalize=False)"
      ]
     },
     "execution_count": 8,
     "metadata": {},
     "output_type": "execute_result"
    }
   ],
   "source": [
    "from sklearn.linear_model import LinearRegression\n",
    "\n",
    "regression = LinearRegression()\n",
    "# create the initial model\n",
    "regression.fit(sklearn_inputs, outcomes)"
   ]
  },
  {
   "cell_type": "markdown",
   "metadata": {},
   "source": [
    "Now after we pass our data into this model, the key information that we learn is our coefficient and our intercept."
   ]
  },
  {
   "cell_type": "code",
   "execution_count": 9,
   "metadata": {},
   "outputs": [
    {
     "data": {
      "text/plain": [
       "array([0.38675261])"
      ]
     },
     "execution_count": 9,
     "metadata": {},
     "output_type": "execute_result"
    }
   ],
   "source": [
    "regression.coef_"
   ]
  },
  {
   "cell_type": "code",
   "execution_count": 10,
   "metadata": {},
   "outputs": [
    {
     "data": {
      "text/plain": [
       "153.26385079539216"
      ]
     },
     "execution_count": 10,
     "metadata": {},
     "output_type": "execute_result"
    }
   ],
   "source": [
    "regression.intercept_"
   ]
  },
  {
   "cell_type": "markdown",
   "metadata": {},
   "source": [
    "Let's learn why these numbers are so important."
   ]
  },
  {
   "cell_type": "markdown",
   "metadata": {},
   "source": [
    "### The simple linear regression model"
   ]
  },
  {
   "cell_type": "markdown",
   "metadata": {},
   "source": [
    "To understand why these numbers are so important, we first have to understand the general form of linear regression, or specifically simple linear regression.  We have an example of simple linear regression, whenever we have a model in the following form.\n",
    "\n",
    "$$y = mx + b$$"
   ]
  },
  {
   "cell_type": "markdown",
   "metadata": {},
   "source": [
    "These `coef_` and `intercept_` numbers show that our model is of that form.  Specifically, we can plug these numbers in like so."
   ]
  },
  {
   "cell_type": "markdown",
   "metadata": {},
   "source": [
    "$$tshirt\\_sales = .38*ad\\_spend + 153.26$$.  "
   ]
  },
  {
   "cell_type": "markdown",
   "metadata": {},
   "source": [
    "Lining these numbers up with our simple linear regression formula to our example we see that: "
   ]
  },
  {
   "cell_type": "markdown",
   "metadata": {},
   "source": [
    "* $y$ corresponds to `tshirt_sales`\n",
    "* $x$ corresponds ad_spend, and \n",
    "* $m$ is .38\n",
    "* $b$ is 153.26\n",
    "\n",
    "Now let's better understand the $y$, $m$ and $x$ components of simple linear regression, as these are the most important parts.  We'll discuss the $b$ component later."
   ]
  },
  {
   "cell_type": "markdown",
   "metadata": {},
   "source": [
    "### Dependent and Independent Variables"
   ]
  },
  {
   "cell_type": "markdown",
   "metadata": {},
   "source": [
    "The way to understand $y = mx$ is to think of $x$ as the input and $y$ as the output.  So in our T-shirt example, we input advertising dollars spent, and the output is the T-shirt sales."
   ]
  },
  {
   "cell_type": "markdown",
   "metadata": {},
   "source": [
    "In linear regression, $y$ is called our **dependent variable** as the output changes *depending* on a the input.  Here our dependent variable is T-shirt sales, as it *depends* on different spending of advertising.  \n",
    "\n",
    "In linear regression $x$ is called the **independent variable**, as it does not depend on anything.  We can plug in any value for $x$ to get an output of $y$.  In our example, advertising spending is our independent variable.  "
   ]
  },
  {
   "cell_type": "markdown",
   "metadata": {},
   "source": [
    "### Understanding the coefficient"
   ]
  },
  {
   "cell_type": "markdown",
   "metadata": {},
   "source": [
    "Now let's take a look at that `m` in $y = mx + b$.  This is that number .38 in our T-shirt sales formula.  The $m$ is called a coefficient.  In math, a coefficient just means a number that is multiplied by a variable -- here our independent variable x.  So whatever the value of $x$, we multiply it by our coefficient $m$.\n",
    "\n",
    "When we plot the predictions of our linear regression model as a line, our coefficient determines the slope of the line.  The larger the coefficient, the steeper our line.  Let's see this below where we plot the two linear models:\n",
    "\n",
    "$$tshirt\\_sales = .38*ad\\_spend$$  \n",
    "\n",
    "and\n",
    "\n",
    "$$tshirt\\_sales = .78*ad\\_spend$$  \n",
    "\n",
    "\n"
   ]
  },
  {
   "cell_type": "code",
   "execution_count": 23,
   "metadata": {},
   "outputs": [
    {
     "data": {
      "text/plain": [
       "'https://plot.ly/~JeffKatzy/144'"
      ]
     },
     "execution_count": 23,
     "metadata": {},
     "output_type": "execute_result"
    }
   ],
   "source": [
    "from graph import plot, trace_values\n",
    "import plotly.plotly as py\n",
    "from library.hypothesis import Hypothesis\n",
    "data_trace = trace_values(inputs, outcomes)\n",
    "first_hyp = Hypothesis(.38, 0, inputs)\n",
    "second_hyp = Hypothesis(.78, 0, inputs)\n",
    "py.plot([data_trace, first_hyp.trace(mode = 'lines'), second_hyp.trace(mode = 'lines')], auto_open=True)"
   ]
  },
  {
   "cell_type": "markdown",
   "metadata": {},
   "source": [
    "If we think about it, it makes sense that the coefficient determines the steepness of our line.  After all, if we look at our formulas of $tshirt\\_sales = .38*ad\\_spend$, and $tshirt\\_sales = .78*ad\\_spend$, and we plug in ad spends of of 1000, and 1100, we predict the following:\n"
   ]
  },
  {
   "cell_type": "markdown",
   "metadata": {},
   "source": [
    "| sample inputs        | model 1 prediction | model 2 prediction           \n",
    "| ------------- |:-------------:| :-------------:| \n",
    "|    1000        | $1000*.38 =  380$ |  $ 1000*.78 = 780 $|\n",
    "|    1100       | $1100*.38 =  418$ | $1100*.78 = 858$ |"
   ]
  },
  {
   "cell_type": "markdown",
   "metadata": {},
   "source": [
    "* So in the first model, for a one hundred unit increase in x, the predicted y increases by 38.  \n",
    "* And in the second model, for a one hundred increase in x, the predicted y increases by 78.  \n",
    "\n",
    "So the larger our coefficient, the larger y our model predicts, for a given value of x.  And accordingly the steeper the slope."
   ]
  },
  {
   "cell_type": "markdown",
   "metadata": {},
   "source": [
    "Also, notice that this coefficient is also the model saying about the real world.  The larger our coefficient in a model, the more impact our independent variable has.  So here model 2, as opposed to model 1, is saying that advertising has more of an impact as model two predicts that each extra dollar spent on advertising will increase expected sales by .78, while the first predicts an impact of .38."
   ]
  },
  {
   "cell_type": "markdown",
   "metadata": {},
   "source": [
    "### Understanding the Y intercept"
   ]
  },
  {
   "cell_type": "markdown",
   "metadata": {},
   "source": [
    "There's one more component to our line.  This is that value $b$ in our formula \n",
    "\n",
    "$$y = mx + b$$\n",
    "\n",
    "A y intercept is simply the y-value when our independent variable, x is zero.  So in our example, it represents expected sales when our advertising budget is 0.  Let's examine this with respect to our first model.\n",
    "\n",
    "In our first model above $tshirt\\_sales =.38∗ad\\_spend$.  If we let our independent variable $ad\\_spend = 0$ we calculate $tshirt\\_sales = .38*0 = 0$.  But in the real world, this probably isn't true.  No matter how much we advertise, the company can still get a few purchases -- even if the CEO has to beg some friends and family.  So, let's say that in reality when there is no ad budget T-shirt sales will equal 100.  Here's how we can represent this.\n",
    "\n",
    "We can change our model to be the following: $ tshirt\\_sales =.38∗ad\\_spend + 100 $.  So now when the advertising spend is zero our updated model predicts $ tshirt\\_sales = .38∗0 + 100 = 100$."
   ]
  },
  {
   "cell_type": "markdown",
   "metadata": {},
   "source": [
    "Notice that this also affects every other prediction.  Every previous prediction our model made also increase by 100.  So when we spend 1000 on advertising, we now predict sales of 480 instead of 380.  And when we spend 1100, we predict sales of 518 instead of 418.  \n",
    "\n",
    "Now let's plot the models $tshirt\\_sales =.38∗ad\\_spend$ and $tshirt\\_sales =.38∗ad\\_spend + 100 $ side by side."
   ]
  },
  {
   "cell_type": "code",
   "execution_count": 24,
   "metadata": {},
   "outputs": [
    {
     "data": {
      "text/plain": [
       "'https://plot.ly/~JeffKatzy/146'"
      ]
     },
     "execution_count": 24,
     "metadata": {},
     "output_type": "execute_result"
    }
   ],
   "source": [
    "third_hyp = Hypothesis(.38, 100, inputs)\n",
    "import plotly.plotly as py\n",
    "py.plot([data_trace, first_hyp.trace(mode = 'lines'), third_hyp.trace(mode = 'lines')],  layout = layout, auto_open = True)"
   ]
  },
  {
   "cell_type": "markdown",
   "metadata": {},
   "source": [
    "So notice that this matches what we said above.  We said that including the value of $b$ increases our predicted output of T-shirts by the same amount, that value of $b$, 100.  And that's what we see.\n",
    "\n",
    "This is different from changing our slope $m$, which changes the steepness of the line.  \n",
    "\n",
    "Try changing the slopes and intercepts in the code above, to see how the line changes, or feel free to add in another line with different slopes and intercepts."
   ]
  },
  {
   "cell_type": "markdown",
   "metadata": {},
   "source": [
    "### Summary"
   ]
  },
  {
   "cell_type": "markdown",
   "metadata": {},
   "source": [
    "In this lesson, we learned about a simple linear regression model.  A simple linear model has one input and one output.  The input is called the independent variable, $x$.  In our example above, customers is the dependent variable and temperature is the independent variable.  This makes sense as the number of customers predicted by our model *depends* on the temperature.  The temperature does not depend on anything in our model, so it's independent.\n",
    "\n",
    "We also discussed our coefficient, which is the number we multiply our independent variable by.  It is represented by $m$ in the fromula $y = mx $.  We can interpret our coefficient as the impact that our independent variable $x$ has on our dependent variable $y$.  So in the model $ tshirt\\_sales = .38*ad\\_spending$, this means our model predicts that a one dollar increase in spending increases the number of sales by .38.  The value of $m$ also determines the slope of our line -- the further $m$ is from zero, the steeper the slope.\n",
    "\n",
    "Finally we saw another component of our line, the intercept.  The intercept is the predicted output when our independent variable is zero.  So in our model of $ tshirt\\_sales = .38*ad\\_spending + 153.26 $ we say that even when the ad spending is zero, we expect sales of 153.  We also noticed that the intercept increases our predicted output by that value (here 153), for every input value.  So where we previously to predicted an output of 380 with spending of 1000 dollars, the updated formula predicts 380 + 153 = 533.  And where we previously to predicted sales of 418 with spending of 1100, the updated formula predicts 418 + 153 = 571.\n"
   ]
  }
 ],
 "metadata": {
  "kernelspec": {
   "display_name": "Python 3",
   "language": "python",
   "name": "python3"
  },
  "language_info": {
   "codemirror_mode": {
    "name": "ipython",
    "version": 3
   },
   "file_extension": ".py",
   "mimetype": "text/x-python",
   "name": "python",
   "nbconvert_exporter": "python",
   "pygments_lexer": "ipython3",
   "version": "3.7.3"
  }
 },
 "nbformat": 4,
 "nbformat_minor": 2
}
