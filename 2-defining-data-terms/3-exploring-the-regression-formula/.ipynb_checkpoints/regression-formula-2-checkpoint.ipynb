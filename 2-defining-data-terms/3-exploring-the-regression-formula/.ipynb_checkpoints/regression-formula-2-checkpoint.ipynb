{
 "cells": [
  {
   "cell_type": "markdown",
   "metadata": {},
   "source": [
    "### The simple linear regression model"
   ]
  },
  {
   "cell_type": "markdown",
   "metadata": {},
   "source": [
    "To understand why these numbers are so important, we first have to understand the general form of linear regression, or specifically simple linear regression.  We have an example of simple linear regression, whenever we have a model in the following form.\n",
    "\n",
    "$$y = mx + b$$"
   ]
  },
  {
   "cell_type": "markdown",
   "metadata": {},
   "source": [
    "These `coef_` and `intercept_` numbers show that our model is of that form.  Specifically, we can plug these numbers in like so."
   ]
  },
  {
   "cell_type": "markdown",
   "metadata": {},
   "source": [
    "$$tshirt\\_sales = .38*ad\\_spend + 153.26$$.  "
   ]
  },
  {
   "cell_type": "markdown",
   "metadata": {},
   "source": [
    "Lining these numbers up with our simple linear regression formula to our example we see that: "
   ]
  },
  {
   "cell_type": "markdown",
   "metadata": {},
   "source": [
    "* $y$ corresponds to `tshirt_sales`\n",
    "* $x$ corresponds ad_spend, and \n",
    "* $m$ is .38\n",
    "* $b$ is 153.26\n",
    "\n",
    "Now let's better understand the $y$, $m$ and $x$ components of simple linear regression, as these are the most important parts.  We'll discuss the $b$ component later."
   ]
  },
  {
   "cell_type": "markdown",
   "metadata": {},
   "source": [
    "### Dependent and Independent Variables"
   ]
  },
  {
   "cell_type": "markdown",
   "metadata": {},
   "source": [
    "The way to understand $y = mx$ is to think of $x$ as the input and $y$ as the output.  So in our T-shirt example, we input advertising dollars spent, and the output is the T-shirt sales."
   ]
  },
  {
   "cell_type": "markdown",
   "metadata": {},
   "source": [
    "In linear regression, $y$ is called our **dependent variable** as the output changes *depending* on a the input.  Here our dependent variable is T-shirt sales, as it *depends* on different spending of advertising.  \n",
    "\n",
    "In linear regression $x$ is called the **independent variable**, as it does not depend on anything.  We can plug in any value for $x$ to get an output of $y$.  In our example, advertising spending is our independent variable.  "
   ]
  },
  {
   "cell_type": "markdown",
   "metadata": {},
   "source": [
    "Notice that this also affects every other prediction.  Every previous prediction our model made also increase by 100.  So when we spend 1000 on advertising, we now predict sales of 480 instead of 380.  And when we spend 1100, we predict sales of 518 instead of 418.  \n",
    "\n",
    "Now let's plot the models $tshirt\\_sales =.38∗ad\\_spend$ and $tshirt\\_sales =.38∗ad\\_spend + 100 $ side by side."
   ]
  },
  {
   "cell_type": "code",
   "execution_count": 1,
   "metadata": {},
   "outputs": [
    {
     "ename": "NameError",
     "evalue": "name 'Hypothesis' is not defined",
     "output_type": "error",
     "traceback": [
      "\u001b[0;31m---------------------------------------------------------------------------\u001b[0m",
      "\u001b[0;31mNameError\u001b[0m                                 Traceback (most recent call last)",
      "\u001b[0;32m<ipython-input-1-54c8eda7dc71>\u001b[0m in \u001b[0;36m<module>\u001b[0;34m\u001b[0m\n\u001b[0;32m----> 1\u001b[0;31m \u001b[0mthird_hyp\u001b[0m \u001b[0;34m=\u001b[0m \u001b[0mHypothesis\u001b[0m\u001b[0;34m(\u001b[0m\u001b[0;36m.38\u001b[0m\u001b[0;34m,\u001b[0m \u001b[0;36m100\u001b[0m\u001b[0;34m,\u001b[0m \u001b[0minputs\u001b[0m\u001b[0;34m)\u001b[0m\u001b[0;34m\u001b[0m\u001b[0;34m\u001b[0m\u001b[0m\n\u001b[0m\u001b[1;32m      2\u001b[0m \u001b[0;32mimport\u001b[0m \u001b[0mplotly\u001b[0m\u001b[0;34m.\u001b[0m\u001b[0mplotly\u001b[0m \u001b[0;32mas\u001b[0m \u001b[0mpy\u001b[0m\u001b[0;34m\u001b[0m\u001b[0;34m\u001b[0m\u001b[0m\n\u001b[1;32m      3\u001b[0m \u001b[0mpy\u001b[0m\u001b[0;34m.\u001b[0m\u001b[0mplot\u001b[0m\u001b[0;34m(\u001b[0m\u001b[0;34m[\u001b[0m\u001b[0mdata_trace\u001b[0m\u001b[0;34m,\u001b[0m \u001b[0mfirst_hyp\u001b[0m\u001b[0;34m.\u001b[0m\u001b[0mtrace\u001b[0m\u001b[0;34m(\u001b[0m\u001b[0mmode\u001b[0m \u001b[0;34m=\u001b[0m \u001b[0;34m'lines'\u001b[0m\u001b[0;34m)\u001b[0m\u001b[0;34m,\u001b[0m \u001b[0mthird_hyp\u001b[0m\u001b[0;34m.\u001b[0m\u001b[0mtrace\u001b[0m\u001b[0;34m(\u001b[0m\u001b[0mmode\u001b[0m \u001b[0;34m=\u001b[0m \u001b[0;34m'lines'\u001b[0m\u001b[0;34m)\u001b[0m\u001b[0;34m]\u001b[0m\u001b[0;34m,\u001b[0m  \u001b[0mlayout\u001b[0m \u001b[0;34m=\u001b[0m \u001b[0mlayout\u001b[0m\u001b[0;34m,\u001b[0m \u001b[0mauto_open\u001b[0m \u001b[0;34m=\u001b[0m \u001b[0;32mTrue\u001b[0m\u001b[0;34m)\u001b[0m\u001b[0;34m\u001b[0m\u001b[0;34m\u001b[0m\u001b[0m\n",
      "\u001b[0;31mNameError\u001b[0m: name 'Hypothesis' is not defined"
     ]
    }
   ],
   "source": [
    "third_hyp = Hypothesis(.38, 100, inputs)\n",
    "import plotly.plotly as py\n",
    "py.plot([data_trace, first_hyp.trace(mode = 'lines'), third_hyp.trace(mode = 'lines')],  layout = layout, auto_open = True)"
   ]
  },
  {
   "cell_type": "markdown",
   "metadata": {},
   "source": [
    "So notice that this matches what we said above.  We said that including the value of $b$ increases our predicted output of T-shirts by the same amount, that value of $b$, 100.  And that's what we see.\n",
    "\n",
    "This is different from changing our slope $m$, which changes the steepness of the line.  \n",
    "\n",
    "Try changing the slopes and intercepts in the code above, to see how the line changes, or feel free to add in another line with different slopes and intercepts."
   ]
  },
  {
   "cell_type": "markdown",
   "metadata": {},
   "source": [
    "### Summary"
   ]
  },
  {
   "cell_type": "markdown",
   "metadata": {},
   "source": [
    "In this lesson, we learned about a simple linear regression model.  A simple linear model has one input and one output.  The input is called the independent variable, $x$.  In our example above, customers is the dependent variable and temperature is the independent variable.  This makes sense as the number of customers predicted by our model *depends* on the temperature.  The temperature does not depend on anything in our model, so it's independent.\n",
    "\n",
    "We also discussed our coefficient, which is the number we multiply our independent variable by.  It is represented by $m$ in the fromula $y = mx $.  We can interpret our coefficient as the impact that our independent variable $x$ has on our dependent variable $y$.  So in the model $ tshirt\\_sales = .38*ad\\_spending$, this means our model predicts that a one dollar increase in spending increases the number of sales by .38.  The value of $m$ also determines the slope of our line -- the further $m$ is from zero, the steeper the slope.\n",
    "\n",
    "Finally we saw another component of our line, the intercept.  The intercept is the predicted output when our independent variable is zero.  So in our model of $ tshirt\\_sales = .38*ad\\_spending + 153.26 $ we say that even when the ad spending is zero, we expect sales of 153.  We also noticed that the intercept increases our predicted output by that value (here 153), for every input value.  So where we previously to predicted an output of 380 with spending of 1000 dollars, the updated formula predicts 380 + 153 = 533.  And where we previously to predicted sales of 418 with spending of 1100, the updated formula predicts 418 + 153 = 571.\n"
   ]
  }
 ],
 "metadata": {
  "kernelspec": {
   "display_name": "Python 3",
   "language": "python",
   "name": "python3"
  },
  "language_info": {
   "codemirror_mode": {
    "name": "ipython",
    "version": 3
   },
   "file_extension": ".py",
   "mimetype": "text/x-python",
   "name": "python",
   "nbconvert_exporter": "python",
   "pygments_lexer": "ipython3",
   "version": "3.7.3"
  }
 },
 "nbformat": 4,
 "nbformat_minor": 2
}
