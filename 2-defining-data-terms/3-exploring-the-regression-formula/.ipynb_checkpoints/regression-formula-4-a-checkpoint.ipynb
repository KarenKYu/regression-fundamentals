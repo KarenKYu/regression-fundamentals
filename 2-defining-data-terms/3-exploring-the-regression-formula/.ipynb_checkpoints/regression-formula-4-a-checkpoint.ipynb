{
 "cells": [
  {
   "cell_type": "markdown",
   "metadata": {},
   "source": [
    "There's one more component to our line.  This is that value $b$ in our formula \n",
    "\n",
    "$$y = mx + b$$\n",
    "\n",
    "A y intercept is simply the y-value when our independent variable, x is zero.  So in our example, it represents expected sales when our advertising budget is 0.  Let's examine this with respect to our first model.\n",
    "\n",
    "In our first model above $tshirt\\_sales =.38∗ad\\_spend$.  If we let our independent variable $ad\\_spend = 0$ we calculate $tshirt\\_sales = .38*0 = 0$.  But in the real world, this probably isn't true.  No matter how much we advertise, the company can still get a few purchases -- even if the CEO has to beg some friends and family.  So, let's say that in reality when there is no ad budget T-shirt sales will equal 100.  Here's how we can represent this.\n",
    "\n",
    "We can change our model to be the following: $ tshirt\\_sales =.38∗ad\\_spend + 100 $.  So now when the advertising spend is zero our updated model predicts $ tshirt\\_sales = .38∗0 + 100 = 100$."
   ]
  },
  {
   "cell_type": "markdown",
   "metadata": {},
   "source": [
    "Notice that this also affects every other prediction.  Every previous prediction our model made also increase by 100.  So when we spend 1000 on advertising, we now predict sales of 480 instead of 380.  And when we spend 1100, we predict sales of 518 instead of 418.  \n",
    "\n",
    "Now let's plot the models $tshirt\\_sales =.38∗ad\\_spend$ and $tshirt\\_sales =.38∗ad\\_spend + 100 $ side by side."
   ]
  }
 ],
 "metadata": {
  "kernelspec": {
   "display_name": "Python 3",
   "language": "python",
   "name": "python3"
  },
  "language_info": {
   "codemirror_mode": {
    "name": "ipython",
    "version": 3
   },
   "file_extension": ".py",
   "mimetype": "text/x-python",
   "name": "python",
   "nbconvert_exporter": "python",
   "pygments_lexer": "ipython3",
   "version": "3.7.3"
  }
 },
 "nbformat": 4,
 "nbformat_minor": 2
}
