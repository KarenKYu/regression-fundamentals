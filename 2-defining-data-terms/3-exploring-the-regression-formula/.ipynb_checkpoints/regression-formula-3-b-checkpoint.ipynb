{
 "cells": [
  {
   "cell_type": "markdown",
   "metadata": {},
   "source": [
    "If we think about it, it makes sense that the coefficient determines the steepness of our line.  After all, if we look at our formulas of $tshirt\\_sales = .38*ad\\_spend$, and $tshirt\\_sales = .78*ad\\_spend$, and we plug in ad spends of of 1000, and 1100, we predict the following:\n"
   ]
  },
  {
   "cell_type": "markdown",
   "metadata": {},
   "source": [
    "| sample inputs        | model 1 prediction | model 2 prediction           \n",
    "| ------------- |:-------------:| :-------------:| \n",
    "|    1000        | $1000*.38 =  380$ |  $ 1000*.78 = 780 $|\n",
    "|    1100       | $1100*.38 =  418$ | $1100*.78 = 858$ |"
   ]
  },
  {
   "cell_type": "markdown",
   "metadata": {},
   "source": [
    "* So in the first model, for a one hundred unit increase in x, the predicted y increases by 38.  \n",
    "* And in the second model, for a one hundred increase in x, the predicted y increases by 78.  \n",
    "\n",
    "So the larger our coefficient, the larger y our model predicts, for a given value of x.  And accordingly the steeper the slope."
   ]
  },
  {
   "cell_type": "markdown",
   "metadata": {},
   "source": [
    "Also, notice that this coefficient is also the model saying about the real world.  The larger our coefficient in a model, the more impact our independent variable has.  So here model 2, as opposed to model 1, is saying that advertising has more of an impact as model two predicts that each extra dollar spent on advertising will increase expected sales by .78, while the first predicts an impact of .38."
   ]
  }
 ],
 "metadata": {
  "kernelspec": {
   "display_name": "Python 3",
   "language": "python",
   "name": "python3"
  },
  "language_info": {
   "codemirror_mode": {
    "name": "ipython",
    "version": 3
   },
   "file_extension": ".py",
   "mimetype": "text/x-python",
   "name": "python",
   "nbconvert_exporter": "python",
   "pygments_lexer": "ipython3",
   "version": "3.7.3"
  }
 },
 "nbformat": 4,
 "nbformat_minor": 2
}
