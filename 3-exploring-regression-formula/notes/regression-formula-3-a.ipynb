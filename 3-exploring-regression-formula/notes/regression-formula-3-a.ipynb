{
 "cells": [
  {
   "cell_type": "markdown",
   "metadata": {},
   "source": [
    "### Understanding the coefficient"
   ]
  },
  {
   "cell_type": "markdown",
   "metadata": {},
   "source": [
    "Now let's take a look at that `m` in $y = mx + b$.  This is that number .38 in our T-shirt sales formula.  The $m$ is called a coefficient.  In math, a coefficient just means a number that is multiplied by a variable -- here our independent variable x.  So whatever the value of $x$, we multiply it by our coefficient $m$.\n",
    "\n",
    "When we plot the predictions of our linear regression model as a line, our coefficient determines the slope of the line.  The larger the coefficient, the steeper our line.  Let's see this below where we plot the two linear models:\n",
    "\n",
    "$$tshirt\\_sales = .38*ad\\_spend$$  \n",
    "\n",
    "and\n",
    "\n",
    "$$tshirt\\_sales = .78*ad\\_spend$$  \n",
    "\n",
    "\n"
   ]
  },
  {
   "cell_type": "code",
   "execution_count": null,
   "metadata": {},
   "outputs": [],
   "source": [
    "from library.hypothesis import Hypothesis\n",
    "first_hyp = Hypothesis(.38, 100, inputs)\n",
    "first_hyp = Hypothesis(.38, 100, inputs)\n",
    "import plotly.plotly as py\n",
    "py.plot([data_trace, first_hyp.trace(mode = 'lines'), third_hyp.trace(mode = 'lines')],  layout = layout, auto_open = True)"
   ]
  }
 ],
 "metadata": {
  "kernelspec": {
   "display_name": "Python 3",
   "language": "python",
   "name": "python3"
  },
  "language_info": {
   "codemirror_mode": {
    "name": "ipython",
    "version": 3
   },
   "file_extension": ".py",
   "mimetype": "text/x-python",
   "name": "python",
   "nbconvert_exporter": "python",
   "pygments_lexer": "ipython3",
   "version": "3.7.3"
  }
 },
 "nbformat": 4,
 "nbformat_minor": 2
}
