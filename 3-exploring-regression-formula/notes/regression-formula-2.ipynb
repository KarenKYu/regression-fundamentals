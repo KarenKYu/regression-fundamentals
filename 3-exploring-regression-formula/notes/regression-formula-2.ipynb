{
 "cells": [
  {
   "cell_type": "markdown",
   "metadata": {},
   "source": [
    "### The simple linear regression model"
   ]
  },
  {
   "cell_type": "markdown",
   "metadata": {},
   "source": [
    "To understand why these numbers are so important, we first have to understand the general form of linear regression, or specifically simple linear regression.  We have an example of simple linear regression, whenever we have a model in the following form.\n",
    "\n",
    "$$y = mx + b$$"
   ]
  },
  {
   "cell_type": "markdown",
   "metadata": {},
   "source": [
    "These `coef_` and `intercept_` numbers show that our model is of that form.  Specifically, we can plug these numbers in like so."
   ]
  },
  {
   "cell_type": "markdown",
   "metadata": {},
   "source": [
    "$$tshirt\\_sales = .38*ad\\_spend + 153.26$$.  "
   ]
  },
  {
   "cell_type": "markdown",
   "metadata": {},
   "source": [
    "Lining these numbers up with our simple linear regression formula to our example we see that: "
   ]
  },
  {
   "cell_type": "markdown",
   "metadata": {},
   "source": [
    "* $y$ corresponds to `tshirt_sales`\n",
    "* $x$ corresponds ad_spend, and \n",
    "* $m$ is .38\n",
    "* $b$ is 153.26\n",
    "\n",
    "Now let's better understand the $y$, $m$ and $x$ components of simple linear regression, as these are the most important parts.  We'll discuss the $b$ component later."
   ]
  },
  {
   "cell_type": "markdown",
   "metadata": {},
   "source": [
    "### Dependent and Independent Variables"
   ]
  },
  {
   "cell_type": "markdown",
   "metadata": {},
   "source": [
    "The way to understand $y = mx$ is to think of $x$ as the input and $y$ as the output.  So in our T-shirt example, we input advertising dollars spent, and the output is the T-shirt sales."
   ]
  },
  {
   "cell_type": "markdown",
   "metadata": {},
   "source": [
    "In linear regression, $y$ is called our **dependent variable** as the output changes *depending* on a the input.  Here our dependent variable is T-shirt sales, as it *depends* on different spending of advertising.  \n",
    "\n",
    "In linear regression $x$ is called the **independent variable**, as it does not depend on anything.  We can plug in any value for $x$ to get an output of $y$.  In our example, advertising spending is our independent variable.  "
   ]
  },
  {
   "cell_type": "markdown",
   "metadata": {},
   "source": [
    "Notice that this also affects every other prediction.  Every previous prediction our model made also increase by 100.  So when we spend 1000 on advertising, we now predict sales of 480 instead of 380.  And when we spend 1100, we predict sales of 518 instead of 418.  \n",
    "\n",
    "Now let's plot the models $tshirt\\_sales =.38∗ad\\_spend$ and $tshirt\\_sales =.38∗ad\\_spend + 100 $ side by side."
   ]
  }
 ],
 "metadata": {
  "kernelspec": {
   "display_name": "Python 3",
   "language": "python",
   "name": "python3"
  },
  "language_info": {
   "codemirror_mode": {
    "name": "ipython",
    "version": 3
   },
   "file_extension": ".py",
   "mimetype": "text/x-python",
   "name": "python",
   "nbconvert_exporter": "python",
   "pygments_lexer": "ipython3",
   "version": "3.7.3"
  }
 },
 "nbformat": 4,
 "nbformat_minor": 2
}
