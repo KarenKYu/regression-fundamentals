{
 "cells": [
  {
   "cell_type": "markdown",
   "metadata": {},
   "source": [
    "# HS Report"
   ]
  },
  {
   "cell_type": "markdown",
   "metadata": {},
   "source": [
    "### Introduction"
   ]
  },
  {
   "cell_type": "markdown",
   "metadata": {},
   "source": [
    "In this lesson, we'll NYC high school data to help predict the graduation rate of NYC schools.  In doing this, we'll look at a single feature, the economic need index of high schools."
   ]
  },
  {
   "cell_type": "markdown",
   "metadata": {},
   "source": [
    "### Loading the Data"
   ]
  },
  {
   "cell_type": "markdown",
   "metadata": {},
   "source": [
    "Let's start by loading our data."
   ]
  },
  {
   "cell_type": "code",
   "execution_count": 96,
   "metadata": {},
   "outputs": [],
   "source": [
    "import pandas as pd\n",
    "url = 'econ_need_grad_rate.csv'\n",
    "school_dir_df = pd.read_csv(url)"
   ]
  },
  {
   "cell_type": "code",
   "execution_count": 97,
   "metadata": {},
   "outputs": [
    {
     "data": {
      "text/plain": [
       "(415, 2)"
      ]
     },
     "execution_count": 97,
     "metadata": {},
     "output_type": "execute_result"
    }
   ],
   "source": [
    "school_dir_df.shape"
   ]
  },
  {
   "cell_type": "markdown",
   "metadata": {},
   "source": [
    "We can see that we have 415 rows and two columns.  Take a look at the datatypes of the columns in our dataframe."
   ]
  },
  {
   "cell_type": "code",
   "execution_count": 98,
   "metadata": {},
   "outputs": [
    {
     "data": {
      "text/plain": [
       "Economic Need Index    float64\n",
       "graduation_rate        float64\n",
       "dtype: object"
      ]
     },
     "execution_count": 98,
     "metadata": {},
     "output_type": "execute_result"
    }
   ],
   "source": [
    "school_dir_df.dtypes\n",
    "# Economic Need Index    float64\n",
    "# graduation_rate        float64\n",
    "# dtype: object"
   ]
  },
  {
   "cell_type": "code",
   "execution_count": 40,
   "metadata": {},
   "outputs": [
    {
     "data": {
      "text/plain": [
       "Index(['city', 'zip', 'state_code', 'Borough', 'Latitude', 'Longitude',\n",
       "       'Community Board', 'Council District', 'Census Tract', 'BIN', 'BBL',\n",
       "       'NTA'],\n",
       "      dtype='object')"
      ]
     },
     "execution_count": 40,
     "metadata": {},
     "output_type": "execute_result"
    }
   ],
   "source": [
    "df_school_dir.columns[450:]"
   ]
  },
  {
   "cell_type": "code",
   "execution_count": 42,
   "metadata": {},
   "outputs": [],
   "source": [
    "cols = ['dbn', 'school_name', 'Borough', 'Latitude', \n",
    " 'Longitude', 'boro', 'advancedplacement_courses',\n",
    " 'graduation_rate', 'attendance_rate', 'college_career_rate', 'total_students',\n",
    " 'girls', 'boys', 'international', 'Community Board', 'Council District', 'Census Tract',\n",
    "  'BIN', 'BBL','NTA']"
   ]
  },
  {
   "cell_type": "code",
   "execution_count": 43,
   "metadata": {},
   "outputs": [],
   "source": [
    "selected_df_dir = df_school_dir[cols]"
   ]
  },
  {
   "cell_type": "code",
   "execution_count": 46,
   "metadata": {},
   "outputs": [
    {
     "data": {
      "text/html": [
       "<div>\n",
       "<style scoped>\n",
       "    .dataframe tbody tr th:only-of-type {\n",
       "        vertical-align: middle;\n",
       "    }\n",
       "\n",
       "    .dataframe tbody tr th {\n",
       "        vertical-align: top;\n",
       "    }\n",
       "\n",
       "    .dataframe thead th {\n",
       "        text-align: right;\n",
       "    }\n",
       "</style>\n",
       "<table border=\"1\" class=\"dataframe\">\n",
       "  <thead>\n",
       "    <tr style=\"text-align: right;\">\n",
       "      <th></th>\n",
       "      <th>dbn</th>\n",
       "      <th>school_name</th>\n",
       "      <th>boro</th>\n",
       "      <th>overview_paragraph</th>\n",
       "      <th>school_10th_seats</th>\n",
       "      <th>academicopportunities1</th>\n",
       "      <th>academicopportunities2</th>\n",
       "      <th>academicopportunities3</th>\n",
       "      <th>academicopportunities4</th>\n",
       "      <th>academicopportunities5</th>\n",
       "      <th>...</th>\n",
       "      <th>state_code</th>\n",
       "      <th>Borough</th>\n",
       "      <th>Latitude</th>\n",
       "      <th>Longitude</th>\n",
       "      <th>Community Board</th>\n",
       "      <th>Council District</th>\n",
       "      <th>Census Tract</th>\n",
       "      <th>BIN</th>\n",
       "      <th>BBL</th>\n",
       "      <th>NTA</th>\n",
       "    </tr>\n",
       "  </thead>\n",
       "  <tbody>\n",
       "    <tr>\n",
       "      <th>0</th>\n",
       "      <td>16K498</td>\n",
       "      <td>Brooklyn High School for Law and Technology</td>\n",
       "      <td>K</td>\n",
       "      <td>The mission of Brooklyn High School for Law an...</td>\n",
       "      <td>Y</td>\n",
       "      <td>iLearnNYC: Program for expanded online coursew...</td>\n",
       "      <td>Access to Law and Technology Programs: Youth C...</td>\n",
       "      <td>Computer Programming, iCareers, Online courses...</td>\n",
       "      <td>Multicultural Literature, Conflict Resolution/...</td>\n",
       "      <td>NaN</td>\n",
       "      <td>...</td>\n",
       "      <td>NY</td>\n",
       "      <td>BROOKLYN</td>\n",
       "      <td>40.688831</td>\n",
       "      <td>-73.920906</td>\n",
       "      <td>3</td>\n",
       "      <td>41</td>\n",
       "      <td>375</td>\n",
       "      <td>3039676.0</td>\n",
       "      <td>3.014820e+09</td>\n",
       "      <td>Stuyvesant Heights                            ...</td>\n",
       "    </tr>\n",
       "    <tr>\n",
       "      <th>1</th>\n",
       "      <td>17K524</td>\n",
       "      <td>International High School at Prospect Heights</td>\n",
       "      <td>K</td>\n",
       "      <td>We are a small school that works in teams to p...</td>\n",
       "      <td>Y</td>\n",
       "      <td>We are a Performance-Based Assessment school, ...</td>\n",
       "      <td>Safe, supportive, and nurturing environment wh...</td>\n",
       "      <td>We are a Computer Science for All school. Thro...</td>\n",
       "      <td>All students are matched to an internship in t...</td>\n",
       "      <td>Afterschool programs include: Peer Tutoring, A...</td>\n",
       "      <td>...</td>\n",
       "      <td>NY</td>\n",
       "      <td>BROOKLYN</td>\n",
       "      <td>40.670349</td>\n",
       "      <td>-73.961695</td>\n",
       "      <td>9</td>\n",
       "      <td>35</td>\n",
       "      <td>213</td>\n",
       "      <td>3029686.0</td>\n",
       "      <td>3.011870e+09</td>\n",
       "      <td>Crown Heights South                           ...</td>\n",
       "    </tr>\n",
       "    <tr>\n",
       "      <th>2</th>\n",
       "      <td>02M531</td>\n",
       "      <td>Repertory Company High School for Theatre Arts</td>\n",
       "      <td>M</td>\n",
       "      <td>We offer a college-preparatory program and New...</td>\n",
       "      <td>Y</td>\n",
       "      <td>iLearnNYC: Program for expanded online coursew...</td>\n",
       "      <td>Advisory, Acting, Playwriting, Stagecraft, Mus...</td>\n",
       "      <td>National Honor Society, yearly grade-level res...</td>\n",
       "      <td>Learning Through Expanded Arts Playwriting Pro...</td>\n",
       "      <td>Roundabout Theatre Company (Playwriting, IATSE...</td>\n",
       "      <td>...</td>\n",
       "      <td>NY</td>\n",
       "      <td>MANHATTAN</td>\n",
       "      <td>40.755843</td>\n",
       "      <td>-73.984382</td>\n",
       "      <td>5</td>\n",
       "      <td>4</td>\n",
       "      <td>119</td>\n",
       "      <td>1022615.0</td>\n",
       "      <td>1.009960e+09</td>\n",
       "      <td>Midtown-Midtown South                         ...</td>\n",
       "    </tr>\n",
       "  </tbody>\n",
       "</table>\n",
       "<p>3 rows × 462 columns</p>\n",
       "</div>"
      ],
      "text/plain": [
       "      dbn                                     school_name boro  \\\n",
       "0  16K498     Brooklyn High School for Law and Technology    K   \n",
       "1  17K524   International High School at Prospect Heights    K   \n",
       "2  02M531  Repertory Company High School for Theatre Arts    M   \n",
       "\n",
       "                                  overview_paragraph school_10th_seats  \\\n",
       "0  The mission of Brooklyn High School for Law an...                 Y   \n",
       "1  We are a small school that works in teams to p...                 Y   \n",
       "2  We offer a college-preparatory program and New...                 Y   \n",
       "\n",
       "                              academicopportunities1  \\\n",
       "0  iLearnNYC: Program for expanded online coursew...   \n",
       "1  We are a Performance-Based Assessment school, ...   \n",
       "2  iLearnNYC: Program for expanded online coursew...   \n",
       "\n",
       "                              academicopportunities2  \\\n",
       "0  Access to Law and Technology Programs: Youth C...   \n",
       "1  Safe, supportive, and nurturing environment wh...   \n",
       "2  Advisory, Acting, Playwriting, Stagecraft, Mus...   \n",
       "\n",
       "                              academicopportunities3  \\\n",
       "0  Computer Programming, iCareers, Online courses...   \n",
       "1  We are a Computer Science for All school. Thro...   \n",
       "2  National Honor Society, yearly grade-level res...   \n",
       "\n",
       "                              academicopportunities4  \\\n",
       "0  Multicultural Literature, Conflict Resolution/...   \n",
       "1  All students are matched to an internship in t...   \n",
       "2  Learning Through Expanded Arts Playwriting Pro...   \n",
       "\n",
       "                              academicopportunities5  ... state_code  \\\n",
       "0                                                NaN  ...         NY   \n",
       "1  Afterschool programs include: Peer Tutoring, A...  ...         NY   \n",
       "2  Roundabout Theatre Company (Playwriting, IATSE...  ...         NY   \n",
       "\n",
       "     Borough   Latitude  Longitude Community Board Council District  \\\n",
       "0  BROOKLYN   40.688831 -73.920906               3               41   \n",
       "1  BROOKLYN   40.670349 -73.961695               9               35   \n",
       "2  MANHATTAN  40.755843 -73.984382               5                4   \n",
       "\n",
       "  Census Tract        BIN           BBL  \\\n",
       "0          375  3039676.0  3.014820e+09   \n",
       "1          213  3029686.0  3.011870e+09   \n",
       "2          119  1022615.0  1.009960e+09   \n",
       "\n",
       "                                                 NTA  \n",
       "0  Stuyvesant Heights                            ...  \n",
       "1  Crown Heights South                           ...  \n",
       "2  Midtown-Midtown South                         ...  \n",
       "\n",
       "[3 rows x 462 columns]"
      ]
     },
     "execution_count": 46,
     "metadata": {},
     "output_type": "execute_result"
    }
   ],
   "source": [
    "df_school_dir[:3]"
   ]
  },
  {
   "cell_type": "code",
   "execution_count": 44,
   "metadata": {},
   "outputs": [],
   "source": [
    "df = pd.read_csv('16-17-report-hs.csv')"
   ]
  },
  {
   "cell_type": "code",
   "execution_count": 48,
   "metadata": {},
   "outputs": [
    {
     "data": {
      "text/html": [
       "<div>\n",
       "<style scoped>\n",
       "    .dataframe tbody tr th:only-of-type {\n",
       "        vertical-align: middle;\n",
       "    }\n",
       "\n",
       "    .dataframe tbody tr th {\n",
       "        vertical-align: top;\n",
       "    }\n",
       "\n",
       "    .dataframe thead th {\n",
       "        text-align: right;\n",
       "    }\n",
       "</style>\n",
       "<table border=\"1\" class=\"dataframe\">\n",
       "  <thead>\n",
       "    <tr style=\"text-align: right;\">\n",
       "      <th></th>\n",
       "      <th>DBN</th>\n",
       "      <th>School Name</th>\n",
       "      <th>School Type</th>\n",
       "      <th>Enrollment</th>\n",
       "      <th>Rigorous Instruction Rating</th>\n",
       "      <th>Collaborative Teachers Rating</th>\n",
       "      <th>Supportive Environment Rating</th>\n",
       "      <th>Effective School Leadership Rating</th>\n",
       "      <th>Strong Family-Community Ties Rating</th>\n",
       "      <th>Trust Rating</th>\n",
       "      <th>...</th>\n",
       "      <th>Percent HRA Eligible</th>\n",
       "      <th>Percent Asian</th>\n",
       "      <th>Percent Black</th>\n",
       "      <th>Percent Hispanic</th>\n",
       "      <th>Percent White</th>\n",
       "      <th>Years of principal experience at this school</th>\n",
       "      <th>Percent of teachers with 3 or more years of experience</th>\n",
       "      <th>Student Attendance Rate</th>\n",
       "      <th>Percent of Students Chronically Absent</th>\n",
       "      <th>Teacher Attendance Rate</th>\n",
       "    </tr>\n",
       "  </thead>\n",
       "  <tbody>\n",
       "    <tr>\n",
       "      <th>0</th>\n",
       "      <td>01M292</td>\n",
       "      <td>Orchard Collegiate Academy</td>\n",
       "      <td>High School</td>\n",
       "      <td>140</td>\n",
       "      <td>Meeting Target</td>\n",
       "      <td>Exceeding Target</td>\n",
       "      <td>Meeting Target</td>\n",
       "      <td>Meeting Target</td>\n",
       "      <td>Approaching Target</td>\n",
       "      <td>Exceeding Target</td>\n",
       "      <td>...</td>\n",
       "      <td>0.621</td>\n",
       "      <td>0.150</td>\n",
       "      <td>0.243</td>\n",
       "      <td>0.550</td>\n",
       "      <td>0.050</td>\n",
       "      <td>1.9</td>\n",
       "      <td>0.500</td>\n",
       "      <td>0.867</td>\n",
       "      <td>0.448</td>\n",
       "      <td>0.973</td>\n",
       "    </tr>\n",
       "    <tr>\n",
       "      <th>1</th>\n",
       "      <td>01M448</td>\n",
       "      <td>University Neighborhood High School</td>\n",
       "      <td>High School</td>\n",
       "      <td>392</td>\n",
       "      <td>Meeting Target</td>\n",
       "      <td>Meeting Target</td>\n",
       "      <td>Exceeding Target</td>\n",
       "      <td>Meeting Target</td>\n",
       "      <td>Meeting Target</td>\n",
       "      <td>Exceeding Target</td>\n",
       "      <td>...</td>\n",
       "      <td>0.538</td>\n",
       "      <td>0.301</td>\n",
       "      <td>0.245</td>\n",
       "      <td>0.421</td>\n",
       "      <td>0.028</td>\n",
       "      <td>7.5</td>\n",
       "      <td>0.429</td>\n",
       "      <td>0.925</td>\n",
       "      <td>0.244</td>\n",
       "      <td>0.971</td>\n",
       "    </tr>\n",
       "  </tbody>\n",
       "</table>\n",
       "<p>2 rows × 46 columns</p>\n",
       "</div>"
      ],
      "text/plain": [
       "      DBN                          School Name  School Type  Enrollment  \\\n",
       "0  01M292           Orchard Collegiate Academy  High School         140   \n",
       "1  01M448  University Neighborhood High School  High School         392   \n",
       "\n",
       "  Rigorous Instruction Rating Collaborative Teachers Rating  \\\n",
       "0              Meeting Target              Exceeding Target   \n",
       "1              Meeting Target                Meeting Target   \n",
       "\n",
       "  Supportive Environment Rating Effective School Leadership Rating  \\\n",
       "0                Meeting Target                     Meeting Target   \n",
       "1              Exceeding Target                     Meeting Target   \n",
       "\n",
       "  Strong Family-Community Ties Rating      Trust Rating  ...  \\\n",
       "0                  Approaching Target  Exceeding Target  ...   \n",
       "1                      Meeting Target  Exceeding Target  ...   \n",
       "\n",
       "  Percent HRA Eligible  Percent Asian  Percent Black  Percent Hispanic  \\\n",
       "0                0.621          0.150          0.243             0.550   \n",
       "1                0.538          0.301          0.245             0.421   \n",
       "\n",
       "   Percent White  Years of principal experience at this school  \\\n",
       "0          0.050                                           1.9   \n",
       "1          0.028                                           7.5   \n",
       "\n",
       "   Percent of teachers with 3 or more years of experience  \\\n",
       "0                                              0.500        \n",
       "1                                              0.429        \n",
       "\n",
       "  Student Attendance Rate Percent of Students Chronically Absent  \\\n",
       "0                   0.867                                  0.448   \n",
       "1                   0.925                                  0.244   \n",
       "\n",
       "  Teacher Attendance Rate  \n",
       "0                   0.973  \n",
       "1                   0.971  \n",
       "\n",
       "[2 rows x 46 columns]"
      ]
     },
     "execution_count": 48,
     "metadata": {},
     "output_type": "execute_result"
    }
   ],
   "source": [
    "df[:2]"
   ]
  },
  {
   "cell_type": "code",
   "execution_count": 57,
   "metadata": {},
   "outputs": [],
   "source": [
    "df_merged = selected_df_dir.merge(df, left_on = 'dbn', right_on = 'DBN')"
   ]
  },
  {
   "cell_type": "code",
   "execution_count": 58,
   "metadata": {},
   "outputs": [
    {
     "data": {
      "text/plain": [
       "Index(['dbn', 'school_name', 'Borough', 'Latitude', 'Longitude', 'boro',\n",
       "       'advancedplacement_courses', 'graduation_rate', 'attendance_rate',\n",
       "       'college_career_rate', 'total_students', 'girls', 'boys',\n",
       "       'international', 'Community Board', 'Council District', 'Census Tract',\n",
       "       'BIN', 'BBL', 'NTA', 'DBN', 'School Name', 'School Type', 'Enrollment',\n",
       "       'Rigorous Instruction Rating', 'Collaborative Teachers Rating',\n",
       "       'Supportive Environment Rating', 'Effective School Leadership Rating',\n",
       "       'Strong Family-Community Ties Rating', 'Trust Rating'],\n",
       "      dtype='object')"
      ]
     },
     "execution_count": 58,
     "metadata": {},
     "output_type": "execute_result"
    }
   ],
   "source": [
    "df_merged.columns[:30]"
   ]
  },
  {
   "cell_type": "code",
   "execution_count": 65,
   "metadata": {},
   "outputs": [],
   "source": [
    "selected_df = df_merged[['Economic Need Index', 'graduation_rate']]"
   ]
  },
  {
   "cell_type": "code",
   "execution_count": 92,
   "metadata": {},
   "outputs": [],
   "source": [
    "selected_df.to_csv('econ_need_grad_rate.csv', index = False)"
   ]
  },
  {
   "cell_type": "code",
   "execution_count": 67,
   "metadata": {},
   "outputs": [
    {
     "data": {
      "text/plain": [
       "Economic Need Index     0\n",
       "graduation_rate        13\n",
       "dtype: int64"
      ]
     },
     "execution_count": 67,
     "metadata": {},
     "output_type": "execute_result"
    }
   ],
   "source": [
    "selected_df.isna().sum()"
   ]
  },
  {
   "cell_type": "code",
   "execution_count": 71,
   "metadata": {},
   "outputs": [],
   "source": [
    "selected_df_not_na = selected_df[selected_df['graduation_rate'].notna()]"
   ]
  },
  {
   "cell_type": "code",
   "execution_count": null,
   "metadata": {},
   "outputs": [],
   "source": [
    "selected_df_not_na"
   ]
  },
  {
   "cell_type": "code",
   "execution_count": 72,
   "metadata": {},
   "outputs": [],
   "source": [
    "X = selected_df_not_na[['Economic Need Index']]"
   ]
  },
  {
   "cell_type": "code",
   "execution_count": 73,
   "metadata": {},
   "outputs": [],
   "source": [
    "y = selected_df_not_na['graduation_rate']"
   ]
  },
  {
   "cell_type": "code",
   "execution_count": 74,
   "metadata": {},
   "outputs": [],
   "source": [
    "from sklearn.linear_model import LinearRegression"
   ]
  },
  {
   "cell_type": "code",
   "execution_count": 75,
   "metadata": {},
   "outputs": [],
   "source": [
    "model = LinearRegression()"
   ]
  },
  {
   "cell_type": "code",
   "execution_count": 76,
   "metadata": {},
   "outputs": [
    {
     "data": {
      "text/plain": [
       "LinearRegression(copy_X=True, fit_intercept=True, n_jobs=None, normalize=False)"
      ]
     },
     "execution_count": 76,
     "metadata": {},
     "output_type": "execute_result"
    }
   ],
   "source": [
    "model.fit(X, y)"
   ]
  },
  {
   "cell_type": "code",
   "execution_count": 80,
   "metadata": {},
   "outputs": [
    {
     "data": {
      "text/plain": [
       "1.1168913738375528"
      ]
     },
     "execution_count": 80,
     "metadata": {},
     "output_type": "execute_result"
    }
   ],
   "source": [
    "model.coef_\n",
    "model.intercept_"
   ]
  },
  {
   "cell_type": "code",
   "execution_count": 81,
   "metadata": {},
   "outputs": [],
   "source": [
    "predictions = model.predict(X)"
   ]
  },
  {
   "cell_type": "code",
   "execution_count": 89,
   "metadata": {},
   "outputs": [
    {
     "data": {
      "application/vnd.plotly.v1+json": {
       "config": {
        "plotlyServerURL": "https://plot.ly"
       },
       "data": [
        {
         "mode": "markers",
         "type": "scatter",
         "x": [
          0.73,
          0.903,
          0.581,
          0.733,
          0.305,
          0.653,
          0.764,
          0.292,
          0.72,
          0.8290000000000001,
          0.249,
          0.765,
          0.685,
          0.515,
          0.784,
          0.79,
          0.449,
          0.6559999999999999,
          0.726,
          0.306,
          0.726,
          0.319,
          0.6559999999999999,
          0.72,
          0.618,
          0.653,
          0.37799999999999995,
          0.598,
          0.726,
          0.67,
          0.655,
          0.807,
          0.34,
          0.8590000000000001,
          0.9470000000000001,
          0.743,
          0.639,
          0.659,
          0.6890000000000001,
          0.8759999999999999,
          0.79,
          0.6629999999999999,
          0.26,
          0.6920000000000001,
          0.732,
          0.815,
          0.40399999999999997,
          0.875,
          0.7759999999999999,
          0.366,
          0.7290000000000001,
          0.818,
          0.621,
          0.47600000000000003,
          0.7120000000000001,
          0.809,
          0.6559999999999999,
          0.5589999999999999,
          0.778,
          0.7929999999999999,
          0.605,
          0.9329999999999999,
          0.7509999999999999,
          0.757,
          0.585,
          0.6679999999999999,
          0.665,
          0.8390000000000001,
          0.9279999999999999,
          0.748,
          0.619,
          0.8690000000000001,
          0.726,
          0.7929999999999999,
          0.495,
          0.52,
          0.812,
          0.685,
          0.753,
          0.589,
          0.47600000000000003,
          0.519,
          0.631,
          0.6940000000000001,
          0.731,
          0.45799999999999996,
          0.919,
          0.507,
          0.82,
          0.42200000000000004,
          0.865,
          0.8540000000000001,
          0.765,
          0.767,
          0.376,
          0.708,
          0.6729999999999999,
          0.61,
          0.634,
          0.838,
          0.706,
          0.6729999999999999,
          0.736,
          0.804,
          0.875,
          0.787,
          0.7020000000000001,
          0.789,
          0.85,
          0.594,
          0.802,
          0.618,
          0.599,
          0.628,
          0.95,
          0.9229999999999999,
          0.615,
          0.434,
          0.674,
          0.828,
          0.541,
          0.287,
          0.833,
          0.7020000000000001,
          0.616,
          0.818,
          0.38299999999999995,
          0.647,
          0.48700000000000004,
          0.614,
          0.685,
          0.695,
          0.818,
          0.33399999999999996,
          0.674,
          0.752,
          0.499,
          0.40700000000000003,
          0.815,
          0.696,
          0.816,
          0.772,
          0.6559999999999999,
          0.6,
          0.685,
          0.67,
          0.8009999999999999,
          0.263,
          0.726,
          0.37,
          0.6829999999999999,
          0.41700000000000004,
          0.662,
          0.364,
          0.5579999999999999,
          0.664,
          0.733,
          0.636,
          0.6609999999999999,
          0.733,
          0.958,
          0.7929999999999999,
          0.359,
          0.888,
          0.561,
          0.379,
          0.539,
          0.512,
          0.937,
          0.721,
          0.858,
          0.5579999999999999,
          0.397,
          0.525,
          0.736,
          0.657,
          0.7659999999999999,
          0.716,
          0.5579999999999999,
          0.687,
          0.556,
          0.8190000000000001,
          0.77,
          0.763,
          0.63,
          0.43200000000000005,
          0.647,
          0.6459999999999999,
          0.86,
          0.6920000000000001,
          0.359,
          0.705,
          0.688,
          0.7909999999999999,
          0.823,
          0.545,
          0.5710000000000001,
          0.5589999999999999,
          0.8190000000000001,
          0.753,
          0.618,
          0.648,
          0.706,
          0.502,
          0.938,
          0.83,
          0.46,
          0.628,
          0.828,
          0.669,
          0.755,
          0.451,
          0.626,
          0.42100000000000004,
          0.6859999999999999,
          0.693,
          0.266,
          0.815,
          0.419,
          0.836,
          0.611,
          0.615,
          0.769,
          0.47,
          0.868,
          0.72,
          0.664,
          0.405,
          0.631,
          0.7809999999999999,
          0.586,
          0.6609999999999999,
          0.708,
          0.745,
          0.898,
          0.758,
          0.8859999999999999,
          0.777,
          0.941,
          0.687,
          0.418,
          0.7559999999999999,
          0.615,
          0.825,
          0.642,
          0.57,
          0.614,
          0.736,
          0.5589999999999999,
          0.828,
          0.6859999999999999,
          0.607,
          0.7390000000000001,
          0.792,
          0.7070000000000001,
          0.8740000000000001,
          0.569,
          0.78,
          0.616,
          0.32,
          0.231,
          0.875,
          0.758,
          0.805,
          0.679,
          0.731,
          0.625,
          0.857,
          0.48700000000000004,
          0.6940000000000001,
          0.861,
          0.455,
          0.858,
          0.748,
          0.779,
          0.716,
          0.37,
          0.805,
          0.511,
          0.825,
          0.5589999999999999,
          0.47200000000000003,
          0.7859999999999999,
          0.287,
          0.841,
          0.645,
          0.6859999999999999,
          0.6920000000000001,
          0.8740000000000001,
          0.765,
          0.7,
          0.757,
          0.759,
          0.826,
          0.562,
          0.7120000000000001,
          0.8320000000000001,
          0.9059999999999999,
          0.835,
          0.8109999999999999,
          0.195,
          0.653,
          0.792,
          0.78,
          0.6970000000000001,
          0.7040000000000001,
          0.831,
          0.659,
          0.581,
          0.545,
          0.741,
          0.727,
          0.6409999999999999,
          0.773,
          0.547,
          0.677,
          0.276,
          0.866,
          0.759,
          0.505,
          0.611,
          0.294,
          0.889,
          0.9229999999999999,
          0.7759999999999999,
          0.5870000000000001,
          0.39399999999999996,
          0.764,
          0.6509999999999999,
          0.213,
          0.39299999999999996,
          0.521,
          0.802,
          0.511,
          0.833,
          0.825,
          0.95,
          0.907,
          0.259,
          0.732,
          0.743,
          0.813,
          0.621,
          0.36700000000000005,
          0.741,
          0.605,
          0.8320000000000001,
          0.43,
          0.6729999999999999,
          0.693,
          0.785,
          0.77,
          0.8440000000000001,
          0.8490000000000001,
          0.447,
          0.7709999999999999,
          0.953,
          0.8370000000000001,
          0.377,
          0.536,
          0.708,
          0.624,
          0.35100000000000003,
          0.83,
          0.619,
          0.847,
          0.955,
          0.7190000000000001,
          0.26,
          0.711,
          0.506,
          0.7559999999999999,
          0.726,
          0.381,
          0.6809999999999999,
          0.795,
          0.45399999999999996,
          0.953,
          0.312,
          0.589,
          0.557,
          0.376,
          0.747,
          0.78,
          0.7490000000000001,
          0.7659999999999999,
          0.664,
          0.284,
          0.648,
          0.7879999999999999,
          0.818,
          0.35100000000000003,
          0.418,
          0.46,
          0.608,
          0.677,
          0.8140000000000001,
          0.8320000000000001,
          0.485,
          0.792,
          0.43,
          0.363
         ],
         "y": [
          0.74,
          0.63,
          0.96,
          0.81,
          0.99,
          0.53,
          0.73,
          0.87,
          0.81,
          0.66,
          0.98,
          0.69,
          0.89,
          0.93,
          0.81,
          0.89,
          0.97,
          0.74,
          0.64,
          1,
          0.68,
          1,
          0.61,
          0.83,
          0.76,
          0.89,
          0.99,
          0.67,
          0.66,
          0.78,
          0.83,
          0.66,
          0.99,
          0.73,
          0.62,
          0.6,
          0.73,
          0.81,
          0.71,
          0.67,
          0.76,
          0.74,
          0.97,
          0.96,
          0.91,
          0.8,
          0.99,
          0.58,
          0.73,
          0.97,
          0.7,
          0.63,
          0.93,
          0.98,
          0.74,
          0.7,
          0.94,
          0.81,
          0.54,
          0.85,
          0.77,
          0.96,
          0.69,
          0.9,
          0.93,
          0.73,
          0.8,
          0.55,
          0.61,
          0.47,
          0.64,
          0.67,
          0.75,
          0.9,
          0.89,
          0.93,
          0.73,
          0.8,
          0.67,
          0.63,
          0.71,
          0.82,
          0.99,
          0.86,
          0.78,
          0.93,
          0.67,
          0.83,
          0.66,
          0.89,
          0.46,
          0.62,
          0.57,
          0.74,
          0.97,
          0.63,
          0.82,
          0.71,
          0.69,
          0.72,
          0.63,
          1,
          0.77,
          0.77,
          0.8,
          0.84,
          1,
          0.54,
          0.53,
          0.7,
          0.51,
          0.6,
          0.84,
          0.72,
          0.57,
          0.69,
          0.9,
          0.99,
          0.82,
          0.64,
          0.83,
          0.91,
          0.71,
          0.81,
          0.9,
          0.64,
          0.99,
          0.71,
          0.87,
          0.74,
          0.76,
          0.86,
          0.66,
          0.98,
          0.83,
          0.96,
          0.98,
          0.99,
          0.87,
          0.7,
          0.96,
          0.71,
          0.96,
          0.75,
          0.65,
          0.89,
          0.73,
          1,
          0.77,
          0.99,
          0.78,
          0.95,
          0.95,
          0.93,
          0.91,
          0.74,
          0.61,
          0.66,
          0.86,
          0.68,
          0.79,
          0.67,
          0.97,
          0.52,
          0.8,
          0.98,
          0.81,
          0.9,
          0.63,
          0.71,
          0.92,
          1,
          0.93,
          0.97,
          0.77,
          0.74,
          0.65,
          0.93,
          0.92,
          0.74,
          0.84,
          0.72,
          0.6,
          0.69,
          0.64,
          0.96,
          0.92,
          0.95,
          0.55,
          0.79,
          0.91,
          0.95,
          1,
          0.73,
          0.68,
          0.94,
          0.91,
          0.68,
          0.91,
          0.83,
          0.71,
          0.9,
          0.59,
          0.93,
          0.73,
          0.96,
          0.98,
          0.67,
          0.73,
          0.93,
          0.83,
          0.97,
          0.87,
          0.92,
          0.8,
          0.67,
          0.99,
          0.65,
          0.98,
          0.73,
          0.97,
          0.63,
          0.68,
          0.7,
          0.85,
          0.72,
          0.59,
          0.93,
          0.73,
          0.5,
          0.92,
          0.78,
          0.75,
          0.95,
          0.9,
          0.7,
          0.73,
          0.74,
          0.77,
          0.66,
          0.9,
          0.77,
          0.97,
          0.49,
          0.81,
          0.85,
          0.9,
          0.69,
          0.87,
          0.85,
          0.91,
          0.58,
          0.73,
          0.6,
          0.83,
          0.68,
          0.84,
          0.92,
          0.86,
          0.98,
          0.89,
          0.5,
          0.75,
          0.77,
          0.81,
          0.74,
          0.8,
          0.43,
          0.67,
          0.74,
          0.78,
          0.79,
          0.54,
          0.92,
          0.89,
          0.78,
          0.86,
          0.79,
          0.93,
          0.81,
          0.68,
          0.98,
          0.56,
          1,
          0.8,
          0.88,
          0.89,
          0.75,
          0.69,
          0.84,
          0.74,
          0.68,
          0.67,
          0.54,
          0.73,
          0.67,
          0.66,
          0.77,
          0.66,
          0.85,
          1,
          0.72,
          0.67,
          0.72,
          0.79,
          0.54,
          0.64,
          0.84,
          0.8,
          0.96,
          0.73,
          0.64,
          0.96,
          0.63,
          0.88,
          0.64,
          0.99,
          0.65,
          0.48,
          0.77,
          0.85,
          0.93,
          0.88,
          0.66,
          0.91,
          0.96,
          0.86,
          0.78,
          0.86,
          0.99,
          0.98,
          0.84,
          0.86,
          0.98,
          0.64,
          0.53,
          0.62,
          0.58,
          0.99,
          0.82,
          0.76,
          0.68,
          0.85,
          0.66,
          0.71,
          0.75,
          0.83,
          0.89,
          0.95,
          0.84,
          0.77,
          0.98,
          0.73,
          0.74,
          0.88,
          0.92,
          0.8,
          0.5,
          0.96,
          0.82,
          0.67,
          0.75,
          1,
          0.73,
          0.95,
          0.79,
          0.62,
          0.97,
          1,
          0.76,
          0.85,
          0.72,
          0.87,
          0.98,
          0.97,
          0.86,
          0.8,
          0.39,
          0.97,
          0.73,
          0.73,
          0.93,
          0.93,
          0.64,
          0.75,
          0.82,
          0.65,
          0.91,
          0.76,
          0.7,
          0.63,
          0.94,
          0.86,
          1,
          0.9,
          0.66,
          0.8,
          0.69,
          0.78,
          0.63,
          0.98,
          0.99
         ]
        },
        {
         "type": "scatter",
         "x": [
          0.73,
          0.903,
          0.581,
          0.733,
          0.305,
          0.653,
          0.764,
          0.292,
          0.72,
          0.8290000000000001,
          0.249,
          0.765,
          0.685,
          0.515,
          0.784,
          0.79,
          0.449,
          0.6559999999999999,
          0.726,
          0.306,
          0.726,
          0.319,
          0.6559999999999999,
          0.72,
          0.618,
          0.653,
          0.37799999999999995,
          0.598,
          0.726,
          0.67,
          0.655,
          0.807,
          0.34,
          0.8590000000000001,
          0.9470000000000001,
          0.743,
          0.639,
          0.659,
          0.6890000000000001,
          0.8759999999999999,
          0.79,
          0.6629999999999999,
          0.26,
          0.6920000000000001,
          0.732,
          0.815,
          0.40399999999999997,
          0.875,
          0.7759999999999999,
          0.366,
          0.7290000000000001,
          0.818,
          0.621,
          0.47600000000000003,
          0.7120000000000001,
          0.809,
          0.6559999999999999,
          0.5589999999999999,
          0.778,
          0.7929999999999999,
          0.605,
          0.9329999999999999,
          0.7509999999999999,
          0.757,
          0.585,
          0.6679999999999999,
          0.665,
          0.8390000000000001,
          0.9279999999999999,
          0.748,
          0.619,
          0.8690000000000001,
          0.726,
          0.7929999999999999,
          0.495,
          0.52,
          0.812,
          0.685,
          0.753,
          0.589,
          0.47600000000000003,
          0.519,
          0.631,
          0.6940000000000001,
          0.731,
          0.45799999999999996,
          0.919,
          0.507,
          0.82,
          0.42200000000000004,
          0.865,
          0.8540000000000001,
          0.765,
          0.767,
          0.376,
          0.708,
          0.6729999999999999,
          0.61,
          0.634,
          0.838,
          0.706,
          0.6729999999999999,
          0.736,
          0.804,
          0.875,
          0.787,
          0.7020000000000001,
          0.789,
          0.85,
          0.594,
          0.802,
          0.618,
          0.599,
          0.628,
          0.95,
          0.9229999999999999,
          0.615,
          0.434,
          0.674,
          0.828,
          0.541,
          0.287,
          0.833,
          0.7020000000000001,
          0.616,
          0.818,
          0.38299999999999995,
          0.647,
          0.48700000000000004,
          0.614,
          0.685,
          0.695,
          0.818,
          0.33399999999999996,
          0.674,
          0.752,
          0.499,
          0.40700000000000003,
          0.815,
          0.696,
          0.816,
          0.772,
          0.6559999999999999,
          0.6,
          0.685,
          0.67,
          0.8009999999999999,
          0.263,
          0.726,
          0.37,
          0.6829999999999999,
          0.41700000000000004,
          0.662,
          0.364,
          0.5579999999999999,
          0.664,
          0.733,
          0.636,
          0.6609999999999999,
          0.733,
          0.958,
          0.7929999999999999,
          0.359,
          0.888,
          0.561,
          0.379,
          0.539,
          0.512,
          0.937,
          0.721,
          0.858,
          0.5579999999999999,
          0.397,
          0.525,
          0.736,
          0.657,
          0.7659999999999999,
          0.716,
          0.5579999999999999,
          0.687,
          0.556,
          0.8190000000000001,
          0.77,
          0.763,
          0.63,
          0.43200000000000005,
          0.647,
          0.6459999999999999,
          0.86,
          0.6920000000000001,
          0.359,
          0.705,
          0.688,
          0.7909999999999999,
          0.823,
          0.545,
          0.5710000000000001,
          0.5589999999999999,
          0.8190000000000001,
          0.753,
          0.618,
          0.648,
          0.706,
          0.502,
          0.938,
          0.83,
          0.46,
          0.628,
          0.828,
          0.669,
          0.755,
          0.451,
          0.626,
          0.42100000000000004,
          0.6859999999999999,
          0.693,
          0.266,
          0.815,
          0.419,
          0.836,
          0.611,
          0.615,
          0.769,
          0.47,
          0.868,
          0.72,
          0.664,
          0.405,
          0.631,
          0.7809999999999999,
          0.586,
          0.6609999999999999,
          0.708,
          0.745,
          0.898,
          0.758,
          0.8859999999999999,
          0.777,
          0.941,
          0.687,
          0.418,
          0.7559999999999999,
          0.615,
          0.825,
          0.642,
          0.57,
          0.614,
          0.736,
          0.5589999999999999,
          0.828,
          0.6859999999999999,
          0.607,
          0.7390000000000001,
          0.792,
          0.7070000000000001,
          0.8740000000000001,
          0.569,
          0.78,
          0.616,
          0.32,
          0.231,
          0.875,
          0.758,
          0.805,
          0.679,
          0.731,
          0.625,
          0.857,
          0.48700000000000004,
          0.6940000000000001,
          0.861,
          0.455,
          0.858,
          0.748,
          0.779,
          0.716,
          0.37,
          0.805,
          0.511,
          0.825,
          0.5589999999999999,
          0.47200000000000003,
          0.7859999999999999,
          0.287,
          0.841,
          0.645,
          0.6859999999999999,
          0.6920000000000001,
          0.8740000000000001,
          0.765,
          0.7,
          0.757,
          0.759,
          0.826,
          0.562,
          0.7120000000000001,
          0.8320000000000001,
          0.9059999999999999,
          0.835,
          0.8109999999999999,
          0.195,
          0.653,
          0.792,
          0.78,
          0.6970000000000001,
          0.7040000000000001,
          0.831,
          0.659,
          0.581,
          0.545,
          0.741,
          0.727,
          0.6409999999999999,
          0.773,
          0.547,
          0.677,
          0.276,
          0.866,
          0.759,
          0.505,
          0.611,
          0.294,
          0.889,
          0.9229999999999999,
          0.7759999999999999,
          0.5870000000000001,
          0.39399999999999996,
          0.764,
          0.6509999999999999,
          0.213,
          0.39299999999999996,
          0.521,
          0.802,
          0.511,
          0.833,
          0.825,
          0.95,
          0.907,
          0.259,
          0.732,
          0.743,
          0.813,
          0.621,
          0.36700000000000005,
          0.741,
          0.605,
          0.8320000000000001,
          0.43,
          0.6729999999999999,
          0.693,
          0.785,
          0.77,
          0.8440000000000001,
          0.8490000000000001,
          0.447,
          0.7709999999999999,
          0.953,
          0.8370000000000001,
          0.377,
          0.536,
          0.708,
          0.624,
          0.35100000000000003,
          0.83,
          0.619,
          0.847,
          0.955,
          0.7190000000000001,
          0.26,
          0.711,
          0.506,
          0.7559999999999999,
          0.726,
          0.381,
          0.6809999999999999,
          0.795,
          0.45399999999999996,
          0.953,
          0.312,
          0.589,
          0.557,
          0.376,
          0.747,
          0.78,
          0.7490000000000001,
          0.7659999999999999,
          0.664,
          0.284,
          0.648,
          0.7879999999999999,
          0.818,
          0.35100000000000003,
          0.418,
          0.46,
          0.608,
          0.677,
          0.8140000000000001,
          0.8320000000000001,
          0.485,
          0.792,
          0.43,
          0.363
         ],
         "y": [
          0.7580807124723465,
          0.6730475009433319,
          0.8313174091071627,
          0.7566061481105717,
          0.9669773303904461,
          0.7959278644245669,
          0.7413689830388985,
          0.9733671092914703,
          0.7629959270115959,
          0.7094200885337774,
          0.9945025318102427,
          0.7408774615849736,
          0.7801991778989688,
          0.8637578250662086,
          0.7315385539603998,
          0.7285894252368501,
          0.8961982410252547,
          0.7944533000627921,
          0.7600467982880463,
          0.9664858089365211,
          0.7600467982880463,
          0.9600960300354968,
          0.7944533000627921,
          0.7629959270115959,
          0.8131311153119398,
          0.7959278644245669,
          0.9310962642539254,
          0.8229615443904386,
          0.7600467982880463,
          0.787571999707843,
          0.794944821516717,
          0.7202335605201261,
          0.9497740795030731,
          0.6946744449160291,
          0.6514205569706345,
          0.7516909335713223,
          0.8028091647795161,
          0.7929787357010172,
          0.778233092083269,
          0.6863185801993053,
          0.7285894252368501,
          0.7910126498853176,
          0.9890957958170683,
          0.7767585277214942,
          0.7570976695644966,
          0.7163013888887266,
          0.918316706451877,
          0.6868101016532302,
          0.7354707255917994,
          0.9369945217010247,
          0.7585722339262715,
          0.7148268245269518,
          0.811656550950165,
          0.8829271617692813,
          0.7669280986429954,
          0.7192505176122762,
          0.7944533000627921,
          0.8421308810935113,
          0.7344876826839494,
          0.7271148608750753,
          0.819520894212964,
          0.6583018573255837,
          0.7477587619399229,
          0.7448096332163732,
          0.8293513232914629,
          0.7885550426156929,
          0.7900296069774676,
          0.704504873994528,
          0.6607594645952084,
          0.7492333263016976,
          0.8126395938580149,
          0.6897592303767798,
          0.7600467982880463,
          0.7271148608750753,
          0.8735882541447074,
          0.861300217796584,
          0.7177759532505015,
          0.7801991778989688,
          0.746775719032073,
          0.8273852374757631,
          0.8829271617692813,
          0.8617917392505089,
          0.8067413364109156,
          0.7757754848136443,
          0.7575891910184216,
          0.8917745479399303,
          0.6651831576805328,
          0.8676899966976082,
          0.7138437816191019,
          0.9094693202812281,
          0.6917253161924797,
          0.6971320521856539,
          0.7408774615849736,
          0.7398944186771237,
          0.9320793071617753,
          0.7688941844586952,
          0.7860974353460681,
          0.8170632869433394,
          0.8052667720491408,
          0.704996395448453,
          0.7698772273665451,
          0.7860974353460681,
          0.7551315837487969,
          0.721708124881901,
          0.6868101016532302,
          0.730063989598625,
          0.7718433131822449,
          0.7290809466907751,
          0.6990981380013537,
          0.8249276302061384,
          0.7226911677897507,
          0.8131311153119398,
          0.8224700229365136,
          0.8082159007726903,
          0.6499459926088598,
          0.6632170718648331,
          0.8146056796737147,
          0.9035710628341288,
          0.7856059138921432,
          0.7099116099877024,
          0.8509782672641601,
          0.9758247165610949,
          0.7074540027180778,
          0.7718433131822449,
          0.8141141582197897,
          0.7148268245269518,
          0.9286386569843008,
          0.7988769931481166,
          0.8775204257761069,
          0.8150972011276396,
          0.7801991778989688,
          0.7752839633597195,
          0.7148268245269518,
          0.9527232082266228,
          0.7856059138921432,
          0.7472672404859979,
          0.8716221683290077,
          0.9168421420901022,
          0.7163013888887266,
          0.7747924419057945,
          0.7158098674348017,
          0.737436811407499,
          0.7944533000627921,
          0.8219785014825887,
          0.7801991778989688,
          0.787571999707843,
          0.7231826892436758,
          0.9876212314552935,
          0.7600467982880463,
          0.9350284358853249,
          0.7811822208068188,
          0.9119269275508528,
          0.7915041713392424,
          0.9379775646088746,
          0.8426224025474363,
          0.7905211284313926,
          0.7566061481105717,
          0.8042837291412909,
          0.7919956927931675,
          0.7566061481105717,
          0.6460138209774602,
          0.7271148608750753,
          0.9404351718784993,
          0.680420322752206,
          0.8411478381856614,
          0.9306047428000005,
          0.85196131017201,
          0.8652323894279834,
          0.6563357715098839,
          0.7625044055576711,
          0.6951659663699542,
          0.8426224025474363,
          0.9217573566293515,
          0.8588426105269592,
          0.7551315837487969,
          0.7939617786088671,
          0.7403859401310487,
          0.7649620128272957,
          0.8426224025474363,
          0.7792161349911189,
          0.8436054454552862,
          0.7143353030730268,
          0.7384198543153488,
          0.7418605044928235,
          0.8072328578648404,
          0.9045541057419786,
          0.7988769931481166,
          0.7993685146020415,
          0.6941829234621043,
          0.7767585277214942,
          0.9404351718784993,
          0.77036874882047,
          0.778724613537194,
          0.7280979037829252,
          0.712369217257327,
          0.8490121814484604,
          0.8362326236464119,
          0.8421308810935113,
          0.7143353030730268,
          0.746775719032073,
          0.8131311153119398,
          0.7983854716941916,
          0.7698772273665451,
          0.8701476039672329,
          0.655844250055959,
          0.7089285670798525,
          0.8907915050320803,
          0.8082159007726903,
          0.7099116099877024,
          0.7880635211617679,
          0.7457926761242231,
          0.8952151981174048,
          0.8091989436805402,
          0.909960841735153,
          0.7797076564450439,
          0.7762670062675694,
          0.9861466670935187,
          0.7163013888887266,
          0.9109438846430029,
          0.705979438356303,
          0.8165717654894145,
          0.8146056796737147,
          0.7389113757692738,
          0.885876290492831,
          0.6902507518307048,
          0.7629959270115959,
          0.7905211284313926,
          0.9178251849979521,
          0.8067413364109156,
          0.7330131183221746,
          0.8288598018375379,
          0.7919956927931675,
          0.7688941844586952,
          0.7507078906634724,
          0.6755051082129566,
          0.7443181117624482,
          0.681403365660056,
          0.7349792041378743,
          0.6543696856941842,
          0.7792161349911189,
          0.9114354060969279,
          0.7453011546702981,
          0.8146056796737147,
          0.7113861743494773,
          0.8013346004177413,
          0.8367241451003369,
          0.8150972011276396,
          0.7551315837487969,
          0.8421308810935113,
          0.7099116099877024,
          0.7797076564450439,
          0.8185378513051141,
          0.753657019387022,
          0.7276063823290002,
          0.7693857059126201,
          0.6873016231071551,
          0.8372156665542618,
          0.7335046397760996,
          0.8141141582197897,
          0.959604508581572,
          1.0033499179808916,
          0.6868101016532302,
          0.7443181117624482,
          0.721216603427976,
          0.7831483066225184,
          0.7575891910184216,
          0.8096904651344652,
          0.6956574878238792,
          0.8775204257761069,
          0.7757754848136443,
          0.6936914020081794,
          0.893249112301705,
          0.6951659663699542,
          0.7492333263016976,
          0.7339961612300244,
          0.7649620128272957,
          0.9350284358853249,
          0.721216603427976,
          0.8657239108819084,
          0.7113861743494773,
          0.8421308810935113,
          0.8848932475849811,
          0.7305555110525499,
          0.9758247165610949,
          0.7035218310866782,
          0.7998600360559665,
          0.7797076564450439,
          0.7767585277214942,
          0.6873016231071551,
          0.7408774615849736,
          0.7728263560900948,
          0.7448096332163732,
          0.7438265903085233,
          0.7108946528955523,
          0.8406563167317365,
          0.7669280986429954,
          0.7079455241720025,
          0.671572936581557,
          0.7064709598102279,
          0.7182674747044264,
          1.0210446903221895,
          0.7959278644245669,
          0.7276063823290002,
          0.7335046397760996,
          0.7743009204518695,
          0.770860270274395,
          0.7084370456259276,
          0.7929787357010172,
          0.8313174091071627,
          0.8490121814484604,
          0.7526739764791721,
          0.7595552768341214,
          0.8018261218716662,
          0.7369452899535741,
          0.8480291385406105,
          0.7841313495303683,
          0.9812314525542694,
          0.6912337947385547,
          0.7438265903085233,
          0.868673039605458,
          0.8165717654894145,
          0.9723840663836204,
          0.679928801298281,
          0.6632170718648331,
          0.7354707255917994,
          0.828368280383613,
          0.9232319209911264,
          0.7413689830388985,
          0.7969109073324168,
          1.0121973041515406,
          0.9237234424450513,
          0.860808696342659,
          0.7226911677897507,
          0.8657239108819084,
          0.7074540027180778,
          0.7113861743494773,
          0.6499459926088598,
          0.6710814151276321,
          0.9895873172709932,
          0.7570976695644966,
          0.7516909335713223,
          0.7172844317965765,
          0.811656550950165,
          0.9365030002470998,
          0.7526739764791721,
          0.819520894212964,
          0.7079455241720025,
          0.9055371486498285,
          0.7860974353460681,
          0.7762670062675694,
          0.7310470325064748,
          0.7384198543153488,
          0.7020472667249034,
          0.6995896594552786,
          0.8971812839331046,
          0.737928332861424,
          0.6484714282470849,
          0.7054879169023779,
          0.9315877857078504,
          0.8534358745337849,
          0.7688941844586952,
          0.8101819865883901,
          0.9443673435098988,
          0.7089285670798525,
          0.8126395938580149,
          0.7005727023631285,
          0.647488385339235,
          0.7634874484655207,
          0.9890957958170683,
          0.7674196200969203,
          0.8681815181515331,
          0.7453011546702981,
          0.7600467982880463,
          0.9296216998921506,
          0.7821652637146685,
          0.7261318179672254,
          0.89374063375563,
          0.6484714282470849,
          0.9635366802129715,
          0.8273852374757631,
          0.8431139240013612,
          0.9320793071617753,
          0.7497248477556225,
          0.7335046397760996,
          0.7487418048477725,
          0.7403859401310487,
          0.7905211284313926,
          0.9772992809228698,
          0.7983854716941916,
          0.7295724681447,
          0.7148268245269518,
          0.9443673435098988,
          0.9114354060969279,
          0.8907915050320803,
          0.8180463298511892,
          0.7841313495303683,
          0.7167929103426516,
          0.7079455241720025,
          0.8785034686839568,
          0.7276063823290002,
          0.9055371486498285,
          0.9384690860627996
         ]
        }
       ],
       "layout": {
        "autosize": true,
        "template": {
         "data": {
          "bar": [
           {
            "error_x": {
             "color": "#2a3f5f"
            },
            "error_y": {
             "color": "#2a3f5f"
            },
            "marker": {
             "line": {
              "color": "#E5ECF6",
              "width": 0.5
             }
            },
            "type": "bar"
           }
          ],
          "barpolar": [
           {
            "marker": {
             "line": {
              "color": "#E5ECF6",
              "width": 0.5
             }
            },
            "type": "barpolar"
           }
          ],
          "carpet": [
           {
            "aaxis": {
             "endlinecolor": "#2a3f5f",
             "gridcolor": "white",
             "linecolor": "white",
             "minorgridcolor": "white",
             "startlinecolor": "#2a3f5f"
            },
            "baxis": {
             "endlinecolor": "#2a3f5f",
             "gridcolor": "white",
             "linecolor": "white",
             "minorgridcolor": "white",
             "startlinecolor": "#2a3f5f"
            },
            "type": "carpet"
           }
          ],
          "choropleth": [
           {
            "colorbar": {
             "outlinewidth": 0,
             "ticks": ""
            },
            "type": "choropleth"
           }
          ],
          "contour": [
           {
            "colorbar": {
             "outlinewidth": 0,
             "ticks": ""
            },
            "colorscale": [
             [
              0,
              "#0d0887"
             ],
             [
              0.1111111111111111,
              "#46039f"
             ],
             [
              0.2222222222222222,
              "#7201a8"
             ],
             [
              0.3333333333333333,
              "#9c179e"
             ],
             [
              0.4444444444444444,
              "#bd3786"
             ],
             [
              0.5555555555555556,
              "#d8576b"
             ],
             [
              0.6666666666666666,
              "#ed7953"
             ],
             [
              0.7777777777777778,
              "#fb9f3a"
             ],
             [
              0.8888888888888888,
              "#fdca26"
             ],
             [
              1,
              "#f0f921"
             ]
            ],
            "type": "contour"
           }
          ],
          "contourcarpet": [
           {
            "colorbar": {
             "outlinewidth": 0,
             "ticks": ""
            },
            "type": "contourcarpet"
           }
          ],
          "heatmap": [
           {
            "colorbar": {
             "outlinewidth": 0,
             "ticks": ""
            },
            "colorscale": [
             [
              0,
              "#0d0887"
             ],
             [
              0.1111111111111111,
              "#46039f"
             ],
             [
              0.2222222222222222,
              "#7201a8"
             ],
             [
              0.3333333333333333,
              "#9c179e"
             ],
             [
              0.4444444444444444,
              "#bd3786"
             ],
             [
              0.5555555555555556,
              "#d8576b"
             ],
             [
              0.6666666666666666,
              "#ed7953"
             ],
             [
              0.7777777777777778,
              "#fb9f3a"
             ],
             [
              0.8888888888888888,
              "#fdca26"
             ],
             [
              1,
              "#f0f921"
             ]
            ],
            "type": "heatmap"
           }
          ],
          "heatmapgl": [
           {
            "colorbar": {
             "outlinewidth": 0,
             "ticks": ""
            },
            "colorscale": [
             [
              0,
              "#0d0887"
             ],
             [
              0.1111111111111111,
              "#46039f"
             ],
             [
              0.2222222222222222,
              "#7201a8"
             ],
             [
              0.3333333333333333,
              "#9c179e"
             ],
             [
              0.4444444444444444,
              "#bd3786"
             ],
             [
              0.5555555555555556,
              "#d8576b"
             ],
             [
              0.6666666666666666,
              "#ed7953"
             ],
             [
              0.7777777777777778,
              "#fb9f3a"
             ],
             [
              0.8888888888888888,
              "#fdca26"
             ],
             [
              1,
              "#f0f921"
             ]
            ],
            "type": "heatmapgl"
           }
          ],
          "histogram": [
           {
            "marker": {
             "colorbar": {
              "outlinewidth": 0,
              "ticks": ""
             }
            },
            "type": "histogram"
           }
          ],
          "histogram2d": [
           {
            "colorbar": {
             "outlinewidth": 0,
             "ticks": ""
            },
            "colorscale": [
             [
              0,
              "#0d0887"
             ],
             [
              0.1111111111111111,
              "#46039f"
             ],
             [
              0.2222222222222222,
              "#7201a8"
             ],
             [
              0.3333333333333333,
              "#9c179e"
             ],
             [
              0.4444444444444444,
              "#bd3786"
             ],
             [
              0.5555555555555556,
              "#d8576b"
             ],
             [
              0.6666666666666666,
              "#ed7953"
             ],
             [
              0.7777777777777778,
              "#fb9f3a"
             ],
             [
              0.8888888888888888,
              "#fdca26"
             ],
             [
              1,
              "#f0f921"
             ]
            ],
            "type": "histogram2d"
           }
          ],
          "histogram2dcontour": [
           {
            "colorbar": {
             "outlinewidth": 0,
             "ticks": ""
            },
            "colorscale": [
             [
              0,
              "#0d0887"
             ],
             [
              0.1111111111111111,
              "#46039f"
             ],
             [
              0.2222222222222222,
              "#7201a8"
             ],
             [
              0.3333333333333333,
              "#9c179e"
             ],
             [
              0.4444444444444444,
              "#bd3786"
             ],
             [
              0.5555555555555556,
              "#d8576b"
             ],
             [
              0.6666666666666666,
              "#ed7953"
             ],
             [
              0.7777777777777778,
              "#fb9f3a"
             ],
             [
              0.8888888888888888,
              "#fdca26"
             ],
             [
              1,
              "#f0f921"
             ]
            ],
            "type": "histogram2dcontour"
           }
          ],
          "mesh3d": [
           {
            "colorbar": {
             "outlinewidth": 0,
             "ticks": ""
            },
            "type": "mesh3d"
           }
          ],
          "parcoords": [
           {
            "line": {
             "colorbar": {
              "outlinewidth": 0,
              "ticks": ""
             }
            },
            "type": "parcoords"
           }
          ],
          "pie": [
           {
            "automargin": true,
            "type": "pie"
           }
          ],
          "scatter": [
           {
            "marker": {
             "colorbar": {
              "outlinewidth": 0,
              "ticks": ""
             }
            },
            "type": "scatter"
           }
          ],
          "scatter3d": [
           {
            "line": {
             "colorbar": {
              "outlinewidth": 0,
              "ticks": ""
             }
            },
            "marker": {
             "colorbar": {
              "outlinewidth": 0,
              "ticks": ""
             }
            },
            "type": "scatter3d"
           }
          ],
          "scattercarpet": [
           {
            "marker": {
             "colorbar": {
              "outlinewidth": 0,
              "ticks": ""
             }
            },
            "type": "scattercarpet"
           }
          ],
          "scattergeo": [
           {
            "marker": {
             "colorbar": {
              "outlinewidth": 0,
              "ticks": ""
             }
            },
            "type": "scattergeo"
           }
          ],
          "scattergl": [
           {
            "marker": {
             "colorbar": {
              "outlinewidth": 0,
              "ticks": ""
             }
            },
            "type": "scattergl"
           }
          ],
          "scattermapbox": [
           {
            "marker": {
             "colorbar": {
              "outlinewidth": 0,
              "ticks": ""
             }
            },
            "type": "scattermapbox"
           }
          ],
          "scatterpolar": [
           {
            "marker": {
             "colorbar": {
              "outlinewidth": 0,
              "ticks": ""
             }
            },
            "type": "scatterpolar"
           }
          ],
          "scatterpolargl": [
           {
            "marker": {
             "colorbar": {
              "outlinewidth": 0,
              "ticks": ""
             }
            },
            "type": "scatterpolargl"
           }
          ],
          "scatterternary": [
           {
            "marker": {
             "colorbar": {
              "outlinewidth": 0,
              "ticks": ""
             }
            },
            "type": "scatterternary"
           }
          ],
          "surface": [
           {
            "colorbar": {
             "outlinewidth": 0,
             "ticks": ""
            },
            "colorscale": [
             [
              0,
              "#0d0887"
             ],
             [
              0.1111111111111111,
              "#46039f"
             ],
             [
              0.2222222222222222,
              "#7201a8"
             ],
             [
              0.3333333333333333,
              "#9c179e"
             ],
             [
              0.4444444444444444,
              "#bd3786"
             ],
             [
              0.5555555555555556,
              "#d8576b"
             ],
             [
              0.6666666666666666,
              "#ed7953"
             ],
             [
              0.7777777777777778,
              "#fb9f3a"
             ],
             [
              0.8888888888888888,
              "#fdca26"
             ],
             [
              1,
              "#f0f921"
             ]
            ],
            "type": "surface"
           }
          ],
          "table": [
           {
            "cells": {
             "fill": {
              "color": "#EBF0F8"
             },
             "line": {
              "color": "white"
             }
            },
            "header": {
             "fill": {
              "color": "#C8D4E3"
             },
             "line": {
              "color": "white"
             }
            },
            "type": "table"
           }
          ]
         },
         "layout": {
          "annotationdefaults": {
           "arrowcolor": "#2a3f5f",
           "arrowhead": 0,
           "arrowwidth": 1
          },
          "coloraxis": {
           "colorbar": {
            "outlinewidth": 0,
            "ticks": ""
           }
          },
          "colorscale": {
           "diverging": [
            [
             0,
             "#8e0152"
            ],
            [
             0.1,
             "#c51b7d"
            ],
            [
             0.2,
             "#de77ae"
            ],
            [
             0.3,
             "#f1b6da"
            ],
            [
             0.4,
             "#fde0ef"
            ],
            [
             0.5,
             "#f7f7f7"
            ],
            [
             0.6,
             "#e6f5d0"
            ],
            [
             0.7,
             "#b8e186"
            ],
            [
             0.8,
             "#7fbc41"
            ],
            [
             0.9,
             "#4d9221"
            ],
            [
             1,
             "#276419"
            ]
           ],
           "sequential": [
            [
             0,
             "#0d0887"
            ],
            [
             0.1111111111111111,
             "#46039f"
            ],
            [
             0.2222222222222222,
             "#7201a8"
            ],
            [
             0.3333333333333333,
             "#9c179e"
            ],
            [
             0.4444444444444444,
             "#bd3786"
            ],
            [
             0.5555555555555556,
             "#d8576b"
            ],
            [
             0.6666666666666666,
             "#ed7953"
            ],
            [
             0.7777777777777778,
             "#fb9f3a"
            ],
            [
             0.8888888888888888,
             "#fdca26"
            ],
            [
             1,
             "#f0f921"
            ]
           ],
           "sequentialminus": [
            [
             0,
             "#0d0887"
            ],
            [
             0.1111111111111111,
             "#46039f"
            ],
            [
             0.2222222222222222,
             "#7201a8"
            ],
            [
             0.3333333333333333,
             "#9c179e"
            ],
            [
             0.4444444444444444,
             "#bd3786"
            ],
            [
             0.5555555555555556,
             "#d8576b"
            ],
            [
             0.6666666666666666,
             "#ed7953"
            ],
            [
             0.7777777777777778,
             "#fb9f3a"
            ],
            [
             0.8888888888888888,
             "#fdca26"
            ],
            [
             1,
             "#f0f921"
            ]
           ]
          },
          "colorway": [
           "#636efa",
           "#EF553B",
           "#00cc96",
           "#ab63fa",
           "#FFA15A",
           "#19d3f3",
           "#FF6692",
           "#B6E880",
           "#FF97FF",
           "#FECB52"
          ],
          "font": {
           "color": "#2a3f5f"
          },
          "geo": {
           "bgcolor": "white",
           "lakecolor": "white",
           "landcolor": "#E5ECF6",
           "showlakes": true,
           "showland": true,
           "subunitcolor": "white"
          },
          "hoverlabel": {
           "align": "left"
          },
          "hovermode": "closest",
          "mapbox": {
           "style": "light"
          },
          "paper_bgcolor": "white",
          "plot_bgcolor": "#E5ECF6",
          "polar": {
           "angularaxis": {
            "gridcolor": "white",
            "linecolor": "white",
            "ticks": ""
           },
           "bgcolor": "#E5ECF6",
           "radialaxis": {
            "gridcolor": "white",
            "linecolor": "white",
            "ticks": ""
           }
          },
          "scene": {
           "xaxis": {
            "backgroundcolor": "#E5ECF6",
            "gridcolor": "white",
            "gridwidth": 2,
            "linecolor": "white",
            "showbackground": true,
            "ticks": "",
            "zerolinecolor": "white"
           },
           "yaxis": {
            "backgroundcolor": "#E5ECF6",
            "gridcolor": "white",
            "gridwidth": 2,
            "linecolor": "white",
            "showbackground": true,
            "ticks": "",
            "zerolinecolor": "white"
           },
           "zaxis": {
            "backgroundcolor": "#E5ECF6",
            "gridcolor": "white",
            "gridwidth": 2,
            "linecolor": "white",
            "showbackground": true,
            "ticks": "",
            "zerolinecolor": "white"
           }
          },
          "shapedefaults": {
           "line": {
            "color": "#2a3f5f"
           }
          },
          "ternary": {
           "aaxis": {
            "gridcolor": "white",
            "linecolor": "white",
            "ticks": ""
           },
           "baxis": {
            "gridcolor": "white",
            "linecolor": "white",
            "ticks": ""
           },
           "bgcolor": "#E5ECF6",
           "caxis": {
            "gridcolor": "white",
            "linecolor": "white",
            "ticks": ""
           }
          },
          "title": {
           "x": 0.05
          },
          "xaxis": {
           "automargin": true,
           "gridcolor": "white",
           "linecolor": "white",
           "ticks": "",
           "title": {
            "standoff": 15
           },
           "zerolinecolor": "white",
           "zerolinewidth": 2
          },
          "yaxis": {
           "automargin": true,
           "gridcolor": "white",
           "linecolor": "white",
           "ticks": "",
           "title": {
            "standoff": 15
           },
           "zerolinecolor": "white",
           "zerolinewidth": 2
          }
         }
        },
        "title": {
         "text": "Graduation Rate & Economic Need"
        },
        "xaxis": {
         "autorange": true,
         "range": [
          0.14442792792792794,
          1.0085720720720721
         ],
         "title": {
          "text": "economic need index"
         },
         "type": "linear"
        },
        "yaxis": {
         "autorange": true,
         "range": [
          0.34450148000811803,
          1.0566522277071406
         ],
         "title": {
          "text": "graduation rate"
         },
         "type": "linear"
        }
       }
      },
      "image/png": "[encoded data removed]",
      "text/html": [
       "<div>\n",
       "        \n",
       "        \n",
       "            <div id=\"241e969c-c1b0-473f-a9b8-05dc0fab017b\" class=\"plotly-graph-div\" style=\"height:525px; width:100%;\"></div>\n",
       "            <script type=\"text/javascript\">\n",
       "                require([\"plotly\"], function(Plotly) {\n",
       "                    window.PLOTLYENV=window.PLOTLYENV || {};\n",
       "                    \n",
       "                if (document.getElementById(\"241e969c-c1b0-473f-a9b8-05dc0fab017b\")) {\n",
       "                    Plotly.newPlot(\n",
       "                        '241e969c-c1b0-473f-a9b8-05dc0fab017b',\n",
       "                        [{\"mode\": \"markers\", \"type\": \"scatter\", \"x\": [0.73, 0.903, 0.581, 0.733, 0.305, 0.653, 0.764, 0.292, 0.72, 0.8290000000000001, 0.249, 0.765, 0.685, 0.515, 0.784, 0.79, 0.449, 0.6559999999999999, 0.726, 0.306, 0.726, 0.319, 0.6559999999999999, 0.72, 0.618, 0.653, 0.37799999999999995, 0.598, 0.726, 0.67, 0.655, 0.807, 0.34, 0.8590000000000001, 0.9470000000000001, 0.743, 0.639, 0.659, 0.6890000000000001, 0.8759999999999999, 0.79, 0.6629999999999999, 0.26, 0.6920000000000001, 0.732, 0.815, 0.40399999999999997, 0.875, 0.7759999999999999, 0.366, 0.7290000000000001, 0.818, 0.621, 0.47600000000000003, 0.7120000000000001, 0.809, 0.6559999999999999, 0.5589999999999999, 0.778, 0.7929999999999999, 0.605, 0.9329999999999999, 0.7509999999999999, 0.757, 0.585, 0.6679999999999999, 0.665, 0.8390000000000001, 0.9279999999999999, 0.748, 0.619, 0.8690000000000001, 0.726, 0.7929999999999999, 0.495, 0.52, 0.812, 0.685, 0.753, 0.589, 0.47600000000000003, 0.519, 0.631, 0.6940000000000001, 0.731, 0.45799999999999996, 0.919, 0.507, 0.82, 0.42200000000000004, 0.865, 0.8540000000000001, 0.765, 0.767, 0.376, 0.708, 0.6729999999999999, 0.61, 0.634, 0.838, 0.706, 0.6729999999999999, 0.736, 0.804, 0.875, 0.787, 0.7020000000000001, 0.789, 0.85, 0.594, 0.802, 0.618, 0.599, 0.628, 0.95, 0.9229999999999999, 0.615, 0.434, 0.674, 0.828, 0.541, 0.287, 0.833, 0.7020000000000001, 0.616, 0.818, 0.38299999999999995, 0.647, 0.48700000000000004, 0.614, 0.685, 0.695, 0.818, 0.33399999999999996, 0.674, 0.752, 0.499, 0.40700000000000003, 0.815, 0.696, 0.816, 0.772, 0.6559999999999999, 0.6, 0.685, 0.67, 0.8009999999999999, 0.263, 0.726, 0.37, 0.6829999999999999, 0.41700000000000004, 0.662, 0.364, 0.5579999999999999, 0.664, 0.733, 0.636, 0.6609999999999999, 0.733, 0.958, 0.7929999999999999, 0.359, 0.888, 0.561, 0.379, 0.539, 0.512, 0.937, 0.721, 0.858, 0.5579999999999999, 0.397, 0.525, 0.736, 0.657, 0.7659999999999999, 0.716, 0.5579999999999999, 0.687, 0.556, 0.8190000000000001, 0.77, 0.763, 0.63, 0.43200000000000005, 0.647, 0.6459999999999999, 0.86, 0.6920000000000001, 0.359, 0.705, 0.688, 0.7909999999999999, 0.823, 0.545, 0.5710000000000001, 0.5589999999999999, 0.8190000000000001, 0.753, 0.618, 0.648, 0.706, 0.502, 0.938, 0.83, 0.46, 0.628, 0.828, 0.669, 0.755, 0.451, 0.626, 0.42100000000000004, 0.6859999999999999, 0.693, 0.266, 0.815, 0.419, 0.836, 0.611, 0.615, 0.769, 0.47, 0.868, 0.72, 0.664, 0.405, 0.631, 0.7809999999999999, 0.586, 0.6609999999999999, 0.708, 0.745, 0.898, 0.758, 0.8859999999999999, 0.777, 0.941, 0.687, 0.418, 0.7559999999999999, 0.615, 0.825, 0.642, 0.57, 0.614, 0.736, 0.5589999999999999, 0.828, 0.6859999999999999, 0.607, 0.7390000000000001, 0.792, 0.7070000000000001, 0.8740000000000001, 0.569, 0.78, 0.616, 0.32, 0.231, 0.875, 0.758, 0.805, 0.679, 0.731, 0.625, 0.857, 0.48700000000000004, 0.6940000000000001, 0.861, 0.455, 0.858, 0.748, 0.779, 0.716, 0.37, 0.805, 0.511, 0.825, 0.5589999999999999, 0.47200000000000003, 0.7859999999999999, 0.287, 0.841, 0.645, 0.6859999999999999, 0.6920000000000001, 0.8740000000000001, 0.765, 0.7, 0.757, 0.759, 0.826, 0.562, 0.7120000000000001, 0.8320000000000001, 0.9059999999999999, 0.835, 0.8109999999999999, 0.195, 0.653, 0.792, 0.78, 0.6970000000000001, 0.7040000000000001, 0.831, 0.659, 0.581, 0.545, 0.741, 0.727, 0.6409999999999999, 0.773, 0.547, 0.677, 0.276, 0.866, 0.759, 0.505, 0.611, 0.294, 0.889, 0.9229999999999999, 0.7759999999999999, 0.5870000000000001, 0.39399999999999996, 0.764, 0.6509999999999999, 0.213, 0.39299999999999996, 0.521, 0.802, 0.511, 0.833, 0.825, 0.95, 0.907, 0.259, 0.732, 0.743, 0.813, 0.621, 0.36700000000000005, 0.741, 0.605, 0.8320000000000001, 0.43, 0.6729999999999999, 0.693, 0.785, 0.77, 0.8440000000000001, 0.8490000000000001, 0.447, 0.7709999999999999, 0.953, 0.8370000000000001, 0.377, 0.536, 0.708, 0.624, 0.35100000000000003, 0.83, 0.619, 0.847, 0.955, 0.7190000000000001, 0.26, 0.711, 0.506, 0.7559999999999999, 0.726, 0.381, 0.6809999999999999, 0.795, 0.45399999999999996, 0.953, 0.312, 0.589, 0.557, 0.376, 0.747, 0.78, 0.7490000000000001, 0.7659999999999999, 0.664, 0.284, 0.648, 0.7879999999999999, 0.818, 0.35100000000000003, 0.418, 0.46, 0.608, 0.677, 0.8140000000000001, 0.8320000000000001, 0.485, 0.792, 0.43, 0.363], \"y\": [0.74, 0.63, 0.96, 0.81, 0.99, 0.53, 0.73, 0.87, 0.81, 0.66, 0.98, 0.69, 0.89, 0.93, 0.81, 0.89, 0.97, 0.74, 0.64, 1.0, 0.68, 1.0, 0.61, 0.83, 0.76, 0.89, 0.99, 0.67, 0.66, 0.78, 0.83, 0.66, 0.99, 0.73, 0.62, 0.6, 0.73, 0.81, 0.71, 0.67, 0.76, 0.74, 0.97, 0.96, 0.91, 0.8, 0.99, 0.58, 0.73, 0.97, 0.7, 0.63, 0.93, 0.98, 0.74, 0.7, 0.94, 0.81, 0.54, 0.85, 0.77, 0.96, 0.69, 0.9, 0.93, 0.73, 0.8, 0.55, 0.61, 0.47, 0.64, 0.67, 0.75, 0.9, 0.89, 0.93, 0.73, 0.8, 0.67, 0.63, 0.71, 0.82, 0.99, 0.86, 0.78, 0.93, 0.67, 0.83, 0.66, 0.89, 0.46, 0.62, 0.57, 0.74, 0.97, 0.63, 0.82, 0.71, 0.69, 0.72, 0.63, 1.0, 0.77, 0.77, 0.8, 0.84, 1.0, 0.54, 0.53, 0.7, 0.51, 0.6, 0.84, 0.72, 0.57, 0.69, 0.9, 0.99, 0.82, 0.64, 0.83, 0.91, 0.71, 0.81, 0.9, 0.64, 0.99, 0.71, 0.87, 0.74, 0.76, 0.86, 0.66, 0.98, 0.83, 0.96, 0.98, 0.99, 0.87, 0.7, 0.96, 0.71, 0.96, 0.75, 0.65, 0.89, 0.73, 1.0, 0.77, 0.99, 0.78, 0.95, 0.95, 0.93, 0.91, 0.74, 0.61, 0.66, 0.86, 0.68, 0.79, 0.67, 0.97, 0.52, 0.8, 0.98, 0.81, 0.9, 0.63, 0.71, 0.92, 1.0, 0.93, 0.97, 0.77, 0.74, 0.65, 0.93, 0.92, 0.74, 0.84, 0.72, 0.6, 0.69, 0.64, 0.96, 0.92, 0.95, 0.55, 0.79, 0.91, 0.95, 1.0, 0.73, 0.68, 0.94, 0.91, 0.68, 0.91, 0.83, 0.71, 0.9, 0.59, 0.93, 0.73, 0.96, 0.98, 0.67, 0.73, 0.93, 0.83, 0.97, 0.87, 0.92, 0.8, 0.67, 0.99, 0.65, 0.98, 0.73, 0.97, 0.63, 0.68, 0.7, 0.85, 0.72, 0.59, 0.93, 0.73, 0.5, 0.92, 0.78, 0.75, 0.95, 0.9, 0.7, 0.73, 0.74, 0.77, 0.66, 0.9, 0.77, 0.97, 0.49, 0.81, 0.85, 0.9, 0.69, 0.87, 0.85, 0.91, 0.58, 0.73, 0.6, 0.83, 0.68, 0.84, 0.92, 0.86, 0.98, 0.89, 0.5, 0.75, 0.77, 0.81, 0.74, 0.8, 0.43, 0.67, 0.74, 0.78, 0.79, 0.54, 0.92, 0.89, 0.78, 0.86, 0.79, 0.93, 0.81, 0.68, 0.98, 0.56, 1.0, 0.8, 0.88, 0.89, 0.75, 0.69, 0.84, 0.74, 0.68, 0.67, 0.54, 0.73, 0.67, 0.66, 0.77, 0.66, 0.85, 1.0, 0.72, 0.67, 0.72, 0.79, 0.54, 0.64, 0.84, 0.8, 0.96, 0.73, 0.64, 0.96, 0.63, 0.88, 0.64, 0.99, 0.65, 0.48, 0.77, 0.85, 0.93, 0.88, 0.66, 0.91, 0.96, 0.86, 0.78, 0.86, 0.99, 0.98, 0.84, 0.86, 0.98, 0.64, 0.53, 0.62, 0.58, 0.99, 0.82, 0.76, 0.68, 0.85, 0.66, 0.71, 0.75, 0.83, 0.89, 0.95, 0.84, 0.77, 0.98, 0.73, 0.74, 0.88, 0.92, 0.8, 0.5, 0.96, 0.82, 0.67, 0.75, 1.0, 0.73, 0.95, 0.79, 0.62, 0.97, 1.0, 0.76, 0.85, 0.72, 0.87, 0.98, 0.97, 0.86, 0.8, 0.39, 0.97, 0.73, 0.73, 0.93, 0.93, 0.64, 0.75, 0.82, 0.65, 0.91, 0.76, 0.7, 0.63, 0.94, 0.86, 1.0, 0.9, 0.66, 0.8, 0.69, 0.78, 0.63, 0.98, 0.99]}, {\"type\": \"scatter\", \"x\": [0.73, 0.903, 0.581, 0.733, 0.305, 0.653, 0.764, 0.292, 0.72, 0.8290000000000001, 0.249, 0.765, 0.685, 0.515, 0.784, 0.79, 0.449, 0.6559999999999999, 0.726, 0.306, 0.726, 0.319, 0.6559999999999999, 0.72, 0.618, 0.653, 0.37799999999999995, 0.598, 0.726, 0.67, 0.655, 0.807, 0.34, 0.8590000000000001, 0.9470000000000001, 0.743, 0.639, 0.659, 0.6890000000000001, 0.8759999999999999, 0.79, 0.6629999999999999, 0.26, 0.6920000000000001, 0.732, 0.815, 0.40399999999999997, 0.875, 0.7759999999999999, 0.366, 0.7290000000000001, 0.818, 0.621, 0.47600000000000003, 0.7120000000000001, 0.809, 0.6559999999999999, 0.5589999999999999, 0.778, 0.7929999999999999, 0.605, 0.9329999999999999, 0.7509999999999999, 0.757, 0.585, 0.6679999999999999, 0.665, 0.8390000000000001, 0.9279999999999999, 0.748, 0.619, 0.8690000000000001, 0.726, 0.7929999999999999, 0.495, 0.52, 0.812, 0.685, 0.753, 0.589, 0.47600000000000003, 0.519, 0.631, 0.6940000000000001, 0.731, 0.45799999999999996, 0.919, 0.507, 0.82, 0.42200000000000004, 0.865, 0.8540000000000001, 0.765, 0.767, 0.376, 0.708, 0.6729999999999999, 0.61, 0.634, 0.838, 0.706, 0.6729999999999999, 0.736, 0.804, 0.875, 0.787, 0.7020000000000001, 0.789, 0.85, 0.594, 0.802, 0.618, 0.599, 0.628, 0.95, 0.9229999999999999, 0.615, 0.434, 0.674, 0.828, 0.541, 0.287, 0.833, 0.7020000000000001, 0.616, 0.818, 0.38299999999999995, 0.647, 0.48700000000000004, 0.614, 0.685, 0.695, 0.818, 0.33399999999999996, 0.674, 0.752, 0.499, 0.40700000000000003, 0.815, 0.696, 0.816, 0.772, 0.6559999999999999, 0.6, 0.685, 0.67, 0.8009999999999999, 0.263, 0.726, 0.37, 0.6829999999999999, 0.41700000000000004, 0.662, 0.364, 0.5579999999999999, 0.664, 0.733, 0.636, 0.6609999999999999, 0.733, 0.958, 0.7929999999999999, 0.359, 0.888, 0.561, 0.379, 0.539, 0.512, 0.937, 0.721, 0.858, 0.5579999999999999, 0.397, 0.525, 0.736, 0.657, 0.7659999999999999, 0.716, 0.5579999999999999, 0.687, 0.556, 0.8190000000000001, 0.77, 0.763, 0.63, 0.43200000000000005, 0.647, 0.6459999999999999, 0.86, 0.6920000000000001, 0.359, 0.705, 0.688, 0.7909999999999999, 0.823, 0.545, 0.5710000000000001, 0.5589999999999999, 0.8190000000000001, 0.753, 0.618, 0.648, 0.706, 0.502, 0.938, 0.83, 0.46, 0.628, 0.828, 0.669, 0.755, 0.451, 0.626, 0.42100000000000004, 0.6859999999999999, 0.693, 0.266, 0.815, 0.419, 0.836, 0.611, 0.615, 0.769, 0.47, 0.868, 0.72, 0.664, 0.405, 0.631, 0.7809999999999999, 0.586, 0.6609999999999999, 0.708, 0.745, 0.898, 0.758, 0.8859999999999999, 0.777, 0.941, 0.687, 0.418, 0.7559999999999999, 0.615, 0.825, 0.642, 0.57, 0.614, 0.736, 0.5589999999999999, 0.828, 0.6859999999999999, 0.607, 0.7390000000000001, 0.792, 0.7070000000000001, 0.8740000000000001, 0.569, 0.78, 0.616, 0.32, 0.231, 0.875, 0.758, 0.805, 0.679, 0.731, 0.625, 0.857, 0.48700000000000004, 0.6940000000000001, 0.861, 0.455, 0.858, 0.748, 0.779, 0.716, 0.37, 0.805, 0.511, 0.825, 0.5589999999999999, 0.47200000000000003, 0.7859999999999999, 0.287, 0.841, 0.645, 0.6859999999999999, 0.6920000000000001, 0.8740000000000001, 0.765, 0.7, 0.757, 0.759, 0.826, 0.562, 0.7120000000000001, 0.8320000000000001, 0.9059999999999999, 0.835, 0.8109999999999999, 0.195, 0.653, 0.792, 0.78, 0.6970000000000001, 0.7040000000000001, 0.831, 0.659, 0.581, 0.545, 0.741, 0.727, 0.6409999999999999, 0.773, 0.547, 0.677, 0.276, 0.866, 0.759, 0.505, 0.611, 0.294, 0.889, 0.9229999999999999, 0.7759999999999999, 0.5870000000000001, 0.39399999999999996, 0.764, 0.6509999999999999, 0.213, 0.39299999999999996, 0.521, 0.802, 0.511, 0.833, 0.825, 0.95, 0.907, 0.259, 0.732, 0.743, 0.813, 0.621, 0.36700000000000005, 0.741, 0.605, 0.8320000000000001, 0.43, 0.6729999999999999, 0.693, 0.785, 0.77, 0.8440000000000001, 0.8490000000000001, 0.447, 0.7709999999999999, 0.953, 0.8370000000000001, 0.377, 0.536, 0.708, 0.624, 0.35100000000000003, 0.83, 0.619, 0.847, 0.955, 0.7190000000000001, 0.26, 0.711, 0.506, 0.7559999999999999, 0.726, 0.381, 0.6809999999999999, 0.795, 0.45399999999999996, 0.953, 0.312, 0.589, 0.557, 0.376, 0.747, 0.78, 0.7490000000000001, 0.7659999999999999, 0.664, 0.284, 0.648, 0.7879999999999999, 0.818, 0.35100000000000003, 0.418, 0.46, 0.608, 0.677, 0.8140000000000001, 0.8320000000000001, 0.485, 0.792, 0.43, 0.363], \"y\": [0.7580807124723465, 0.6730475009433319, 0.8313174091071627, 0.7566061481105717, 0.9669773303904461, 0.7959278644245669, 0.7413689830388985, 0.9733671092914703, 0.7629959270115959, 0.7094200885337774, 0.9945025318102427, 0.7408774615849736, 0.7801991778989688, 0.8637578250662086, 0.7315385539603998, 0.7285894252368501, 0.8961982410252547, 0.7944533000627921, 0.7600467982880463, 0.9664858089365211, 0.7600467982880463, 0.9600960300354968, 0.7944533000627921, 0.7629959270115959, 0.8131311153119398, 0.7959278644245669, 0.9310962642539254, 0.8229615443904386, 0.7600467982880463, 0.787571999707843, 0.794944821516717, 0.7202335605201261, 0.9497740795030731, 0.6946744449160291, 0.6514205569706345, 0.7516909335713223, 0.8028091647795161, 0.7929787357010172, 0.778233092083269, 0.6863185801993053, 0.7285894252368501, 0.7910126498853176, 0.9890957958170683, 0.7767585277214942, 0.7570976695644966, 0.7163013888887266, 0.918316706451877, 0.6868101016532302, 0.7354707255917994, 0.9369945217010247, 0.7585722339262715, 0.7148268245269518, 0.811656550950165, 0.8829271617692813, 0.7669280986429954, 0.7192505176122762, 0.7944533000627921, 0.8421308810935113, 0.7344876826839494, 0.7271148608750753, 0.819520894212964, 0.6583018573255837, 0.7477587619399229, 0.7448096332163732, 0.8293513232914629, 0.7885550426156929, 0.7900296069774676, 0.704504873994528, 0.6607594645952084, 0.7492333263016976, 0.8126395938580149, 0.6897592303767798, 0.7600467982880463, 0.7271148608750753, 0.8735882541447074, 0.861300217796584, 0.7177759532505015, 0.7801991778989688, 0.746775719032073, 0.8273852374757631, 0.8829271617692813, 0.8617917392505089, 0.8067413364109156, 0.7757754848136443, 0.7575891910184216, 0.8917745479399303, 0.6651831576805328, 0.8676899966976082, 0.7138437816191019, 0.9094693202812281, 0.6917253161924797, 0.6971320521856539, 0.7408774615849736, 0.7398944186771237, 0.9320793071617753, 0.7688941844586952, 0.7860974353460681, 0.8170632869433394, 0.8052667720491408, 0.704996395448453, 0.7698772273665451, 0.7860974353460681, 0.7551315837487969, 0.721708124881901, 0.6868101016532302, 0.730063989598625, 0.7718433131822449, 0.7290809466907751, 0.6990981380013537, 0.8249276302061384, 0.7226911677897507, 0.8131311153119398, 0.8224700229365136, 0.8082159007726903, 0.6499459926088598, 0.6632170718648331, 0.8146056796737147, 0.9035710628341288, 0.7856059138921432, 0.7099116099877024, 0.8509782672641601, 0.9758247165610949, 0.7074540027180778, 0.7718433131822449, 0.8141141582197897, 0.7148268245269518, 0.9286386569843008, 0.7988769931481166, 0.8775204257761069, 0.8150972011276396, 0.7801991778989688, 0.7752839633597195, 0.7148268245269518, 0.9527232082266228, 0.7856059138921432, 0.7472672404859979, 0.8716221683290077, 0.9168421420901022, 0.7163013888887266, 0.7747924419057945, 0.7158098674348017, 0.737436811407499, 0.7944533000627921, 0.8219785014825887, 0.7801991778989688, 0.787571999707843, 0.7231826892436758, 0.9876212314552935, 0.7600467982880463, 0.9350284358853249, 0.7811822208068188, 0.9119269275508528, 0.7915041713392424, 0.9379775646088746, 0.8426224025474363, 0.7905211284313926, 0.7566061481105717, 0.8042837291412909, 0.7919956927931675, 0.7566061481105717, 0.6460138209774602, 0.7271148608750753, 0.9404351718784993, 0.680420322752206, 0.8411478381856614, 0.9306047428000005, 0.85196131017201, 0.8652323894279834, 0.6563357715098839, 0.7625044055576711, 0.6951659663699542, 0.8426224025474363, 0.9217573566293515, 0.8588426105269592, 0.7551315837487969, 0.7939617786088671, 0.7403859401310487, 0.7649620128272957, 0.8426224025474363, 0.7792161349911189, 0.8436054454552862, 0.7143353030730268, 0.7384198543153488, 0.7418605044928235, 0.8072328578648404, 0.9045541057419786, 0.7988769931481166, 0.7993685146020415, 0.6941829234621043, 0.7767585277214942, 0.9404351718784993, 0.77036874882047, 0.778724613537194, 0.7280979037829252, 0.712369217257327, 0.8490121814484604, 0.8362326236464119, 0.8421308810935113, 0.7143353030730268, 0.746775719032073, 0.8131311153119398, 0.7983854716941916, 0.7698772273665451, 0.8701476039672329, 0.655844250055959, 0.7089285670798525, 0.8907915050320803, 0.8082159007726903, 0.7099116099877024, 0.7880635211617679, 0.7457926761242231, 0.8952151981174048, 0.8091989436805402, 0.909960841735153, 0.7797076564450439, 0.7762670062675694, 0.9861466670935187, 0.7163013888887266, 0.9109438846430029, 0.705979438356303, 0.8165717654894145, 0.8146056796737147, 0.7389113757692738, 0.885876290492831, 0.6902507518307048, 0.7629959270115959, 0.7905211284313926, 0.9178251849979521, 0.8067413364109156, 0.7330131183221746, 0.8288598018375379, 0.7919956927931675, 0.7688941844586952, 0.7507078906634724, 0.6755051082129566, 0.7443181117624482, 0.681403365660056, 0.7349792041378743, 0.6543696856941842, 0.7792161349911189, 0.9114354060969279, 0.7453011546702981, 0.8146056796737147, 0.7113861743494773, 0.8013346004177413, 0.8367241451003369, 0.8150972011276396, 0.7551315837487969, 0.8421308810935113, 0.7099116099877024, 0.7797076564450439, 0.8185378513051141, 0.753657019387022, 0.7276063823290002, 0.7693857059126201, 0.6873016231071551, 0.8372156665542618, 0.7335046397760996, 0.8141141582197897, 0.959604508581572, 1.0033499179808916, 0.6868101016532302, 0.7443181117624482, 0.721216603427976, 0.7831483066225184, 0.7575891910184216, 0.8096904651344652, 0.6956574878238792, 0.8775204257761069, 0.7757754848136443, 0.6936914020081794, 0.893249112301705, 0.6951659663699542, 0.7492333263016976, 0.7339961612300244, 0.7649620128272957, 0.9350284358853249, 0.721216603427976, 0.8657239108819084, 0.7113861743494773, 0.8421308810935113, 0.8848932475849811, 0.7305555110525499, 0.9758247165610949, 0.7035218310866782, 0.7998600360559665, 0.7797076564450439, 0.7767585277214942, 0.6873016231071551, 0.7408774615849736, 0.7728263560900948, 0.7448096332163732, 0.7438265903085233, 0.7108946528955523, 0.8406563167317365, 0.7669280986429954, 0.7079455241720025, 0.671572936581557, 0.7064709598102279, 0.7182674747044264, 1.0210446903221895, 0.7959278644245669, 0.7276063823290002, 0.7335046397760996, 0.7743009204518695, 0.770860270274395, 0.7084370456259276, 0.7929787357010172, 0.8313174091071627, 0.8490121814484604, 0.7526739764791721, 0.7595552768341214, 0.8018261218716662, 0.7369452899535741, 0.8480291385406105, 0.7841313495303683, 0.9812314525542694, 0.6912337947385547, 0.7438265903085233, 0.868673039605458, 0.8165717654894145, 0.9723840663836204, 0.679928801298281, 0.6632170718648331, 0.7354707255917994, 0.828368280383613, 0.9232319209911264, 0.7413689830388985, 0.7969109073324168, 1.0121973041515406, 0.9237234424450513, 0.860808696342659, 0.7226911677897507, 0.8657239108819084, 0.7074540027180778, 0.7113861743494773, 0.6499459926088598, 0.6710814151276321, 0.9895873172709932, 0.7570976695644966, 0.7516909335713223, 0.7172844317965765, 0.811656550950165, 0.9365030002470998, 0.7526739764791721, 0.819520894212964, 0.7079455241720025, 0.9055371486498285, 0.7860974353460681, 0.7762670062675694, 0.7310470325064748, 0.7384198543153488, 0.7020472667249034, 0.6995896594552786, 0.8971812839331046, 0.737928332861424, 0.6484714282470849, 0.7054879169023779, 0.9315877857078504, 0.8534358745337849, 0.7688941844586952, 0.8101819865883901, 0.9443673435098988, 0.7089285670798525, 0.8126395938580149, 0.7005727023631285, 0.647488385339235, 0.7634874484655207, 0.9890957958170683, 0.7674196200969203, 0.8681815181515331, 0.7453011546702981, 0.7600467982880463, 0.9296216998921506, 0.7821652637146685, 0.7261318179672254, 0.89374063375563, 0.6484714282470849, 0.9635366802129715, 0.8273852374757631, 0.8431139240013612, 0.9320793071617753, 0.7497248477556225, 0.7335046397760996, 0.7487418048477725, 0.7403859401310487, 0.7905211284313926, 0.9772992809228698, 0.7983854716941916, 0.7295724681447, 0.7148268245269518, 0.9443673435098988, 0.9114354060969279, 0.8907915050320803, 0.8180463298511892, 0.7841313495303683, 0.7167929103426516, 0.7079455241720025, 0.8785034686839568, 0.7276063823290002, 0.9055371486498285, 0.9384690860627996]}],\n",
       "                        {\"template\": {\"data\": {\"bar\": [{\"error_x\": {\"color\": \"#2a3f5f\"}, \"error_y\": {\"color\": \"#2a3f5f\"}, \"marker\": {\"line\": {\"color\": \"#E5ECF6\", \"width\": 0.5}}, \"type\": \"bar\"}], \"barpolar\": [{\"marker\": {\"line\": {\"color\": \"#E5ECF6\", \"width\": 0.5}}, \"type\": \"barpolar\"}], \"carpet\": [{\"aaxis\": {\"endlinecolor\": \"#2a3f5f\", \"gridcolor\": \"white\", \"linecolor\": \"white\", \"minorgridcolor\": \"white\", \"startlinecolor\": \"#2a3f5f\"}, \"baxis\": {\"endlinecolor\": \"#2a3f5f\", \"gridcolor\": \"white\", \"linecolor\": \"white\", \"minorgridcolor\": \"white\", \"startlinecolor\": \"#2a3f5f\"}, \"type\": \"carpet\"}], \"choropleth\": [{\"colorbar\": {\"outlinewidth\": 0, \"ticks\": \"\"}, \"type\": \"choropleth\"}], \"contour\": [{\"colorbar\": {\"outlinewidth\": 0, \"ticks\": \"\"}, \"colorscale\": [[0.0, \"#0d0887\"], [0.1111111111111111, \"#46039f\"], [0.2222222222222222, \"#7201a8\"], [0.3333333333333333, \"#9c179e\"], [0.4444444444444444, \"#bd3786\"], [0.5555555555555556, \"#d8576b\"], [0.6666666666666666, \"#ed7953\"], [0.7777777777777778, \"#fb9f3a\"], [0.8888888888888888, \"#fdca26\"], [1.0, \"#f0f921\"]], \"type\": \"contour\"}], \"contourcarpet\": [{\"colorbar\": {\"outlinewidth\": 0, \"ticks\": \"\"}, \"type\": \"contourcarpet\"}], \"heatmap\": [{\"colorbar\": {\"outlinewidth\": 0, \"ticks\": \"\"}, \"colorscale\": [[0.0, \"#0d0887\"], [0.1111111111111111, \"#46039f\"], [0.2222222222222222, \"#7201a8\"], [0.3333333333333333, \"#9c179e\"], [0.4444444444444444, \"#bd3786\"], [0.5555555555555556, \"#d8576b\"], [0.6666666666666666, \"#ed7953\"], [0.7777777777777778, \"#fb9f3a\"], [0.8888888888888888, \"#fdca26\"], [1.0, \"#f0f921\"]], \"type\": \"heatmap\"}], \"heatmapgl\": [{\"colorbar\": {\"outlinewidth\": 0, \"ticks\": \"\"}, \"colorscale\": [[0.0, \"#0d0887\"], [0.1111111111111111, \"#46039f\"], [0.2222222222222222, \"#7201a8\"], [0.3333333333333333, \"#9c179e\"], [0.4444444444444444, \"#bd3786\"], [0.5555555555555556, \"#d8576b\"], [0.6666666666666666, \"#ed7953\"], [0.7777777777777778, \"#fb9f3a\"], [0.8888888888888888, \"#fdca26\"], [1.0, \"#f0f921\"]], \"type\": \"heatmapgl\"}], \"histogram\": [{\"marker\": {\"colorbar\": {\"outlinewidth\": 0, \"ticks\": \"\"}}, \"type\": \"histogram\"}], \"histogram2d\": [{\"colorbar\": {\"outlinewidth\": 0, \"ticks\": \"\"}, \"colorscale\": [[0.0, \"#0d0887\"], [0.1111111111111111, \"#46039f\"], [0.2222222222222222, \"#7201a8\"], [0.3333333333333333, \"#9c179e\"], [0.4444444444444444, \"#bd3786\"], [0.5555555555555556, \"#d8576b\"], [0.6666666666666666, \"#ed7953\"], [0.7777777777777778, \"#fb9f3a\"], [0.8888888888888888, \"#fdca26\"], [1.0, \"#f0f921\"]], \"type\": \"histogram2d\"}], \"histogram2dcontour\": [{\"colorbar\": {\"outlinewidth\": 0, \"ticks\": \"\"}, \"colorscale\": [[0.0, \"#0d0887\"], [0.1111111111111111, \"#46039f\"], [0.2222222222222222, \"#7201a8\"], [0.3333333333333333, \"#9c179e\"], [0.4444444444444444, \"#bd3786\"], [0.5555555555555556, \"#d8576b\"], [0.6666666666666666, \"#ed7953\"], [0.7777777777777778, \"#fb9f3a\"], [0.8888888888888888, \"#fdca26\"], [1.0, \"#f0f921\"]], \"type\": \"histogram2dcontour\"}], \"mesh3d\": [{\"colorbar\": {\"outlinewidth\": 0, \"ticks\": \"\"}, \"type\": \"mesh3d\"}], \"parcoords\": [{\"line\": {\"colorbar\": {\"outlinewidth\": 0, \"ticks\": \"\"}}, \"type\": \"parcoords\"}], \"pie\": [{\"automargin\": true, \"type\": \"pie\"}], \"scatter\": [{\"marker\": {\"colorbar\": {\"outlinewidth\": 0, \"ticks\": \"\"}}, \"type\": \"scatter\"}], \"scatter3d\": [{\"line\": {\"colorbar\": {\"outlinewidth\": 0, \"ticks\": \"\"}}, \"marker\": {\"colorbar\": {\"outlinewidth\": 0, \"ticks\": \"\"}}, \"type\": \"scatter3d\"}], \"scattercarpet\": [{\"marker\": {\"colorbar\": {\"outlinewidth\": 0, \"ticks\": \"\"}}, \"type\": \"scattercarpet\"}], \"scattergeo\": [{\"marker\": {\"colorbar\": {\"outlinewidth\": 0, \"ticks\": \"\"}}, \"type\": \"scattergeo\"}], \"scattergl\": [{\"marker\": {\"colorbar\": {\"outlinewidth\": 0, \"ticks\": \"\"}}, \"type\": \"scattergl\"}], \"scattermapbox\": [{\"marker\": {\"colorbar\": {\"outlinewidth\": 0, \"ticks\": \"\"}}, \"type\": \"scattermapbox\"}], \"scatterpolar\": [{\"marker\": {\"colorbar\": {\"outlinewidth\": 0, \"ticks\": \"\"}}, \"type\": \"scatterpolar\"}], \"scatterpolargl\": [{\"marker\": {\"colorbar\": {\"outlinewidth\": 0, \"ticks\": \"\"}}, \"type\": \"scatterpolargl\"}], \"scatterternary\": [{\"marker\": {\"colorbar\": {\"outlinewidth\": 0, \"ticks\": \"\"}}, \"type\": \"scatterternary\"}], \"surface\": [{\"colorbar\": {\"outlinewidth\": 0, \"ticks\": \"\"}, \"colorscale\": [[0.0, \"#0d0887\"], [0.1111111111111111, \"#46039f\"], [0.2222222222222222, \"#7201a8\"], [0.3333333333333333, \"#9c179e\"], [0.4444444444444444, \"#bd3786\"], [0.5555555555555556, \"#d8576b\"], [0.6666666666666666, \"#ed7953\"], [0.7777777777777778, \"#fb9f3a\"], [0.8888888888888888, \"#fdca26\"], [1.0, \"#f0f921\"]], \"type\": \"surface\"}], \"table\": [{\"cells\": {\"fill\": {\"color\": \"#EBF0F8\"}, \"line\": {\"color\": \"white\"}}, \"header\": {\"fill\": {\"color\": \"#C8D4E3\"}, \"line\": {\"color\": \"white\"}}, \"type\": \"table\"}]}, \"layout\": {\"annotationdefaults\": {\"arrowcolor\": \"#2a3f5f\", \"arrowhead\": 0, \"arrowwidth\": 1}, \"coloraxis\": {\"colorbar\": {\"outlinewidth\": 0, \"ticks\": \"\"}}, \"colorscale\": {\"diverging\": [[0, \"#8e0152\"], [0.1, \"#c51b7d\"], [0.2, \"#de77ae\"], [0.3, \"#f1b6da\"], [0.4, \"#fde0ef\"], [0.5, \"#f7f7f7\"], [0.6, \"#e6f5d0\"], [0.7, \"#b8e186\"], [0.8, \"#7fbc41\"], [0.9, \"#4d9221\"], [1, \"#276419\"]], \"sequential\": [[0.0, \"#0d0887\"], [0.1111111111111111, \"#46039f\"], [0.2222222222222222, \"#7201a8\"], [0.3333333333333333, \"#9c179e\"], [0.4444444444444444, \"#bd3786\"], [0.5555555555555556, \"#d8576b\"], [0.6666666666666666, \"#ed7953\"], [0.7777777777777778, \"#fb9f3a\"], [0.8888888888888888, \"#fdca26\"], [1.0, \"#f0f921\"]], \"sequentialminus\": [[0.0, \"#0d0887\"], [0.1111111111111111, \"#46039f\"], [0.2222222222222222, \"#7201a8\"], [0.3333333333333333, \"#9c179e\"], [0.4444444444444444, \"#bd3786\"], [0.5555555555555556, \"#d8576b\"], [0.6666666666666666, \"#ed7953\"], [0.7777777777777778, \"#fb9f3a\"], [0.8888888888888888, \"#fdca26\"], [1.0, \"#f0f921\"]]}, \"colorway\": [\"#636efa\", \"#EF553B\", \"#00cc96\", \"#ab63fa\", \"#FFA15A\", \"#19d3f3\", \"#FF6692\", \"#B6E880\", \"#FF97FF\", \"#FECB52\"], \"font\": {\"color\": \"#2a3f5f\"}, \"geo\": {\"bgcolor\": \"white\", \"lakecolor\": \"white\", \"landcolor\": \"#E5ECF6\", \"showlakes\": true, \"showland\": true, \"subunitcolor\": \"white\"}, \"hoverlabel\": {\"align\": \"left\"}, \"hovermode\": \"closest\", \"mapbox\": {\"style\": \"light\"}, \"paper_bgcolor\": \"white\", \"plot_bgcolor\": \"#E5ECF6\", \"polar\": {\"angularaxis\": {\"gridcolor\": \"white\", \"linecolor\": \"white\", \"ticks\": \"\"}, \"bgcolor\": \"#E5ECF6\", \"radialaxis\": {\"gridcolor\": \"white\", \"linecolor\": \"white\", \"ticks\": \"\"}}, \"scene\": {\"xaxis\": {\"backgroundcolor\": \"#E5ECF6\", \"gridcolor\": \"white\", \"gridwidth\": 2, \"linecolor\": \"white\", \"showbackground\": true, \"ticks\": \"\", \"zerolinecolor\": \"white\"}, \"yaxis\": {\"backgroundcolor\": \"#E5ECF6\", \"gridcolor\": \"white\", \"gridwidth\": 2, \"linecolor\": \"white\", \"showbackground\": true, \"ticks\": \"\", \"zerolinecolor\": \"white\"}, \"zaxis\": {\"backgroundcolor\": \"#E5ECF6\", \"gridcolor\": \"white\", \"gridwidth\": 2, \"linecolor\": \"white\", \"showbackground\": true, \"ticks\": \"\", \"zerolinecolor\": \"white\"}}, \"shapedefaults\": {\"line\": {\"color\": \"#2a3f5f\"}}, \"ternary\": {\"aaxis\": {\"gridcolor\": \"white\", \"linecolor\": \"white\", \"ticks\": \"\"}, \"baxis\": {\"gridcolor\": \"white\", \"linecolor\": \"white\", \"ticks\": \"\"}, \"bgcolor\": \"#E5ECF6\", \"caxis\": {\"gridcolor\": \"white\", \"linecolor\": \"white\", \"ticks\": \"\"}}, \"title\": {\"x\": 0.05}, \"xaxis\": {\"automargin\": true, \"gridcolor\": \"white\", \"linecolor\": \"white\", \"ticks\": \"\", \"title\": {\"standoff\": 15}, \"zerolinecolor\": \"white\", \"zerolinewidth\": 2}, \"yaxis\": {\"automargin\": true, \"gridcolor\": \"white\", \"linecolor\": \"white\", \"ticks\": \"\", \"title\": {\"standoff\": 15}, \"zerolinecolor\": \"white\", \"zerolinewidth\": 2}}}, \"title\": {\"text\": \"Graduation Rate & Economic Need\"}, \"xaxis\": {\"title\": {\"text\": \"economic need index\"}}, \"yaxis\": {\"title\": {\"text\": \"graduation rate\"}}},\n",
       "                        {\"responsive\": true}\n",
       "                    ).then(function(){\n",
       "                            \n",
       "var gd = document.getElementById('241e969c-c1b0-473f-a9b8-05dc0fab017b');\n",
       "var x = new MutationObserver(function (mutations, observer) {{\n",
       "        var display = window.getComputedStyle(gd).display;\n",
       "        if (!display || display === 'none') {{\n",
       "            console.log([gd, 'removed!']);\n",
       "            Plotly.purge(gd);\n",
       "            observer.disconnect();\n",
       "        }}\n",
       "}});\n",
       "\n",
       "// Listen for the removal of the full notebook cells\n",
       "var notebookContainer = gd.closest('#notebook-container');\n",
       "if (notebookContainer) {{\n",
       "    x.observe(notebookContainer, {childList: true});\n",
       "}}\n",
       "\n",
       "// Listen for the clearing of the current output cell\n",
       "var outputEl = gd.closest('.output');\n",
       "if (outputEl) {{\n",
       "    x.observe(outputEl, {childList: true});\n",
       "}}\n",
       "\n",
       "                        })\n",
       "                };\n",
       "                });\n",
       "            </script>\n",
       "        </div>"
      ]
     },
     "metadata": {},
     "output_type": "display_data"
    }
   ],
   "source": [
    "import plotly.graph_objects as go\n",
    "predictions_trace = go.Scatter(x = X.iloc[:, 0], y = predictions)\n",
    "observed_trace = go.Scatter(x = X.iloc[:, 0], y = y, mode = 'markers')\n",
    "layout = {'title': 'Graduation Rate & Economic Need', 'xaxis': {'title': 'economic need index'}, 'yaxis': {'title': 'graduation rate'}}\n",
    "go.Figure(data = [observed_trace, predictions_trace], layout = layout)"
   ]
  },
  {
   "cell_type": "code",
   "execution_count": 91,
   "metadata": {},
   "outputs": [
    {
     "data": {
      "text/plain": [
       "0.3710326971092214"
      ]
     },
     "execution_count": 91,
     "metadata": {},
     "output_type": "execute_result"
    }
   ],
   "source": [
    "model.score(X, y)"
   ]
  },
  {
   "cell_type": "markdown",
   "metadata": {},
   "source": [
    "### Resources\n",
    "* [17 School Quality Report](https://data.cityofnewyork.us/Education/2017-School-Quality-Report/cxrn-zyvb)\n",
    "* [16-17 Quality Report](https://data.cityofnewyork.us/Education/2016-2017-School-Quality-Report-Results-for-High-S/ewhs-k7um)"
   ]
  },
  {
   "cell_type": "markdown",
   "metadata": {},
   "source": [
    "[HS directory](https://data.cityofnewyork.us/Education/2019-DOE-High-School-Directory/uq7m-95z8)"
   ]
  },
  {
   "cell_type": "code",
   "execution_count": null,
   "metadata": {},
   "outputs": [],
   "source": []
  }
 ],
 "metadata": {
  "kernelspec": {
   "display_name": "Python 3",
   "language": "python",
   "name": "python3"
  },
  "language_info": {
   "codemirror_mode": {
    "name": "ipython",
    "version": 3
   },
   "file_extension": ".py",
   "mimetype": "text/x-python",
   "name": "python",
   "nbconvert_exporter": "python",
   "pygments_lexer": "ipython3",
   "version": "3.7.4"
  }
 },
 "nbformat": 4,
 "nbformat_minor": 4
}
