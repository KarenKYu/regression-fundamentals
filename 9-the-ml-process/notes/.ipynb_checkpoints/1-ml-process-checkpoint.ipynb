{
 "cells": [
  {
   "cell_type": "markdown",
   "metadata": {},
   "source": [
    "### Introduction"
   ]
  },
  {
   "cell_type": "markdown",
   "metadata": {},
   "source": [
    "Through our brief tour of linear regression, we explored the steps that define any machine learning algorithm.  A machine learning algorithm:\n",
    "\n",
    "* uses **data** \n",
    "* to find the parameters of a **hypothesis function**\n",
    "* that minimize the output of our **loss function**\n",
    "* by using an **optimization procedure**\n",
    "\n",
    "Let's review each of these components in turn, starting with the data."
   ]
  },
  {
   "cell_type": "markdown",
   "metadata": {},
   "source": [
    "### 1. Gather the data\n",
    "\n",
    "\n",
    "Whenever we are faced with a machine learning algorithm, our first step is to gather data related to the outcome we are trying to predict.  In our previous example, that outcome was the T-shirt sales.  How many T-shirt sales would be sold in the next month.  For the purpose of keeping our model simple, we only considered as an input the amount spent on advertising to predict T-shirt sales.  The other component that we looked at were the *answers* - that is we looked at the related monthly sales for each of the campaigns."
   ]
  },
  {
   "cell_type": "markdown",
   "metadata": {},
   "source": [
    "> Caveat: We only look at the *answers* in supervised learning problems.  But it's ok to ignore that distinction for now, supervised learning is the main type of machine learning we will explore in this course, and we'll explain the distinction further down the line."
   ]
  },
  {
   "cell_type": "markdown",
   "metadata": {},
   "source": [
    "This is our data of the inputs and the related outputs of our observed data."
   ]
  },
  {
   "cell_type": "markdown",
   "metadata": {},
   "source": [
    "| spending        | t-shirts           \n",
    "| ------------- |:-------------:| \n",
    "|    2000        |380  | \n",
    "|    3500        |445 | \n",
    "|    4000      | 490 | "
   ]
  },
  {
   "cell_type": "markdown",
   "metadata": {},
   "source": [
    "We'll call this data our **training data**."
   ]
  },
  {
   "cell_type": "markdown",
   "metadata": {},
   "source": [
    "The first step of in machine learning is to gather our training data.  \n",
    "\n",
    "> Our **training data** is a set of previous examples or observations, almost like a series of experiments.  \n",
    "\n",
    "Our training data includes: \n",
    "\n",
    "1. Potential inputs to what we are trying to predict, and \n",
    "2. The past outcomes associated with these different inputs"
   ]
  },
  {
   "cell_type": "markdown",
   "metadata": {},
   "source": [
    "| input        | output           \n",
    "| ------------- |:-------------:| \n",
    "|    past input 1        | past outcome 1 | \n",
    "|    past input 2        | past outcome 2 | "
   ]
  },
  {
   "cell_type": "markdown",
   "metadata": {},
   "source": [
    "Another word we'll use for training data is **observations**.  So the first row of our `spending` `t-shirts` chart contains our first *observation*, where we observed spending of 2000 and sales of 380."
   ]
  }
 ],
 "metadata": {
  "kernelspec": {
   "display_name": "Python 3",
   "language": "python",
   "name": "python3"
  },
  "language_info": {
   "codemirror_mode": {
    "name": "ipython",
    "version": 3
   },
   "file_extension": ".py",
   "mimetype": "text/x-python",
   "name": "python",
   "nbconvert_exporter": "python",
   "pygments_lexer": "ipython3",
   "version": "3.7.3"
  }
 },
 "nbformat": 4,
 "nbformat_minor": 2
}
