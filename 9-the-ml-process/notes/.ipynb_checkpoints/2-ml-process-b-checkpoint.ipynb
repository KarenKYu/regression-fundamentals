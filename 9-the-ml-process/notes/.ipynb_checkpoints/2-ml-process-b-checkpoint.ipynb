{
 "cells": [
  {
   "cell_type": "markdown",
   "metadata": {},
   "source": [
    "So looking at the input data of ad spending and the outputs of the sales, there does appear to be an association between the two.  Let's come up with a hypothesis function.  \n",
    "\n",
    "> Our **hypothesis function** takes in inputs of our training data, and *comes close* to returning the observed outputs. "
   ]
  },
  {
   "cell_type": "markdown",
   "metadata": {},
   "source": [
    "In simple linear regression, the hypothesis function is just the simple linear regression formula $y = mx + b$.  This makes sense as this  formula generates different *hypotheses* as to the number of t-shirts that will be sold for each amount of ad-spending."
   ]
  },
  {
   "cell_type": "markdown",
   "metadata": {},
   "source": [
    "Now normally we'll use a computer program to create a hypothesis function.  But, for now, let's just guess the relationship and write it down.  Here's our guess:"
   ]
  },
  {
   "cell_type": "markdown",
   "metadata": {},
   "source": [
    "$$ tshirts\\_sold =.15∗ad\\_spend $$"
   ]
  },
  {
   "cell_type": "markdown",
   "metadata": {},
   "source": [
    "#### B. Evaluate that hypothesis function"
   ]
  },
  {
   "cell_type": "markdown",
   "metadata": {},
   "source": [
    "To tell whether this hypothesis function is any good, we take a look at how it would perform against our training data from our table.\n",
    "\n",
    "We do this by comparing what our the sales predictions of our model to what we actually observed.  We get the predictions by inputting our ad_spend amounts into our hypothesis function.  We'll add this to a column next to the actual sales results."
   ]
  },
  {
   "cell_type": "markdown",
   "metadata": {},
   "source": [
    "| spending        | actual t-shirt sales | expected t-shirt sales           \n",
    "| ------------- |:-------------:| :-------------:| \n",
    "|    2000        |260  | 300  | \n",
    "|    3500        |445 | 525 | \n",
    "|    4000      | 490 | 600 | "
   ]
  },
  {
   "cell_type": "markdown",
   "metadata": {},
   "source": [
    "And we can plot the predictions of our hypothesis function alongside our actual data."
   ]
  }
 ],
 "metadata": {
  "kernelspec": {
   "display_name": "Python 3",
   "language": "python",
   "name": "python3"
  },
  "language_info": {
   "codemirror_mode": {
    "name": "ipython",
    "version": 3
   },
   "file_extension": ".py",
   "mimetype": "text/x-python",
   "name": "python",
   "nbconvert_exporter": "python",
   "pygments_lexer": "ipython3",
   "version": "3.7.3"
  }
 },
 "nbformat": 4,
 "nbformat_minor": 2
}
