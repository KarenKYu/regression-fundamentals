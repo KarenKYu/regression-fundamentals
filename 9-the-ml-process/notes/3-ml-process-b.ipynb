{
 "cells": [
  {
   "cell_type": "markdown",
   "metadata": {},
   "source": [
    "### That's it"
   ]
  },
  {
   "cell_type": "markdown",
   "metadata": {},
   "source": [
    "The canonical machine learning optimization problem is to: \n",
    "> use data to find the parameters of a hypothesis function such that we minimize the output of our loss function.  \n",
    "\n",
    "Or to put it in terms of our graph above and formula $   distance=40∗angle $, we want to change the our line such that it predicts outcomes that as close as possible to the actual observed distances.  Now in this lesson, we were introduced to **training data** a **hypothesis function** and a **loss function**.  In later lessons, we'll go through each of these steps in turn to better understand how machine learning algorithms work."
   ]
  }
 ],
 "metadata": {
  "kernelspec": {
   "display_name": "Python 3",
   "language": "python",
   "name": "python3"
  },
  "language_info": {
   "codemirror_mode": {
    "name": "ipython",
    "version": 3
   },
   "file_extension": ".py",
   "mimetype": "text/x-python",
   "name": "python",
   "nbconvert_exporter": "python",
   "pygments_lexer": "ipython3",
   "version": "3.7.3"
  }
 },
 "nbformat": 4,
 "nbformat_minor": 2
}
